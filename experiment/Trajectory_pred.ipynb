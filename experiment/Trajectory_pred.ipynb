{
 "cells": [
  {
   "cell_type": "code",
   "execution_count": 28,
   "id": "8efecab1-9b83-438c-a15d-aff46d27381b",
   "metadata": {},
   "outputs": [],
   "source": [
    "from sklearn.preprocessing import MinMaxScaler\n",
    "from sklearn.model_selection import train_test_split\n",
    "from sklearn.metrics import mean_squared_error\n",
    "from shapely.geometry import Point\n",
    "from datetime import timedelta\n",
    "from pymeos import *\n",
    "\n",
    "import geopandas as gpd\n",
    "import movingpandas as mpd\n",
    "import pandas as pd\n",
    "import tensorflow as tf\n",
    "import numpy as np\n",
    "import matplotlib.pyplot as plt\n",
    "\n",
    "pymeos_initialize()"
   ]
  },
  {
   "cell_type": "code",
   "execution_count": 29,
   "id": "2f5b316f-f432-4749-86bb-168424067dd3",
   "metadata": {},
   "outputs": [],
   "source": [
    "def create_point(row):\n",
    "    return TGeogPointInst(string=f\"{row['geometry']}@{row.name}\")\n",
    "\n",
    "\n",
    "def extract_wkt_from_traj(trajectory):\n",
    "    res = \"[\"\n",
    "    for row in trajectory.df.iloc():\n",
    "        res += f'{row.geometry.wkt}@{row.name},'\n",
    "    res = res[:-1] + ']'\n",
    "    return res\n",
    "\n",
    "def create_sequence(trajectory):\n",
    "    wkt = extract_wkt_from_traj(trajectory)\n",
    "    return TGeogPointSeq(string=wkt)"
   ]
  },
  {
   "cell_type": "code",
   "execution_count": 30,
   "id": "dfe1b442-7783-43a0-a185-6c6b4ee75279",
   "metadata": {},
   "outputs": [],
   "source": [
    "def create_model(x, dim):\n",
    "    model = tf.keras.models.Sequential([\n",
    "        tf.keras.layers.LSTM(64, return_sequences=True, input_shape=x.shape[-2:]),\n",
    "        tf.keras.layers.LSTM(32, return_sequences=True, ),\n",
    "        tf.keras.layers.LSTM(32),\n",
    "        tf.keras.layers.Dense(dim)\n",
    "    ])\n",
    "    return model\n",
    "\n",
    "def create_sequences(data, sequence_length=10, prediction_steps=3):\n",
    "    X, y = [], []\n",
    "    data = data.sort_index()  # Ensure the data is sorted by time\n",
    "    for mmsi in data['mmsi'].unique():\n",
    "        mmsi_data = data[data['mmsi'] == mmsi][['sog', 'lat', 'lon']]\n",
    "        for i in range(len(mmsi_data) - sequence_length - prediction_steps + 1):\n",
    "            X.append(mmsi_data.iloc[i:i+sequence_length].values)\n",
    "            y.append(mmsi_data.iloc[i+sequence_length:i+sequence_length+prediction_steps][['lat', 'lon']].values)\n",
    "    return np.array(X), np.array(y)"
   ]
  },
  {
   "cell_type": "code",
   "execution_count": 31,
   "id": "2fb17e35-b703-4f62-bf3f-851bd8d1f0be",
   "metadata": {},
   "outputs": [
    {
     "data": {
      "text/html": [
       "<div>\n",
       "<style scoped>\n",
       "    .dataframe tbody tr th:only-of-type {\n",
       "        vertical-align: middle;\n",
       "    }\n",
       "\n",
       "    .dataframe tbody tr th {\n",
       "        vertical-align: top;\n",
       "    }\n",
       "\n",
       "    .dataframe thead th {\n",
       "        text-align: right;\n",
       "    }\n",
       "</style>\n",
       "<table border=\"1\" class=\"dataframe\">\n",
       "  <thead>\n",
       "    <tr style=\"text-align: right;\">\n",
       "      <th></th>\n",
       "      <th>t</th>\n",
       "      <th>mmsi</th>\n",
       "      <th>latitude</th>\n",
       "      <th>longitude</th>\n",
       "      <th>sog</th>\n",
       "    </tr>\n",
       "  </thead>\n",
       "  <tbody>\n",
       "    <tr>\n",
       "      <th>0</th>\n",
       "      <td>2021-01-08 00:00:00</td>\n",
       "      <td>265513270</td>\n",
       "      <td>57.05900</td>\n",
       "      <td>12.272388</td>\n",
       "      <td>0.0</td>\n",
       "    </tr>\n",
       "    <tr>\n",
       "      <th>1</th>\n",
       "      <td>2021-01-08 00:00:01</td>\n",
       "      <td>219027804</td>\n",
       "      <td>55.94244</td>\n",
       "      <td>11.866278</td>\n",
       "      <td>0.0</td>\n",
       "    </tr>\n",
       "    <tr>\n",
       "      <th>2</th>\n",
       "      <td>2021-01-08 00:00:01</td>\n",
       "      <td>265513270</td>\n",
       "      <td>57.05900</td>\n",
       "      <td>12.272388</td>\n",
       "      <td>0.0</td>\n",
       "    </tr>\n",
       "    <tr>\n",
       "      <th>3</th>\n",
       "      <td>2021-01-08 00:00:03</td>\n",
       "      <td>219027804</td>\n",
       "      <td>55.94244</td>\n",
       "      <td>11.866278</td>\n",
       "      <td>0.0</td>\n",
       "    </tr>\n",
       "    <tr>\n",
       "      <th>4</th>\n",
       "      <td>2021-01-08 00:00:04</td>\n",
       "      <td>265513270</td>\n",
       "      <td>57.05900</td>\n",
       "      <td>12.272388</td>\n",
       "      <td>0.0</td>\n",
       "    </tr>\n",
       "  </tbody>\n",
       "</table>\n",
       "</div>"
      ],
      "text/plain": [
       "                     t       mmsi  latitude  longitude  sog\n",
       "0  2021-01-08 00:00:00  265513270  57.05900  12.272388  0.0\n",
       "1  2021-01-08 00:00:01  219027804  55.94244  11.866278  0.0\n",
       "2  2021-01-08 00:00:01  265513270  57.05900  12.272388  0.0\n",
       "3  2021-01-08 00:00:03  219027804  55.94244  11.866278  0.0\n",
       "4  2021-01-08 00:00:04  265513270  57.05900  12.272388  0.0"
      ]
     },
     "execution_count": 31,
     "metadata": {},
     "output_type": "execute_result"
    }
   ],
   "source": [
    "pdf = pd.read_csv('./data/aisinput.csv')\n",
    "pdf.head()"
   ]
  },
  {
   "cell_type": "code",
   "execution_count": 32,
   "id": "2f094d28-8dc4-47cc-9b16-3ba8d1ed267c",
   "metadata": {},
   "outputs": [
    {
     "data": {
      "text/html": [
       "<div>\n",
       "<style scoped>\n",
       "    .dataframe tbody tr th:only-of-type {\n",
       "        vertical-align: middle;\n",
       "    }\n",
       "\n",
       "    .dataframe tbody tr th {\n",
       "        vertical-align: top;\n",
       "    }\n",
       "\n",
       "    .dataframe thead th {\n",
       "        text-align: right;\n",
       "    }\n",
       "</style>\n",
       "<table border=\"1\" class=\"dataframe\">\n",
       "  <thead>\n",
       "    <tr style=\"text-align: right;\">\n",
       "      <th></th>\n",
       "      <th>t</th>\n",
       "      <th>mmsi</th>\n",
       "      <th>sog</th>\n",
       "      <th>geometry</th>\n",
       "    </tr>\n",
       "  </thead>\n",
       "  <tbody>\n",
       "    <tr>\n",
       "      <th>0</th>\n",
       "      <td>2021-01-08 00:00:00</td>\n",
       "      <td>265513270</td>\n",
       "      <td>0.0</td>\n",
       "      <td>POINT (12.27239 57.05900)</td>\n",
       "    </tr>\n",
       "    <tr>\n",
       "      <th>1</th>\n",
       "      <td>2021-01-08 00:00:01</td>\n",
       "      <td>219027804</td>\n",
       "      <td>0.0</td>\n",
       "      <td>POINT (11.86628 55.94244)</td>\n",
       "    </tr>\n",
       "    <tr>\n",
       "      <th>2</th>\n",
       "      <td>2021-01-08 00:00:01</td>\n",
       "      <td>265513270</td>\n",
       "      <td>0.0</td>\n",
       "      <td>POINT (12.27239 57.05900)</td>\n",
       "    </tr>\n",
       "    <tr>\n",
       "      <th>3</th>\n",
       "      <td>2021-01-08 00:00:03</td>\n",
       "      <td>219027804</td>\n",
       "      <td>0.0</td>\n",
       "      <td>POINT (11.86628 55.94244)</td>\n",
       "    </tr>\n",
       "    <tr>\n",
       "      <th>4</th>\n",
       "      <td>2021-01-08 00:00:04</td>\n",
       "      <td>265513270</td>\n",
       "      <td>0.0</td>\n",
       "      <td>POINT (12.27239 57.05900)</td>\n",
       "    </tr>\n",
       "  </tbody>\n",
       "</table>\n",
       "</div>"
      ],
      "text/plain": [
       "                     t       mmsi  sog                   geometry\n",
       "0  2021-01-08 00:00:00  265513270  0.0  POINT (12.27239 57.05900)\n",
       "1  2021-01-08 00:00:01  219027804  0.0  POINT (11.86628 55.94244)\n",
       "2  2021-01-08 00:00:01  265513270  0.0  POINT (12.27239 57.05900)\n",
       "3  2021-01-08 00:00:03  219027804  0.0  POINT (11.86628 55.94244)\n",
       "4  2021-01-08 00:00:04  265513270  0.0  POINT (12.27239 57.05900)"
      ]
     },
     "execution_count": 32,
     "metadata": {},
     "output_type": "execute_result"
    }
   ],
   "source": [
    "gdf = gpd.GeoDataFrame(pdf.drop(['latitude', 'longitude'], axis=1),\n",
    "                       geometry=gpd.points_from_xy(pdf.longitude, pdf.latitude), crs=4326)\n",
    "gdf.head()"
   ]
  },
  {
   "cell_type": "code",
   "execution_count": 33,
   "id": "c6747f59-aa25-43c8-aa6c-078d442cd035",
   "metadata": {},
   "outputs": [],
   "source": [
    "ships = mpd.TrajectoryCollection(gdf, 'mmsi', t='t')"
   ]
  },
  {
   "cell_type": "code",
   "execution_count": 34,
   "id": "a4ff302e-2ee0-4454-ac4e-2e712d298545",
   "metadata": {},
   "outputs": [
    {
     "data": {
      "text/html": [
       "<div>\n",
       "<style scoped>\n",
       "    .dataframe tbody tr th:only-of-type {\n",
       "        vertical-align: middle;\n",
       "    }\n",
       "\n",
       "    .dataframe tbody tr th {\n",
       "        vertical-align: top;\n",
       "    }\n",
       "\n",
       "    .dataframe thead th {\n",
       "        text-align: right;\n",
       "    }\n",
       "</style>\n",
       "<table border=\"1\" class=\"dataframe\">\n",
       "  <thead>\n",
       "    <tr style=\"text-align: right;\">\n",
       "      <th></th>\n",
       "      <th>mmsi</th>\n",
       "      <th>sog</th>\n",
       "      <th>geometry</th>\n",
       "    </tr>\n",
       "    <tr>\n",
       "      <th>t</th>\n",
       "      <th></th>\n",
       "      <th></th>\n",
       "      <th></th>\n",
       "    </tr>\n",
       "  </thead>\n",
       "  <tbody>\n",
       "    <tr>\n",
       "      <th>2021-01-08 00:00:01</th>\n",
       "      <td>219027804</td>\n",
       "      <td>0.0</td>\n",
       "      <td>POINT (11.86628 55.94244)</td>\n",
       "    </tr>\n",
       "    <tr>\n",
       "      <th>2021-01-08 00:00:03</th>\n",
       "      <td>219027804</td>\n",
       "      <td>0.0</td>\n",
       "      <td>POINT (11.86628 55.94244)</td>\n",
       "    </tr>\n",
       "    <tr>\n",
       "      <th>2021-01-08 00:00:05</th>\n",
       "      <td>219027804</td>\n",
       "      <td>0.0</td>\n",
       "      <td>POINT (11.86628 55.94244)</td>\n",
       "    </tr>\n",
       "    <tr>\n",
       "      <th>2021-01-08 00:00:07</th>\n",
       "      <td>219027804</td>\n",
       "      <td>0.0</td>\n",
       "      <td>POINT (11.86628 55.94244)</td>\n",
       "    </tr>\n",
       "    <tr>\n",
       "      <th>2021-01-08 00:00:09</th>\n",
       "      <td>219027804</td>\n",
       "      <td>0.0</td>\n",
       "      <td>POINT (11.86628 55.94244)</td>\n",
       "    </tr>\n",
       "    <tr>\n",
       "      <th>2021-01-08 00:00:11</th>\n",
       "      <td>219027804</td>\n",
       "      <td>0.0</td>\n",
       "      <td>POINT (11.86628 55.94244)</td>\n",
       "    </tr>\n",
       "    <tr>\n",
       "      <th>2021-01-08 00:00:13</th>\n",
       "      <td>219027804</td>\n",
       "      <td>0.0</td>\n",
       "      <td>POINT (11.86628 55.94244)</td>\n",
       "    </tr>\n",
       "    <tr>\n",
       "      <th>2021-01-08 00:00:15</th>\n",
       "      <td>219027804</td>\n",
       "      <td>0.0</td>\n",
       "      <td>POINT (11.86628 55.94244)</td>\n",
       "    </tr>\n",
       "    <tr>\n",
       "      <th>2021-01-08 00:00:16</th>\n",
       "      <td>219027804</td>\n",
       "      <td>0.0</td>\n",
       "      <td>POINT (11.86628 55.94245)</td>\n",
       "    </tr>\n",
       "    <tr>\n",
       "      <th>2021-01-08 00:00:18</th>\n",
       "      <td>219027804</td>\n",
       "      <td>0.0</td>\n",
       "      <td>POINT (11.86628 55.94245)</td>\n",
       "    </tr>\n",
       "  </tbody>\n",
       "</table>\n",
       "</div>"
      ],
      "text/plain": [
       "                          mmsi  sog                   geometry\n",
       "t                                                             \n",
       "2021-01-08 00:00:01  219027804  0.0  POINT (11.86628 55.94244)\n",
       "2021-01-08 00:00:03  219027804  0.0  POINT (11.86628 55.94244)\n",
       "2021-01-08 00:00:05  219027804  0.0  POINT (11.86628 55.94244)\n",
       "2021-01-08 00:00:07  219027804  0.0  POINT (11.86628 55.94244)\n",
       "2021-01-08 00:00:09  219027804  0.0  POINT (11.86628 55.94244)\n",
       "2021-01-08 00:00:11  219027804  0.0  POINT (11.86628 55.94244)\n",
       "2021-01-08 00:00:13  219027804  0.0  POINT (11.86628 55.94244)\n",
       "2021-01-08 00:00:15  219027804  0.0  POINT (11.86628 55.94244)\n",
       "2021-01-08 00:00:16  219027804  0.0  POINT (11.86628 55.94245)\n",
       "2021-01-08 00:00:18  219027804  0.0  POINT (11.86628 55.94245)"
      ]
     },
     "execution_count": 34,
     "metadata": {},
     "output_type": "execute_result"
    }
   ],
   "source": [
    "ship = ships.trajectories[1]\n",
    "shipdf = ship.df\n",
    "shipdf.head(10)"
   ]
  },
  {
   "cell_type": "code",
   "execution_count": 69,
   "id": "b6010271-b152-4364-a7ca-77abe0ba32cf",
   "metadata": {},
   "outputs": [],
   "source": [
    "testdf = shipdf.copy()\n",
    "testdf['lon'] = testdf['geometry'].x\n",
    "testdf['lat'] = testdf['geometry'].y\n",
    "\n",
    "scaler_test = MinMaxScaler()\n",
    "\n",
    "testdf[['lat', 'lon']] = scaler_test.fit_transform(testdf[['lat', 'lon']])\n",
    "testdf = testdf[['sog', 'lat', 'lon']]\n",
    "\n",
    "sequence_length = 100  # Number of steps in input sequences\n",
    "prediction_steps = 10 \n",
    "\n",
    "X_act = np.array([testdf.iloc[30000:30100].values])\n",
    "y_act = np.array([testdf.iloc[30100:30110][['lat', 'lon']].values])\n",
    "\n",
    "comparison = {\"name\": [], \"time\": [], \"RMSE\": []}"
   ]
  },
  {
   "cell_type": "code",
   "execution_count": 70,
   "id": "182398fe-5c47-4a1b-adff-5fbfaab1c350",
   "metadata": {},
   "outputs": [
    {
     "name": "stdout",
     "output_type": "stream",
     "text": [
      "Epoch 1/3\n",
      "498/498 [==============================] - 25s 45ms/step - loss: 0.0180 - val_loss: 0.0483\n",
      "Epoch 2/3\n",
      "498/498 [==============================] - 22s 45ms/step - loss: 9.3214e-08 - val_loss: 0.0483\n",
      "Epoch 3/3\n",
      "498/498 [==============================] - 22s 44ms/step - loss: 9.5073e-08 - val_loss: 0.0483\n"
     ]
    }
   ],
   "source": [
    "import time\n",
    "\n",
    "comparison[\"name\"].append(\"MovingPandas\")\n",
    "timestr = \"\"\n",
    "\n",
    "scaler = MinMaxScaler()\n",
    "\n",
    "data =  shipdf.copy()\n",
    "data = data.iloc[:20000]\n",
    "data['lon'] = shipdf['geometry'].x\n",
    "data['lat'] = shipdf['geometry'].y\n",
    "\n",
    "start = time.time()\n",
    "data[['lat', 'lon']] = scaler.fit_transform(data[['lat', 'lon']])\n",
    "\n",
    "sequence_length = 100  # Number of steps in input sequences\n",
    "prediction_steps = 10  # Steps to predict ahead\n",
    "\n",
    "X, y = create_sequences(data, sequence_length, prediction_steps)\n",
    "end = time.time() - start\n",
    "timestr += f'Processing Time: {end} seconds'\n",
    "\n",
    "# Split data into training and testing sets based on the first 80% for training and the last 20% for testing\n",
    "# num_sequences = len(X)\n",
    "# train_size = int(num_sequences * 0.80)\n",
    "\n",
    "# X_train, X_test = X[:train_size], X[train_size:]\n",
    "# y_train, y_test = y[:train_size], y[train_size:]\n",
    "\n",
    "# Split data into training and testing sets\n",
    "# Define your train_test_split logic here\n",
    "\n",
    "# Prepare and train the model\n",
    "start = time.time()\n",
    "model = create_model(X, y.shape[-1] * y.shape[-2])  # Adjust 'dim' based on prediction shape\n",
    "model.compile(optimizer='adam', loss='mse')\n",
    "\n",
    "# Note: You might need to reshape 'y' depending on how you structure your network's output layer\n",
    "y = y.reshape(y.shape[0], -1)  # Flatten y if necessary for the Dense output layer\n",
    "\n",
    "model.fit(X, y, epochs=3, validation_split=0.2)\n",
    "end = time.time() - start\n",
    "timestr += f' Training Time: {end} seconds'\n",
    "\n",
    "comparison[\"time\"].append(timestr)"
   ]
  },
  {
   "cell_type": "code",
   "execution_count": 72,
   "id": "a464f8eb-0ca6-4b9c-a7a3-80d67132a9db",
   "metadata": {},
   "outputs": [
    {
     "name": "stdout",
     "output_type": "stream",
     "text": [
      "1/1 [==============================] - 1s 554ms/step\n"
     ]
    },
    {
     "name": "stderr",
     "output_type": "stream",
     "text": [
      "/home/satria/miniconda3/envs/thesis/lib/python3.11/site-packages/movingpandas/trajectory.py:166: MissingCRSWarning: Trajectory generated without CRS. Computations will use Euclidean distances.\n",
      "  warnings.warn(\n",
      "/home/satria/miniconda3/envs/thesis/lib/python3.11/site-packages/movingpandas/trajectory.py:166: MissingCRSWarning: Trajectory generated without CRS. Computations will use Euclidean distances.\n",
      "  warnings.warn(\n"
     ]
    },
    {
     "data": {
      "image/png": "[encoded data removed]",
      "text/plain": [
       "<Figure size 2000x2000 with 1 Axes>"
      ]
     },
     "metadata": {},
     "output_type": "display_data"
    }
   ],
   "source": [
    "# Prediction\n",
    "y_pred_scaled = model.predict(X_act)\n",
    "\n",
    "y_pred = y_pred_scaled.reshape(-1, prediction_steps, 2)  # Reshape predictions\n",
    "y_pred_2d = y_pred.reshape(-1, y_pred.shape[-1])\n",
    "result_2d = scaler.inverse_transform(y_pred_2d)\n",
    "y_pred_inv = result_2d.reshape(y_pred.shape)\n",
    "\n",
    "\n",
    "# #test\n",
    "y_test_scaled = y_act.reshape(-1, prediction_steps, 2)  # Reshape predictions\n",
    "y_test_2d = y_test_scaled.reshape(-1, y_test_scaled.shape[-1])\n",
    "res_test_2d = scaler_test.inverse_transform(y_test_2d)\n",
    "y_test_inv = res_test_2d.reshape(y_test_scaled.shape)\n",
    "\n",
    "# Visualization with MovingPandas\n",
    "predicted_points = [Point(long, lat) for lat, long in y_pred_inv[0]]\n",
    "actual_points = [Point(long, lat) for lat, long in y_test_inv[0]]\n",
    "\n",
    "predicted_gdf = gpd.GeoDataFrame(geometry=predicted_points)\n",
    "actual_gdf = gpd.GeoDataFrame(geometry=actual_points)\n",
    "\n",
    "# # # Create a simple time index with the desired format\n",
    "start_time_str = '2021-01-08 00:00:00'\n",
    "start_time = pd.to_datetime(start_time_str, format='%Y-%m-%d %H:%M:%S')\n",
    "\n",
    "time_step_seconds = 3  # Adjust the time step as needed\n",
    "predicted_gdf['t'] = [start_time + pd.Timedelta(seconds=i * time_step_seconds) for i in range(len(predicted_gdf))]\n",
    "predicted_gdf.set_index('t', inplace=True)\n",
    "\n",
    "actual_gdf['t'] = [start_time + pd.Timedelta(seconds=i * time_step_seconds) for i in range(len(actual_gdf))]\n",
    "actual_gdf.set_index('t', inplace=True)\n",
    "\n",
    "trajectory = mpd.Trajectory(predicted_gdf, 't')\n",
    "actual_trajectory = mpd.Trajectory(actual_gdf, 't')\n",
    "\n",
    "# # Create a figure and axis\n",
    "fig, ax = plt.subplots(figsize=(20, 20))\n",
    "actual_trajectory.plot(ax=ax, linewidth=4, color='red')\n",
    "trajectory.plot(ax=ax, linewidth=1.5, color='blue')\n",
    "\n",
    "plt.title('Predicted Trajectory with MovingPandas')\n",
    "plt.show()\n",
    "\n",
    "# # # Calculate RMSE for latitude and longitude only\n",
    "rmse_lat = np.sqrt(mean_squared_error(y_test_inv[:, :, 0], y_pred_inv[:, :, 0]))\n",
    "rmse_lon = np.sqrt(mean_squared_error(y_test_inv[:, :, 1], y_pred_inv[:, :, 1]))\n",
    "comparison[\"RMSE\"].append(f\"RMSE for Latitude: {rmse_lat}, RMSE for Longitude: {rmse_lon}\")"
   ]
  },
  {
   "cell_type": "code",
   "execution_count": 73,
   "id": "a9978aa4-6bba-4151-91d8-d4eff443a74c",
   "metadata": {},
   "outputs": [
    {
     "name": "stdout",
     "output_type": "stream",
     "text": [
      "5.964355480614358e-07 0.00027393634033145986\n"
     ]
    }
   ],
   "source": [
    "print(np.sqrt(mean_squared_error(y_test_inv[:, 9, 0], y_pred_inv[:, 9, 0])) ,np.sqrt(mean_squared_error(y_test_inv[:, 9, 1], y_pred_inv[:, 9, 1])))"
   ]
  },
  {
   "cell_type": "code",
   "execution_count": 55,
   "id": "9481c624-baf9-401b-815d-bdb5d7f8a397",
   "metadata": {},
   "outputs": [
    {
     "data": {
      "text/html": [
       "<div>\n",
       "<style scoped>\n",
       "    .dataframe tbody tr th:only-of-type {\n",
       "        vertical-align: middle;\n",
       "    }\n",
       "\n",
       "    .dataframe tbody tr th {\n",
       "        vertical-align: top;\n",
       "    }\n",
       "\n",
       "    .dataframe thead th {\n",
       "        text-align: right;\n",
       "    }\n",
       "</style>\n",
       "<table border=\"1\" class=\"dataframe\">\n",
       "  <thead>\n",
       "    <tr style=\"text-align: right;\">\n",
       "      <th></th>\n",
       "      <th>geometry</th>\n",
       "    </tr>\n",
       "    <tr>\n",
       "      <th>t</th>\n",
       "      <th></th>\n",
       "    </tr>\n",
       "  </thead>\n",
       "  <tbody>\n",
       "    <tr>\n",
       "      <th>2021-01-08 00:00:00</th>\n",
       "      <td>POINT (11.86630 55.94244)</td>\n",
       "    </tr>\n",
       "    <tr>\n",
       "      <th>2021-01-08 00:00:03</th>\n",
       "      <td>POINT (11.86630 55.94244)</td>\n",
       "    </tr>\n",
       "    <tr>\n",
       "      <th>2021-01-08 00:00:06</th>\n",
       "      <td>POINT (11.86630 55.94244)</td>\n",
       "    </tr>\n",
       "    <tr>\n",
       "      <th>2021-01-08 00:00:09</th>\n",
       "      <td>POINT (11.86630 55.94244)</td>\n",
       "    </tr>\n",
       "    <tr>\n",
       "      <th>2021-01-08 00:00:12</th>\n",
       "      <td>POINT (11.86630 55.94243)</td>\n",
       "    </tr>\n",
       "    <tr>\n",
       "      <th>2021-01-08 00:00:15</th>\n",
       "      <td>POINT (11.86630 55.94243)</td>\n",
       "    </tr>\n",
       "    <tr>\n",
       "      <th>2021-01-08 00:00:18</th>\n",
       "      <td>POINT (11.86630 55.94243)</td>\n",
       "    </tr>\n",
       "    <tr>\n",
       "      <th>2021-01-08 00:00:21</th>\n",
       "      <td>POINT (11.86630 55.94243)</td>\n",
       "    </tr>\n",
       "    <tr>\n",
       "      <th>2021-01-08 00:00:24</th>\n",
       "      <td>POINT (11.86630 55.94243)</td>\n",
       "    </tr>\n",
       "    <tr>\n",
       "      <th>2021-01-08 00:00:27</th>\n",
       "      <td>POINT (11.86630 55.94243)</td>\n",
       "    </tr>\n",
       "  </tbody>\n",
       "</table>\n",
       "</div>"
      ],
      "text/plain": [
       "                                      geometry\n",
       "t                                             \n",
       "2021-01-08 00:00:00  POINT (11.86630 55.94244)\n",
       "2021-01-08 00:00:03  POINT (11.86630 55.94244)\n",
       "2021-01-08 00:00:06  POINT (11.86630 55.94244)\n",
       "2021-01-08 00:00:09  POINT (11.86630 55.94244)\n",
       "2021-01-08 00:00:12  POINT (11.86630 55.94243)\n",
       "2021-01-08 00:00:15  POINT (11.86630 55.94243)\n",
       "2021-01-08 00:00:18  POINT (11.86630 55.94243)\n",
       "2021-01-08 00:00:21  POINT (11.86630 55.94243)\n",
       "2021-01-08 00:00:24  POINT (11.86630 55.94243)\n",
       "2021-01-08 00:00:27  POINT (11.86630 55.94243)"
      ]
     },
     "execution_count": 55,
     "metadata": {},
     "output_type": "execute_result"
    }
   ],
   "source": [
    "actual_gdf"
   ]
  },
  {
   "cell_type": "code",
   "execution_count": 74,
   "id": "f0a663ba-763b-47d3-86b7-4623dce369eb",
   "metadata": {},
   "outputs": [],
   "source": [
    "ship.add_speed(overwrite=True)\n",
    "ship.add_distance(overwrite=True)\n",
    "\n",
    "meosdf = ship.df.copy()\n",
    "meosdf = meosdf.iloc[:20000]"
   ]
  },
  {
   "cell_type": "code",
   "execution_count": 75,
   "id": "041fdc45-b848-45c5-b19d-ffa269dc4b58",
   "metadata": {},
   "outputs": [
    {
     "data": {
      "text/html": [
       "<div>\n",
       "<style scoped>\n",
       "    .dataframe tbody tr th:only-of-type {\n",
       "        vertical-align: middle;\n",
       "    }\n",
       "\n",
       "    .dataframe tbody tr th {\n",
       "        vertical-align: top;\n",
       "    }\n",
       "\n",
       "    .dataframe thead th {\n",
       "        text-align: right;\n",
       "    }\n",
       "</style>\n",
       "<table border=\"1\" class=\"dataframe\">\n",
       "  <thead>\n",
       "    <tr style=\"text-align: right;\">\n",
       "      <th></th>\n",
       "      <th>mmsi</th>\n",
       "      <th>sog</th>\n",
       "      <th>geometry</th>\n",
       "      <th>speed</th>\n",
       "      <th>distance</th>\n",
       "      <th>MEOS Point</th>\n",
       "    </tr>\n",
       "    <tr>\n",
       "      <th>t</th>\n",
       "      <th></th>\n",
       "      <th></th>\n",
       "      <th></th>\n",
       "      <th></th>\n",
       "      <th></th>\n",
       "      <th></th>\n",
       "    </tr>\n",
       "  </thead>\n",
       "  <tbody>\n",
       "    <tr>\n",
       "      <th>2021-01-08 00:00:01</th>\n",
       "      <td>219027804</td>\n",
       "      <td>0.0</td>\n",
       "      <td>POINT (11.86628 55.94244)</td>\n",
       "      <td>0.000000</td>\n",
       "      <td>0.000000</td>\n",
       "      <td>POINT(11.866278 55.94244)@2021-01-08 00:00:01+01</td>\n",
       "    </tr>\n",
       "    <tr>\n",
       "      <th>2021-01-08 00:00:03</th>\n",
       "      <td>219027804</td>\n",
       "      <td>0.0</td>\n",
       "      <td>POINT (11.86628 55.94244)</td>\n",
       "      <td>0.000000</td>\n",
       "      <td>0.000000</td>\n",
       "      <td>POINT(11.866278 55.94244)@2021-01-08 00:00:03+01</td>\n",
       "    </tr>\n",
       "    <tr>\n",
       "      <th>2021-01-08 00:00:05</th>\n",
       "      <td>219027804</td>\n",
       "      <td>0.0</td>\n",
       "      <td>POINT (11.86628 55.94244)</td>\n",
       "      <td>0.000000</td>\n",
       "      <td>0.000000</td>\n",
       "      <td>POINT(11.866278 55.94244)@2021-01-08 00:00:05+01</td>\n",
       "    </tr>\n",
       "    <tr>\n",
       "      <th>2021-01-08 00:00:07</th>\n",
       "      <td>219027804</td>\n",
       "      <td>0.0</td>\n",
       "      <td>POINT (11.86628 55.94244)</td>\n",
       "      <td>0.062485</td>\n",
       "      <td>0.124971</td>\n",
       "      <td>POINT(11.86628 55.94244)@2021-01-08 00:00:07+01</td>\n",
       "    </tr>\n",
       "    <tr>\n",
       "      <th>2021-01-08 00:00:09</th>\n",
       "      <td>219027804</td>\n",
       "      <td>0.0</td>\n",
       "      <td>POINT (11.86628 55.94244)</td>\n",
       "      <td>0.000000</td>\n",
       "      <td>0.000000</td>\n",
       "      <td>POINT(11.86628 55.94244)@2021-01-08 00:00:09+01</td>\n",
       "    </tr>\n",
       "  </tbody>\n",
       "</table>\n",
       "</div>"
      ],
      "text/plain": [
       "                          mmsi  sog                   geometry     speed  \\\n",
       "t                                                                          \n",
       "2021-01-08 00:00:01  219027804  0.0  POINT (11.86628 55.94244)  0.000000   \n",
       "2021-01-08 00:00:03  219027804  0.0  POINT (11.86628 55.94244)  0.000000   \n",
       "2021-01-08 00:00:05  219027804  0.0  POINT (11.86628 55.94244)  0.000000   \n",
       "2021-01-08 00:00:07  219027804  0.0  POINT (11.86628 55.94244)  0.062485   \n",
       "2021-01-08 00:00:09  219027804  0.0  POINT (11.86628 55.94244)  0.000000   \n",
       "\n",
       "                     distance  \\\n",
       "t                               \n",
       "2021-01-08 00:00:01  0.000000   \n",
       "2021-01-08 00:00:03  0.000000   \n",
       "2021-01-08 00:00:05  0.000000   \n",
       "2021-01-08 00:00:07  0.124971   \n",
       "2021-01-08 00:00:09  0.000000   \n",
       "\n",
       "                                                           MEOS Point  \n",
       "t                                                                      \n",
       "2021-01-08 00:00:01  POINT(11.866278 55.94244)@2021-01-08 00:00:01+01  \n",
       "2021-01-08 00:00:03  POINT(11.866278 55.94244)@2021-01-08 00:00:03+01  \n",
       "2021-01-08 00:00:05  POINT(11.866278 55.94244)@2021-01-08 00:00:05+01  \n",
       "2021-01-08 00:00:07   POINT(11.86628 55.94244)@2021-01-08 00:00:07+01  \n",
       "2021-01-08 00:00:09   POINT(11.86628 55.94244)@2021-01-08 00:00:09+01  "
      ]
     },
     "execution_count": 75,
     "metadata": {},
     "output_type": "execute_result"
    }
   ],
   "source": [
    "meosdf['MEOS Point'] = meosdf.apply(create_point, axis=1)\n",
    "meosdf.head()"
   ]
  },
  {
   "cell_type": "code",
   "execution_count": 76,
   "id": "d7f31977-ca72-4e15-96c2-43a8f2c9a281",
   "metadata": {},
   "outputs": [
    {
     "data": {
      "text/plain": [
       "19141.909882682434"
      ]
     },
     "execution_count": 76,
     "metadata": {},
     "output_type": "execute_result"
    }
   ],
   "source": [
    "sum(meosdf[ship.distance_col_name])"
   ]
  },
  {
   "cell_type": "code",
   "execution_count": 77,
   "id": "6ef8f387-edd9-4fc3-98e2-a12eac7ec4f8",
   "metadata": {},
   "outputs": [
    {
     "data": {
      "text/plain": [
       "19141.909882991968"
      ]
     },
     "execution_count": 77,
     "metadata": {},
     "output_type": "execute_result"
    }
   ],
   "source": [
    "sequence = TGeogPointSeq(instant_list=list(meosdf['MEOS Point']), normalize=False)\n",
    "sequence.length()"
   ]
  },
  {
   "cell_type": "code",
   "execution_count": 78,
   "id": "d2a57d5c-4272-44c7-ae48-098753e87ed4",
   "metadata": {},
   "outputs": [
    {
     "data": {
      "text/plain": [
       "19117.91257397039"
      ]
     },
     "execution_count": 78,
     "metadata": {},
     "output_type": "execute_result"
    }
   ],
   "source": [
    "sequence = TGeogPointSeq(instant_list=list(meosdf['MEOS Point']), normalize=True)\n",
    "sequence.length()"
   ]
  },
  {
   "cell_type": "code",
   "execution_count": 79,
   "id": "915ee67a-ba49-41ea-86ed-0b5a4f2ec7bc",
   "metadata": {},
   "outputs": [
    {
     "data": {
      "text/plain": [
       "7621"
      ]
     },
     "execution_count": 79,
     "metadata": {},
     "output_type": "execute_result"
    }
   ],
   "source": [
    "sequence.num_instants()"
   ]
  },
  {
   "cell_type": "code",
   "execution_count": 80,
   "id": "985cdf05-96b2-45d6-a207-7334a5ee312c",
   "metadata": {},
   "outputs": [
    {
     "data": {
      "text/plain": [
       "20000"
      ]
     },
     "execution_count": 80,
     "metadata": {},
     "output_type": "execute_result"
    }
   ],
   "source": [
    "len(meosdf)"
   ]
  },
  {
   "cell_type": "code",
   "execution_count": 81,
   "id": "f336efdc-7f36-4739-bcbf-56a3bc6b7eac",
   "metadata": {},
   "outputs": [
    {
     "data": {
      "text/html": [
       "<div>\n",
       "<style scoped>\n",
       "    .dataframe tbody tr th:only-of-type {\n",
       "        vertical-align: middle;\n",
       "    }\n",
       "\n",
       "    .dataframe tbody tr th {\n",
       "        vertical-align: top;\n",
       "    }\n",
       "\n",
       "    .dataframe thead th {\n",
       "        text-align: right;\n",
       "    }\n",
       "</style>\n",
       "<table border=\"1\" class=\"dataframe\">\n",
       "  <thead>\n",
       "    <tr style=\"text-align: right;\">\n",
       "      <th></th>\n",
       "      <th>value</th>\n",
       "    </tr>\n",
       "    <tr>\n",
       "      <th>time</th>\n",
       "      <th></th>\n",
       "    </tr>\n",
       "  </thead>\n",
       "  <tbody>\n",
       "    <tr>\n",
       "      <th>2021-01-08 00:00:01+01:00</th>\n",
       "      <td>POINT (11.866278 55.94244)</td>\n",
       "    </tr>\n",
       "    <tr>\n",
       "      <th>2021-01-08 00:00:05+01:00</th>\n",
       "      <td>POINT (11.866278 55.94244)</td>\n",
       "    </tr>\n",
       "    <tr>\n",
       "      <th>2021-01-08 00:00:09+01:00</th>\n",
       "      <td>POINT (11.86628 55.94244)</td>\n",
       "    </tr>\n",
       "    <tr>\n",
       "      <th>2021-01-08 00:00:11+01:00</th>\n",
       "      <td>POINT (11.866278 55.94244)</td>\n",
       "    </tr>\n",
       "    <tr>\n",
       "      <th>2021-01-08 00:00:15+01:00</th>\n",
       "      <td>POINT (11.86628 55.94244)</td>\n",
       "    </tr>\n",
       "  </tbody>\n",
       "</table>\n",
       "</div>"
      ],
      "text/plain": [
       "                                                value\n",
       "time                                                 \n",
       "2021-01-08 00:00:01+01:00  POINT (11.866278 55.94244)\n",
       "2021-01-08 00:00:05+01:00  POINT (11.866278 55.94244)\n",
       "2021-01-08 00:00:09+01:00   POINT (11.86628 55.94244)\n",
       "2021-01-08 00:00:11+01:00  POINT (11.866278 55.94244)\n",
       "2021-01-08 00:00:15+01:00   POINT (11.86628 55.94244)"
      ]
     },
     "execution_count": 81,
     "metadata": {},
     "output_type": "execute_result"
    }
   ],
   "source": [
    "datameos = sequence.to_dataframe()\n",
    "datameos.head()"
   ]
  },
  {
   "cell_type": "code",
   "execution_count": 82,
   "id": "de71dedf-b7e0-4286-85a8-cf8d99b73e30",
   "metadata": {},
   "outputs": [],
   "source": [
    "def create_sequences_meos(data, sequence_length=10, prediction_steps=3):\n",
    "    X, y = [], []\n",
    "    data = data.sort_index()  # Ensure the data is sorted by time\n",
    "    mmsi_data = data[['lat', 'lon']]\n",
    "    for i in range(len(mmsi_data) - sequence_length - prediction_steps + 1):\n",
    "        X.append(mmsi_data.iloc[i:i+sequence_length].values)\n",
    "        y.append(mmsi_data.iloc[i+sequence_length:i+sequence_length+prediction_steps][['lat', 'lon']].values)\n",
    "    return np.array(X), np.array(y)"
   ]
  },
  {
   "cell_type": "code",
   "execution_count": 83,
   "id": "ce68b819-6936-4a15-bade-ec8c368eb3f5",
   "metadata": {},
   "outputs": [
    {
     "name": "stdout",
     "output_type": "stream",
     "text": [
      "Epoch 1/3\n",
      "188/188 [==============================] - 12s 50ms/step - loss: 0.0817 - val_loss: 0.0591\n",
      "Epoch 2/3\n",
      "188/188 [==============================] - 8s 44ms/step - loss: 0.0177 - val_loss: 0.0585\n",
      "Epoch 3/3\n",
      "188/188 [==============================] - 8s 44ms/step - loss: 0.0260 - val_loss: 0.0857\n"
     ]
    }
   ],
   "source": [
    "import time\n",
    "\n",
    "comparison[\"name\"].append(\"PyMeos\")\n",
    "timestr = \"\"\n",
    "\n",
    "scaler = MinMaxScaler()\n",
    "      \n",
    "datameos['lon'] = datameos['value'].apply(lambda val: val.x)\n",
    "datameos['lat'] = datameos['value'].apply(lambda val: val.y)\n",
    "\n",
    "start = time.time()\n",
    "datameos[['lat', 'lon']] = scaler.fit_transform(datameos[['lat', 'lon']])\n",
    "\n",
    "sequence_length = 100  # Number of steps in input sequences\n",
    "prediction_steps = 10  # Steps to predict ahead\n",
    "\n",
    "X, y = create_sequences_meos(datameos, sequence_length, prediction_steps)\n",
    "end = time.time() - start\n",
    "timestr += f'Processing Time: {end} seconds'\n",
    "\n",
    "# Split data into training and testing sets based on the first 80% for training and the last 20% for testing\n",
    "# num_sequences = len(X)\n",
    "# train_size = int(num_sequences * 0.80)\n",
    "\n",
    "# X_train, X_test = X[:train_size], X[train_size:]\n",
    "# y_train, y_test = y[:train_size], y[train_size:]\n",
    "\n",
    "# Split data into training and testing sets\n",
    "# Define your train_test_split logic here\n",
    "\n",
    "# Prepare and train the model\n",
    "start = time.time()\n",
    "model = create_model(X, y.shape[-1] * y.shape[-2])  # Adjust 'dim' based on prediction shape\n",
    "model.compile(optimizer='adam', loss='mse')\n",
    "\n",
    "# Note: You might need to reshape 'y' depending on how you structure your network's output layer\n",
    "y = y.reshape(y.shape[0], -1)  # Flatten y if necessary for the Dense output layer\n",
    "\n",
    "model.fit(X, y, epochs=3, validation_split=0.2)\n",
    "end = time.time() - start\n",
    "timestr += f' Training Time: {end} seconds'\n",
    "\n",
    "comparison[\"time\"].append(timestr)"
   ]
  },
  {
   "cell_type": "code",
   "execution_count": 84,
   "id": "f8b7c2de-38c1-48f2-9c61-48a80fbfec86",
   "metadata": {},
   "outputs": [
    {
     "name": "stdout",
     "output_type": "stream",
     "text": [
      "WARNING:tensorflow:5 out of the last 7 calls to <function Model.make_predict_function.<locals>.predict_function at 0x7fe6470754e0> triggered tf.function retracing. Tracing is expensive and the excessive number of tracings could be due to (1) creating @tf.function repeatedly in a loop, (2) passing tensors with different shapes, (3) passing Python objects instead of tensors. For (1), please define your @tf.function outside of the loop. For (2), @tf.function has reduce_retracing=True option that can avoid unnecessary retracing. For (3), please refer to https://www.tensorflow.org/guide/function#controlling_retracing and https://www.tensorflow.org/api_docs/python/tf/function for  more details.\n",
      "1/1 [==============================] - 1s 536ms/step\n"
     ]
    },
    {
     "name": "stderr",
     "output_type": "stream",
     "text": [
      "/home/satria/miniconda3/envs/thesis/lib/python3.11/site-packages/movingpandas/trajectory.py:166: MissingCRSWarning: Trajectory generated without CRS. Computations will use Euclidean distances.\n",
      "  warnings.warn(\n",
      "/home/satria/miniconda3/envs/thesis/lib/python3.11/site-packages/movingpandas/trajectory.py:166: MissingCRSWarning: Trajectory generated without CRS. Computations will use Euclidean distances.\n",
      "  warnings.warn(\n"
     ]
    },
    {
     "data": {
      "image/png": "[encoded data removed]",
      "text/plain": [
       "<Figure size 2000x2000 with 1 Axes>"
      ]
     },
     "metadata": {},
     "output_type": "display_data"
    }
   ],
   "source": [
    "# Prediction\n",
    "X_act_meos = X_act[:, :, 1:]\n",
    "y_pred_scaled = model.predict(X_act_meos)\n",
    "\n",
    "y_pred = y_pred_scaled.reshape(-1, prediction_steps, 2)  # Reshape predictions\n",
    "y_pred_2d = y_pred.reshape(-1, y_pred.shape[-1])\n",
    "result_2d = scaler.inverse_transform(y_pred_2d)\n",
    "y_pred_inv = result_2d.reshape(y_pred.shape)\n",
    "\n",
    "\n",
    "# # #test\n",
    "y_test_scaled = y_act.reshape(-1, prediction_steps, 2)  # Reshape predictions\n",
    "y_test_2d = y_test_scaled.reshape(-1, y_test_scaled.shape[-1])\n",
    "res_test_2d = scaler_test.inverse_transform(y_test_2d)\n",
    "y_test_inv = res_test_2d.reshape(y_test_scaled.shape)\n",
    "\n",
    "# Visualization with MovingPandas\n",
    "predicted_points = [Point(long, lat) for lat, long in y_pred_inv[0]]\n",
    "actual_points = [Point(long, lat) for lat, long in y_test_inv[0]]\n",
    "\n",
    "predicted_gdf = gpd.GeoDataFrame(geometry=predicted_points)\n",
    "actual_gdf = gpd.GeoDataFrame(geometry=actual_points)\n",
    "\n",
    "# # # Create a simple time index with the desired format\n",
    "start_time_str = '2021-01-08 00:00:00'\n",
    "start_time = pd.to_datetime(start_time_str, format='%Y-%m-%d %H:%M:%S')\n",
    "\n",
    "time_step_seconds = 3  # Adjust the time step as needed\n",
    "predicted_gdf['t'] = [start_time + pd.Timedelta(seconds=i * time_step_seconds) for i in range(len(predicted_gdf))]\n",
    "predicted_gdf.set_index('t', inplace=True)\n",
    "\n",
    "actual_gdf['t'] = [start_time + pd.Timedelta(seconds=i * time_step_seconds) for i in range(len(actual_gdf))]\n",
    "actual_gdf.set_index('t', inplace=True)\n",
    "\n",
    "trajectory = mpd.Trajectory(predicted_gdf, 't')\n",
    "actual_trajectory = mpd.Trajectory(actual_gdf, 't')\n",
    "\n",
    "# # Create a figure and axis\n",
    "fig, ax = plt.subplots(figsize=(20, 20))\n",
    "actual_trajectory.plot(ax=ax, linewidth=4, color='red')\n",
    "trajectory.plot(ax=ax, linewidth=1.5, color='blue')\n",
    "\n",
    "plt.title('Predicted Trajectory with MovingPandas')\n",
    "plt.show()\n",
    "\n",
    "# # # Calculate RMSE for latitude and longitude only\n",
    "rmse_lat = np.sqrt(mean_squared_error(y_test_inv[:, :, 0], y_pred_inv[:, :, 0]))\n",
    "rmse_lon = np.sqrt(mean_squared_error(y_test_inv[:, :, 1], y_pred_inv[:, :, 1]))\n",
    "comparison[\"RMSE\"].append(f\"RMSE for Latitude: {rmse_lat}, RMSE for Longitude: {rmse_lon}\")"
   ]
  },
  {
   "cell_type": "code",
   "execution_count": 85,
   "id": "49877d9f-c158-4807-903c-6376cff3be83",
   "metadata": {},
   "outputs": [
    {
     "data": {
      "text/html": [
       "<div>\n",
       "<style scoped>\n",
       "    .dataframe tbody tr th:only-of-type {\n",
       "        vertical-align: middle;\n",
       "    }\n",
       "\n",
       "    .dataframe tbody tr th {\n",
       "        vertical-align: top;\n",
       "    }\n",
       "\n",
       "    .dataframe thead th {\n",
       "        text-align: right;\n",
       "    }\n",
       "</style>\n",
       "<table border=\"1\" class=\"dataframe\">\n",
       "  <thead>\n",
       "    <tr style=\"text-align: right;\">\n",
       "      <th></th>\n",
       "      <th>name</th>\n",
       "      <th>time</th>\n",
       "      <th>RMSE</th>\n",
       "    </tr>\n",
       "  </thead>\n",
       "  <tbody>\n",
       "    <tr>\n",
       "      <th>0</th>\n",
       "      <td>MovingPandas</td>\n",
       "      <td>Processing Time: 4.133403539657593 seconds Training Time: 70.34682559967041 seconds</td>\n",
       "      <td>RMSE for Latitude: 1.591678940565239e-05, RMSE for Longitude: 0.00014883095010418396</td>\n",
       "    </tr>\n",
       "    <tr>\n",
       "      <th>1</th>\n",
       "      <td>PyMeos</td>\n",
       "      <td>Processing Time: 1.4216492176055908 seconds Training Time: 28.616368770599365 seconds</td>\n",
       "      <td>RMSE for Latitude: 0.0002567411624023556, RMSE for Longitude: 0.004358218936385827</td>\n",
       "    </tr>\n",
       "  </tbody>\n",
       "</table>\n",
       "</div>"
      ],
      "text/plain": [
       "           name  \\\n",
       "0  MovingPandas   \n",
       "1        PyMeos   \n",
       "\n",
       "                                                                                    time  \\\n",
       "0    Processing Time: 4.133403539657593 seconds Training Time: 70.34682559967041 seconds   \n",
       "1  Processing Time: 1.4216492176055908 seconds Training Time: 28.616368770599365 seconds   \n",
       "\n",
       "                                                                                   RMSE  \n",
       "0  RMSE for Latitude: 1.591678940565239e-05, RMSE for Longitude: 0.00014883095010418396  \n",
       "1    RMSE for Latitude: 0.0002567411624023556, RMSE for Longitude: 0.004358218936385827  "
      ]
     },
     "execution_count": 85,
     "metadata": {},
     "output_type": "execute_result"
    }
   ],
   "source": [
    "comparison = pd.DataFrame(comparison)\n",
    "pd.set_option('max_colwidth', 400)\n",
    "comparison"
   ]
  },
  {
   "cell_type": "code",
   "execution_count": 86,
   "id": "a2513753-5599-4a45-9667-068fd12b34f2",
   "metadata": {},
   "outputs": [
    {
     "name": "stdout",
     "output_type": "stream",
     "text": [
      "8.070507812618644e-05 0.004918330261229897\n"
     ]
    }
   ],
   "source": [
    "print(np.sqrt(mean_squared_error(y_test_inv[:, 9, 0], y_pred_inv[:, 9, 0])) ,np.sqrt(mean_squared_error(y_test_inv[:, 9, 1], y_pred_inv[:, 9, 1])))"
   ]
  },
  {
   "cell_type": "code",
   "execution_count": null,
   "id": "75ca634b-9f8c-4045-8478-04ffaee635cf",
   "metadata": {},
   "outputs": [],
   "source": []
  }
 ],
 "metadata": {
  "kernelspec": {
   "display_name": "Python 3 (ipykernel)",
   "language": "python",
   "name": "python3"
  },
  "language_info": {
   "codemirror_mode": {
    "name": "ipython",
    "version": 3
   },
   "file_extension": ".py",
   "mimetype": "text/x-python",
   "name": "python",
   "nbconvert_exporter": "python",
   "pygments_lexer": "ipython3",
   "version": "3.11.7"
  }
 },
 "nbformat": 4,
 "nbformat_minor": 5
}
