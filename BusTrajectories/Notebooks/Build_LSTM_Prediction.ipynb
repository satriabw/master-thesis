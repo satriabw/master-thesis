{
  "cells": [
    {
      "cell_type": "markdown",
      "metadata": {
        "id": "jLy-LVM70sgU"
      },
      "source": [
        "## Initialize Library"
      ]
    },
    {
      "cell_type": "code",
      "execution_count": null,
      "metadata": {
        "colab": {
          "base_uri": "https://localhost:8080/"
        },
        "id": "7NDKDEvWDwVp",
        "outputId": "7dca8bd7-618b-4ed2-94f0-fa007aa54c32"
      },
      "outputs": [
        {
          "output_type": "stream",
          "name": "stdout",
          "text": [
            "Mounted at /content/drive\n"
          ]
        }
      ],
      "source": [
        "from google.colab import drive\n",
        "drive.mount('/content/drive')"
      ]
    },
    {
      "cell_type": "code",
      "execution_count": null,
      "metadata": {
        "colab": {
          "base_uri": "https://localhost:8080/"
        },
        "id": "pJY2LIyeFlUo",
        "outputId": "16803797-d942-476d-a48c-edd325a15f30"
      },
      "outputs": [
        {
          "output_type": "stream",
          "name": "stdout",
          "text": [
            "/content/drive/MyDrive/Kuliah/BDMA/Master’s Thesis/GenoaData/processed_data\n"
          ]
        }
      ],
      "source": [
        "cd 'drive/MyDrive/Master’s Thesis/GenoaData/processed_data'"
      ]
    },
    {
      "cell_type": "code",
      "execution_count": null,
      "metadata": {
        "id": "BgTnK4PJxOG_",
        "colab": {
          "base_uri": "https://localhost:8080/"
        },
        "outputId": "7765ce78-c560-4098-d32e-41121ec42ba5"
      },
      "outputs": [
        {
          "output_type": "stream",
          "name": "stdout",
          "text": [
            "\u001b[?25l   \u001b[90m━━━━━━━━━━━━━━━━━━━━━━━━━━━━━━━━━━━━━━━━\u001b[0m \u001b[32m0.0/7.1 MB\u001b[0m \u001b[31m?\u001b[0m eta \u001b[36m-:--:--\u001b[0m\r\u001b[2K   \u001b[91m━━━━━━━━━━━━━━━━━━━━━━━━━━━━\u001b[0m\u001b[90m╺\u001b[0m\u001b[90m━━━━━━━━━━━\u001b[0m \u001b[32m5.0/7.1 MB\u001b[0m \u001b[31m149.1 MB/s\u001b[0m eta \u001b[36m0:00:01\u001b[0m\r\u001b[2K   \u001b[91m━━━━━━━━━━━━━━━━━━━━━━━━━━━━━━━━━━━━━━━\u001b[0m\u001b[91m╸\u001b[0m \u001b[32m7.1/7.1 MB\u001b[0m \u001b[31m160.3 MB/s\u001b[0m eta \u001b[36m0:00:01\u001b[0m\r\u001b[2K   \u001b[90m━━━━━━━━━━━━━━━━━━━━━━━━━━━━━━━━━━━━━━━━\u001b[0m \u001b[32m7.1/7.1 MB\u001b[0m \u001b[31m95.0 MB/s\u001b[0m eta \u001b[36m0:00:00\u001b[0m\n",
            "\u001b[?25h\u001b[?25l   \u001b[90m━━━━━━━━━━━━━━━━━━━━━━━━━━━━━━━━━━━━━━━━\u001b[0m \u001b[32m0.0/207.3 kB\u001b[0m \u001b[31m?\u001b[0m eta \u001b[36m-:--:--\u001b[0m\r\u001b[2K   \u001b[90m━━━━━━━━━━━━━━━━━━━━━━━━━━━━━━━━━━━━━━━━\u001b[0m \u001b[32m207.3/207.3 kB\u001b[0m \u001b[31m18.2 MB/s\u001b[0m eta \u001b[36m0:00:00\u001b[0m\n",
            "\u001b[?25h\u001b[?25l   \u001b[90m━━━━━━━━━━━━━━━━━━━━━━━━━━━━━━━━━━━━━━━━\u001b[0m \u001b[32m0.0/301.8 kB\u001b[0m \u001b[31m?\u001b[0m eta \u001b[36m-:--:--\u001b[0m\r\u001b[2K   \u001b[90m━━━━━━━━━━━━━━━━━━━━━━━━━━━━━━━━━━━━━━━━\u001b[0m \u001b[32m301.8/301.8 kB\u001b[0m \u001b[31m26.2 MB/s\u001b[0m eta \u001b[36m0:00:00\u001b[0m\n",
            "\u001b[?25h\u001b[?25l   \u001b[90m━━━━━━━━━━━━━━━━━━━━━━━━━━━━━━━━━━━━━━━━\u001b[0m \u001b[32m0.0/62.7 kB\u001b[0m \u001b[31m?\u001b[0m eta \u001b[36m-:--:--\u001b[0m\r\u001b[2K   \u001b[90m━━━━━━━━━━━━━━━━━━━━━━━━━━━━━━━━━━━━━━━━\u001b[0m \u001b[32m62.7/62.7 kB\u001b[0m \u001b[31m5.8 MB/s\u001b[0m eta \u001b[36m0:00:00\u001b[0m\n",
            "\u001b[?25h"
          ]
        }
      ],
      "source": [
        "!pip install wandb -qU"
      ]
    },
    {
      "cell_type": "code",
      "execution_count": null,
      "metadata": {
        "id": "GOZjzJ6NBI4d"
      },
      "outputs": [],
      "source": [
        "import pandas as pd\n",
        "import torch\n",
        "import numpy as np\n",
        "import math\n",
        "import torch.nn.functional as F\n",
        "import glob\n",
        "import os\n",
        "\n",
        "from torch.utils.data import Dataset, DataLoader\n",
        "from torch import nn, optim\n",
        "from sklearn.preprocessing import LabelEncoder, StandardScaler\n",
        "from sklearn.model_selection import GroupShuffleSplit\n",
        "from sklearn import metrics\n",
        "from torch.utils.tensorboard import SummaryWriter\n",
        "from tqdm import tqdm"
      ]
    },
    {
      "cell_type": "code",
      "execution_count": null,
      "metadata": {
        "colab": {
          "base_uri": "https://localhost:8080/"
        },
        "id": "Kyjr-vsfxJSj",
        "outputId": "f5d7caac-d6a3-4469-d8f6-de7ef34443e5"
      },
      "outputs": [
        {
          "output_type": "stream",
          "name": "stderr",
          "text": [
            "\u001b[34m\u001b[1mwandb\u001b[0m: W&B API key is configured. Use \u001b[1m`wandb login --relogin`\u001b[0m to force relogin\n",
            "\u001b[34m\u001b[1mwandb\u001b[0m: \u001b[33mWARNING\u001b[0m If you're specifying your api key in code, ensure this code is not shared publicly.\n",
            "\u001b[34m\u001b[1mwandb\u001b[0m: \u001b[33mWARNING\u001b[0m Consider setting the WANDB_API_KEY environment variable, or running `wandb login` from the command line.\n",
            "\u001b[34m\u001b[1mwandb\u001b[0m: Appending key for api.wandb.ai to your netrc file: /root/.netrc\n"
          ]
        },
        {
          "output_type": "execute_result",
          "data": {
            "text/plain": [
              "True"
            ]
          },
          "metadata": {},
          "execution_count": 5
        }
      ],
      "source": [
        "import wandb\n",
        "\n",
        "wandb.login(key='baa9bd51cff45b100a3b43f6a039845a468eb8b2')"
      ]
    },
    {
      "cell_type": "markdown",
      "metadata": {
        "id": "5fgPAkPL0_-I"
      },
      "source": [
        "## Importing the dataset"
      ]
    },
    {
      "cell_type": "code",
      "execution_count": null,
      "metadata": {
        "id": "z16w3GEj1Gwe"
      },
      "outputs": [],
      "source": [
        "dataset = pd.read_csv('./dataset_cleaned_v5.csv')\n",
        "dataset['t'] = pd.to_datetime(dataset['t'])\n",
        "dataset['datetime'] = pd.to_datetime(dataset['datetime'])\n",
        "dataset['date'] = dataset['t'].dt.date\n",
        "dataset['vehicle'] = dataset['vehicle'].astype(str)\n",
        "dataset['road_segment_id'] = dataset['road_segment_id'].astype(str)\n",
        "dataset = dataset.drop(columns=['segment_id', 'snowfall', 'est_segment_battery_consumption(kwh)',  'rain', 'soil_moisture_0_to_7cm', 'soil_temperature_0_to_7cm', 'geometry',  'speed_meos'])"
      ]
    },
    {
      "cell_type": "code",
      "execution_count": null,
      "metadata": {
        "id": "n77PFI0_JHit"
      },
      "outputs": [],
      "source": [
        "dataset = dataset.sort_values(['vehicle', 'date', 'datetime'])\n",
        "grouped = dataset.groupby(['vehicle', 'date', 'datetime'])['sunshine_duration'].first().shift(-1).reset_index()\n",
        "grouped = grouped.rename(columns={'sunshine_duration': 'next_sunshine_duration'})\n",
        "\n",
        "# Merge the shifted sunshine duration back into the original dataset\n",
        "dataset = dataset.merge(grouped, on=['vehicle', 'date', 'datetime'], how='left')\n",
        "dataset = dataset.rename(columns={'next_sunshine_duration': 'current_sunshine_duration'})\n",
        "dataset[['sunshine_duration', 'current_sunshine_duration']]\n",
        "\n",
        "dataset = dataset.drop(columns=['sunshine_duration', 'is_day'])\n",
        "dataset['current_sunshine_duration'] = dataset['current_sunshine_duration'].fillna(0)"
      ]
    },
    {
      "cell_type": "code",
      "execution_count": null,
      "metadata": {
        "id": "LWbQqIk72HGs"
      },
      "outputs": [],
      "source": [
        "# Create a column for day of the week\n",
        "dataset['day_of_week'] = dataset['t'].dt.day_name()\n",
        "\n",
        "# Define time bins\n",
        "# Define hourly time bins\n",
        "bins = list(range(0, 24*60+1, 60))  # bins every hour\n",
        "labels = [f'{str(i).zfill(2)}:00-{str(i+1).zfill(2)}:00' for i in range(24)]\n",
        "\n",
        "# Create a column for time range\n",
        "dataset['time_range'] = pd.cut(dataset['t'].dt.hour*60 + dataset['t'].dt.minute,\n",
        "                               bins=bins,\n",
        "                               labels=labels,\n",
        "                               right=False,\n",
        "                               include_lowest=True)"
      ]
    },
    {
      "cell_type": "code",
      "execution_count": null,
      "metadata": {
        "id": "oVS_lzbT1HA4"
      },
      "outputs": [],
      "source": [
        "dataset['duration'] = dataset.groupby(['vehicle', 'date'])['t'].apply(lambda x: x.shift(-1).sub(x).dt.total_seconds()).reset_index()['t']\n",
        "dataset['duration'] = dataset['duration'].fillna(0.0)\n",
        "max_durations = dataset.groupby(['vehicle', 'date', 't'])['duration'].transform('max')\n",
        "dataset['duration'] = dataset['duration'].mask(dataset['duration'] == 0, max_durations)"
      ]
    },
    {
      "cell_type": "code",
      "execution_count": null,
      "metadata": {
        "id": "Bzho5okkycyI"
      },
      "outputs": [],
      "source": [
        "dataset['stop'] = dataset['trip_id'].str.contains('stop')\n",
        "dataset = dataset[~dataset['stop']]\n",
        "dataset['unique_trip_id'] = dataset['vehicle'].astype(str) + '_' + dataset['date'].astype(str) + '_' + dataset['trip_id'].astype(str)"
      ]
    },
    {
      "cell_type": "code",
      "execution_count": null,
      "metadata": {
        "colab": {
          "base_uri": "https://localhost:8080/",
          "height": 313
        },
        "id": "pLyTTFE4Pr-r",
        "outputId": "a860f3a8-05d6-481a-b8d3-bf842cfd4ec6"
      },
      "outputs": [
        {
          "output_type": "execute_result",
          "data": {
            "text/plain": [
              "  vehicle                   t road_segment_id  est_battery_consumption(kwh)  \\\n",
              "0    E301 2024-01-21 08:49:19       553983725                      1.000000   \n",
              "1    E301 2024-01-21 08:49:49       211285373                      0.199855   \n",
              "2    E301 2024-01-21 08:49:49        19784065                      0.227071   \n",
              "3    E301 2024-01-21 08:49:49       474230989                      0.064877   \n",
              "4    E301 2024-01-21 08:50:19       553819742                      0.508197   \n",
              "\n",
              "         date  segment_length  distance_traveled  temperature_2m  \\\n",
              "0  2024-01-21       14.361187           1.625764           4.683   \n",
              "1  2024-01-21       63.803733          43.126976           4.683   \n",
              "2  2024-01-21       48.896393          49.000000           4.683   \n",
              "3  2024-01-21       13.874596          14.000000           4.683   \n",
              "4  2024-01-21       74.361373          54.949292           4.683   \n",
              "\n",
              "   relative_humidity_2m  precipitation  wind_speed_10m  wind_direction_10m  \\\n",
              "0              29.58425            0.0       10.483357           15.945477   \n",
              "1              29.58425            0.0       10.483357           15.945477   \n",
              "2              29.58425            0.0       10.483357           15.945477   \n",
              "3              29.58425            0.0       10.483357           15.945477   \n",
              "4              29.58425            0.0       10.483357           15.945477   \n",
              "\n",
              "   mean_elevation  avg_grade  avg_angle  current_sunshine_duration  \\\n",
              "0        8.699299  -1.343470  -0.769706                     3600.0   \n",
              "1        8.543800  -0.184659  -0.105802                     3600.0   \n",
              "2        8.391276  -0.414343  -0.237398                     3600.0   \n",
              "3        8.100567  -1.743121  -0.998634                     3600.0   \n",
              "4        7.554913  -0.185431  -0.106138                     3600.0   \n",
              "\n",
              "  day_of_week   time_range  duration           unique_trip_id  \n",
              "0      Sunday  08:00-09:00      30.0  E301_2024-01-21_trip_20  \n",
              "1      Sunday  08:00-09:00      30.0  E301_2024-01-21_trip_20  \n",
              "2      Sunday  08:00-09:00      30.0  E301_2024-01-21_trip_20  \n",
              "3      Sunday  08:00-09:00      30.0  E301_2024-01-21_trip_20  \n",
              "4      Sunday  08:00-09:00      31.0  E301_2024-01-21_trip_20  "
            ],
            "text/html": [
              "\n",
              "  <div id=\"df-97120f2c-7186-4ac8-bea3-39c730fd81d1\" class=\"colab-df-container\">\n",
              "    <div>\n",
              "<style scoped>\n",
              "    .dataframe tbody tr th:only-of-type {\n",
              "        vertical-align: middle;\n",
              "    }\n",
              "\n",
              "    .dataframe tbody tr th {\n",
              "        vertical-align: top;\n",
              "    }\n",
              "\n",
              "    .dataframe thead th {\n",
              "        text-align: right;\n",
              "    }\n",
              "</style>\n",
              "<table border=\"1\" class=\"dataframe\">\n",
              "  <thead>\n",
              "    <tr style=\"text-align: right;\">\n",
              "      <th></th>\n",
              "      <th>vehicle</th>\n",
              "      <th>t</th>\n",
              "      <th>road_segment_id</th>\n",
              "      <th>est_battery_consumption(kwh)</th>\n",
              "      <th>date</th>\n",
              "      <th>segment_length</th>\n",
              "      <th>distance_traveled</th>\n",
              "      <th>temperature_2m</th>\n",
              "      <th>relative_humidity_2m</th>\n",
              "      <th>precipitation</th>\n",
              "      <th>wind_speed_10m</th>\n",
              "      <th>wind_direction_10m</th>\n",
              "      <th>mean_elevation</th>\n",
              "      <th>avg_grade</th>\n",
              "      <th>avg_angle</th>\n",
              "      <th>current_sunshine_duration</th>\n",
              "      <th>day_of_week</th>\n",
              "      <th>time_range</th>\n",
              "      <th>duration</th>\n",
              "      <th>unique_trip_id</th>\n",
              "    </tr>\n",
              "  </thead>\n",
              "  <tbody>\n",
              "    <tr>\n",
              "      <th>0</th>\n",
              "      <td>E301</td>\n",
              "      <td>2024-01-21 08:49:19</td>\n",
              "      <td>553983725</td>\n",
              "      <td>1.000000</td>\n",
              "      <td>2024-01-21</td>\n",
              "      <td>14.361187</td>\n",
              "      <td>1.625764</td>\n",
              "      <td>4.683</td>\n",
              "      <td>29.58425</td>\n",
              "      <td>0.0</td>\n",
              "      <td>10.483357</td>\n",
              "      <td>15.945477</td>\n",
              "      <td>8.699299</td>\n",
              "      <td>-1.343470</td>\n",
              "      <td>-0.769706</td>\n",
              "      <td>3600.0</td>\n",
              "      <td>Sunday</td>\n",
              "      <td>08:00-09:00</td>\n",
              "      <td>30.0</td>\n",
              "      <td>E301_2024-01-21_trip_20</td>\n",
              "    </tr>\n",
              "    <tr>\n",
              "      <th>1</th>\n",
              "      <td>E301</td>\n",
              "      <td>2024-01-21 08:49:49</td>\n",
              "      <td>211285373</td>\n",
              "      <td>0.199855</td>\n",
              "      <td>2024-01-21</td>\n",
              "      <td>63.803733</td>\n",
              "      <td>43.126976</td>\n",
              "      <td>4.683</td>\n",
              "      <td>29.58425</td>\n",
              "      <td>0.0</td>\n",
              "      <td>10.483357</td>\n",
              "      <td>15.945477</td>\n",
              "      <td>8.543800</td>\n",
              "      <td>-0.184659</td>\n",
              "      <td>-0.105802</td>\n",
              "      <td>3600.0</td>\n",
              "      <td>Sunday</td>\n",
              "      <td>08:00-09:00</td>\n",
              "      <td>30.0</td>\n",
              "      <td>E301_2024-01-21_trip_20</td>\n",
              "    </tr>\n",
              "    <tr>\n",
              "      <th>2</th>\n",
              "      <td>E301</td>\n",
              "      <td>2024-01-21 08:49:49</td>\n",
              "      <td>19784065</td>\n",
              "      <td>0.227071</td>\n",
              "      <td>2024-01-21</td>\n",
              "      <td>48.896393</td>\n",
              "      <td>49.000000</td>\n",
              "      <td>4.683</td>\n",
              "      <td>29.58425</td>\n",
              "      <td>0.0</td>\n",
              "      <td>10.483357</td>\n",
              "      <td>15.945477</td>\n",
              "      <td>8.391276</td>\n",
              "      <td>-0.414343</td>\n",
              "      <td>-0.237398</td>\n",
              "      <td>3600.0</td>\n",
              "      <td>Sunday</td>\n",
              "      <td>08:00-09:00</td>\n",
              "      <td>30.0</td>\n",
              "      <td>E301_2024-01-21_trip_20</td>\n",
              "    </tr>\n",
              "    <tr>\n",
              "      <th>3</th>\n",
              "      <td>E301</td>\n",
              "      <td>2024-01-21 08:49:49</td>\n",
              "      <td>474230989</td>\n",
              "      <td>0.064877</td>\n",
              "      <td>2024-01-21</td>\n",
              "      <td>13.874596</td>\n",
              "      <td>14.000000</td>\n",
              "      <td>4.683</td>\n",
              "      <td>29.58425</td>\n",
              "      <td>0.0</td>\n",
              "      <td>10.483357</td>\n",
              "      <td>15.945477</td>\n",
              "      <td>8.100567</td>\n",
              "      <td>-1.743121</td>\n",
              "      <td>-0.998634</td>\n",
              "      <td>3600.0</td>\n",
              "      <td>Sunday</td>\n",
              "      <td>08:00-09:00</td>\n",
              "      <td>30.0</td>\n",
              "      <td>E301_2024-01-21_trip_20</td>\n",
              "    </tr>\n",
              "    <tr>\n",
              "      <th>4</th>\n",
              "      <td>E301</td>\n",
              "      <td>2024-01-21 08:50:19</td>\n",
              "      <td>553819742</td>\n",
              "      <td>0.508197</td>\n",
              "      <td>2024-01-21</td>\n",
              "      <td>74.361373</td>\n",
              "      <td>54.949292</td>\n",
              "      <td>4.683</td>\n",
              "      <td>29.58425</td>\n",
              "      <td>0.0</td>\n",
              "      <td>10.483357</td>\n",
              "      <td>15.945477</td>\n",
              "      <td>7.554913</td>\n",
              "      <td>-0.185431</td>\n",
              "      <td>-0.106138</td>\n",
              "      <td>3600.0</td>\n",
              "      <td>Sunday</td>\n",
              "      <td>08:00-09:00</td>\n",
              "      <td>31.0</td>\n",
              "      <td>E301_2024-01-21_trip_20</td>\n",
              "    </tr>\n",
              "  </tbody>\n",
              "</table>\n",
              "</div>\n",
              "    <div class=\"colab-df-buttons\">\n",
              "\n",
              "  <div class=\"colab-df-container\">\n",
              "    <button class=\"colab-df-convert\" onclick=\"convertToInteractive('df-97120f2c-7186-4ac8-bea3-39c730fd81d1')\"\n",
              "            title=\"Convert this dataframe to an interactive table.\"\n",
              "            style=\"display:none;\">\n",
              "\n",
              "  <svg xmlns=\"http://www.w3.org/2000/svg\" height=\"24px\" viewBox=\"0 -960 960 960\">\n",
              "    <path d=\"M120-120v-720h720v720H120Zm60-500h600v-160H180v160Zm220 220h160v-160H400v160Zm0 220h160v-160H400v160ZM180-400h160v-160H180v160Zm440 0h160v-160H620v160ZM180-180h160v-160H180v160Zm440 0h160v-160H620v160Z\"/>\n",
              "  </svg>\n",
              "    </button>\n",
              "\n",
              "  <style>\n",
              "    .colab-df-container {\n",
              "      display:flex;\n",
              "      gap: 12px;\n",
              "    }\n",
              "\n",
              "    .colab-df-convert {\n",
              "      background-color: #E8F0FE;\n",
              "      border: none;\n",
              "      border-radius: 50%;\n",
              "      cursor: pointer;\n",
              "      display: none;\n",
              "      fill: #1967D2;\n",
              "      height: 32px;\n",
              "      padding: 0 0 0 0;\n",
              "      width: 32px;\n",
              "    }\n",
              "\n",
              "    .colab-df-convert:hover {\n",
              "      background-color: #E2EBFA;\n",
              "      box-shadow: 0px 1px 2px rgba(60, 64, 67, 0.3), 0px 1px 3px 1px rgba(60, 64, 67, 0.15);\n",
              "      fill: #174EA6;\n",
              "    }\n",
              "\n",
              "    .colab-df-buttons div {\n",
              "      margin-bottom: 4px;\n",
              "    }\n",
              "\n",
              "    [theme=dark] .colab-df-convert {\n",
              "      background-color: #3B4455;\n",
              "      fill: #D2E3FC;\n",
              "    }\n",
              "\n",
              "    [theme=dark] .colab-df-convert:hover {\n",
              "      background-color: #434B5C;\n",
              "      box-shadow: 0px 1px 3px 1px rgba(0, 0, 0, 0.15);\n",
              "      filter: drop-shadow(0px 1px 2px rgba(0, 0, 0, 0.3));\n",
              "      fill: #FFFFFF;\n",
              "    }\n",
              "  </style>\n",
              "\n",
              "    <script>\n",
              "      const buttonEl =\n",
              "        document.querySelector('#df-97120f2c-7186-4ac8-bea3-39c730fd81d1 button.colab-df-convert');\n",
              "      buttonEl.style.display =\n",
              "        google.colab.kernel.accessAllowed ? 'block' : 'none';\n",
              "\n",
              "      async function convertToInteractive(key) {\n",
              "        const element = document.querySelector('#df-97120f2c-7186-4ac8-bea3-39c730fd81d1');\n",
              "        const dataTable =\n",
              "          await google.colab.kernel.invokeFunction('convertToInteractive',\n",
              "                                                    [key], {});\n",
              "        if (!dataTable) return;\n",
              "\n",
              "        const docLinkHtml = 'Like what you see? Visit the ' +\n",
              "          '<a target=\"_blank\" href=https://colab.research.google.com/notebooks/data_table.ipynb>data table notebook</a>'\n",
              "          + ' to learn more about interactive tables.';\n",
              "        element.innerHTML = '';\n",
              "        dataTable['output_type'] = 'display_data';\n",
              "        await google.colab.output.renderOutput(dataTable, element);\n",
              "        const docLink = document.createElement('div');\n",
              "        docLink.innerHTML = docLinkHtml;\n",
              "        element.appendChild(docLink);\n",
              "      }\n",
              "    </script>\n",
              "  </div>\n",
              "\n",
              "\n",
              "<div id=\"df-b619ea00-31e4-4772-96a9-2711dbb1f12b\">\n",
              "  <button class=\"colab-df-quickchart\" onclick=\"quickchart('df-b619ea00-31e4-4772-96a9-2711dbb1f12b')\"\n",
              "            title=\"Suggest charts\"\n",
              "            style=\"display:none;\">\n",
              "\n",
              "<svg xmlns=\"http://www.w3.org/2000/svg\" height=\"24px\"viewBox=\"0 0 24 24\"\n",
              "     width=\"24px\">\n",
              "    <g>\n",
              "        <path d=\"M19 3H5c-1.1 0-2 .9-2 2v14c0 1.1.9 2 2 2h14c1.1 0 2-.9 2-2V5c0-1.1-.9-2-2-2zM9 17H7v-7h2v7zm4 0h-2V7h2v10zm4 0h-2v-4h2v4z\"/>\n",
              "    </g>\n",
              "</svg>\n",
              "  </button>\n",
              "\n",
              "<style>\n",
              "  .colab-df-quickchart {\n",
              "      --bg-color: #E8F0FE;\n",
              "      --fill-color: #1967D2;\n",
              "      --hover-bg-color: #E2EBFA;\n",
              "      --hover-fill-color: #174EA6;\n",
              "      --disabled-fill-color: #AAA;\n",
              "      --disabled-bg-color: #DDD;\n",
              "  }\n",
              "\n",
              "  [theme=dark] .colab-df-quickchart {\n",
              "      --bg-color: #3B4455;\n",
              "      --fill-color: #D2E3FC;\n",
              "      --hover-bg-color: #434B5C;\n",
              "      --hover-fill-color: #FFFFFF;\n",
              "      --disabled-bg-color: #3B4455;\n",
              "      --disabled-fill-color: #666;\n",
              "  }\n",
              "\n",
              "  .colab-df-quickchart {\n",
              "    background-color: var(--bg-color);\n",
              "    border: none;\n",
              "    border-radius: 50%;\n",
              "    cursor: pointer;\n",
              "    display: none;\n",
              "    fill: var(--fill-color);\n",
              "    height: 32px;\n",
              "    padding: 0;\n",
              "    width: 32px;\n",
              "  }\n",
              "\n",
              "  .colab-df-quickchart:hover {\n",
              "    background-color: var(--hover-bg-color);\n",
              "    box-shadow: 0 1px 2px rgba(60, 64, 67, 0.3), 0 1px 3px 1px rgba(60, 64, 67, 0.15);\n",
              "    fill: var(--button-hover-fill-color);\n",
              "  }\n",
              "\n",
              "  .colab-df-quickchart-complete:disabled,\n",
              "  .colab-df-quickchart-complete:disabled:hover {\n",
              "    background-color: var(--disabled-bg-color);\n",
              "    fill: var(--disabled-fill-color);\n",
              "    box-shadow: none;\n",
              "  }\n",
              "\n",
              "  .colab-df-spinner {\n",
              "    border: 2px solid var(--fill-color);\n",
              "    border-color: transparent;\n",
              "    border-bottom-color: var(--fill-color);\n",
              "    animation:\n",
              "      spin 1s steps(1) infinite;\n",
              "  }\n",
              "\n",
              "  @keyframes spin {\n",
              "    0% {\n",
              "      border-color: transparent;\n",
              "      border-bottom-color: var(--fill-color);\n",
              "      border-left-color: var(--fill-color);\n",
              "    }\n",
              "    20% {\n",
              "      border-color: transparent;\n",
              "      border-left-color: var(--fill-color);\n",
              "      border-top-color: var(--fill-color);\n",
              "    }\n",
              "    30% {\n",
              "      border-color: transparent;\n",
              "      border-left-color: var(--fill-color);\n",
              "      border-top-color: var(--fill-color);\n",
              "      border-right-color: var(--fill-color);\n",
              "    }\n",
              "    40% {\n",
              "      border-color: transparent;\n",
              "      border-right-color: var(--fill-color);\n",
              "      border-top-color: var(--fill-color);\n",
              "    }\n",
              "    60% {\n",
              "      border-color: transparent;\n",
              "      border-right-color: var(--fill-color);\n",
              "    }\n",
              "    80% {\n",
              "      border-color: transparent;\n",
              "      border-right-color: var(--fill-color);\n",
              "      border-bottom-color: var(--fill-color);\n",
              "    }\n",
              "    90% {\n",
              "      border-color: transparent;\n",
              "      border-bottom-color: var(--fill-color);\n",
              "    }\n",
              "  }\n",
              "</style>\n",
              "\n",
              "  <script>\n",
              "    async function quickchart(key) {\n",
              "      const quickchartButtonEl =\n",
              "        document.querySelector('#' + key + ' button');\n",
              "      quickchartButtonEl.disabled = true;  // To prevent multiple clicks.\n",
              "      quickchartButtonEl.classList.add('colab-df-spinner');\n",
              "      try {\n",
              "        const charts = await google.colab.kernel.invokeFunction(\n",
              "            'suggestCharts', [key], {});\n",
              "      } catch (error) {\n",
              "        console.error('Error during call to suggestCharts:', error);\n",
              "      }\n",
              "      quickchartButtonEl.classList.remove('colab-df-spinner');\n",
              "      quickchartButtonEl.classList.add('colab-df-quickchart-complete');\n",
              "    }\n",
              "    (() => {\n",
              "      let quickchartButtonEl =\n",
              "        document.querySelector('#df-b619ea00-31e4-4772-96a9-2711dbb1f12b button');\n",
              "      quickchartButtonEl.style.display =\n",
              "        google.colab.kernel.accessAllowed ? 'block' : 'none';\n",
              "    })();\n",
              "  </script>\n",
              "</div>\n",
              "\n",
              "    </div>\n",
              "  </div>\n"
            ],
            "application/vnd.google.colaboratory.intrinsic+json": {
              "type": "dataframe",
              "variable_name": "dataset"
            }
          },
          "metadata": {},
          "execution_count": 105
        }
      ],
      "source": [
        "dataset = dataset.drop(columns=['datetime', 'stop', 'trip_id'])\n",
        "dataset.head()"
      ]
    },
    {
      "cell_type": "markdown",
      "metadata": {
        "id": "ed5DXKar1HYi"
      },
      "source": [
        "## Training the Model"
      ]
    },
    {
      "cell_type": "markdown",
      "metadata": {
        "id": "rV9MbbR1CUjY"
      },
      "source": [
        "### Preparing the dataset"
      ]
    },
    {
      "cell_type": "code",
      "execution_count": null,
      "metadata": {
        "id": "ZBzdpHD8PyHK"
      },
      "outputs": [],
      "source": [
        "class SegmentDataset(Dataset):\n",
        "    def __init__(self, df, target='avg_kwh', features=['incline', 'distance', 'time_difference'],\n",
        "                 cat_features=['A', 'B'], identifiers=['id1', 'id2'], sequence_length=4):\n",
        "        self.features = features\n",
        "        self.cat_features = cat_features\n",
        "        self.target = target\n",
        "        self.identifiers = identifiers\n",
        "        self.sequence_length = sequence_length\n",
        "        self.X, self.y, self.cat_X, self.ids = self.__prepare_sequence__(df, features, cat_features, target, identifiers, sequence_length)\n",
        "\n",
        "    def __prepare_sequence__(self, df, features, cat_features, target, identifiers, sequence_length):\n",
        "        feature_sequences = []\n",
        "        cat_feature_sequences = []\n",
        "        labels = []\n",
        "        identifier_seqs = []\n",
        "\n",
        "        for _, group in df.groupby(by=['vehicle', 'date', 'unique_trip_id']):\n",
        "            group = group.sort_values('t')\n",
        "            group_array = group[features + cat_features + [target] + identifiers].to_numpy()\n",
        "\n",
        "            for i in range(len(group_array)):\n",
        "                if i >= sequence_length - 1:\n",
        "                    start_index = i - (sequence_length - 1)\n",
        "                    window = group_array[start_index:i+1]\n",
        "                else:\n",
        "                    padding_length = sequence_length - (i + 1)\n",
        "                    padding = np.zeros((padding_length, group_array.shape[1]))\n",
        "                    window = np.vstack((padding, group_array[:i+1]))\n",
        "\n",
        "                feature_tensor = torch.tensor(window[:, :len(features)], dtype=torch.float32)\n",
        "                cat_feature_tensor = torch.tensor(window[:, len(features):-len(identifiers)-1], dtype=torch.long)\n",
        "\n",
        "                feature_sequences.append(feature_tensor)\n",
        "                cat_feature_sequences.append(cat_feature_tensor)\n",
        "\n",
        "                labels.append(torch.tensor(window[-1, -len(identifiers)-1], dtype=torch.float32))\n",
        "                identifier_seqs.append(torch.tensor(window[-1, -len(identifiers):], dtype=torch.float32))  # Last columns are the identifiers\n",
        "\n",
        "        return torch.stack(feature_sequences), torch.stack(labels), torch.stack(cat_feature_sequences), torch.stack(identifier_seqs)\n",
        "\n",
        "    def __len__(self):\n",
        "        return self.X.shape[0]\n",
        "\n",
        "    def __getitem__(self, i):\n",
        "        return self.X[i], self.y[i], self.cat_X[i], self.ids[i]"
      ]
    },
    {
      "cell_type": "code",
      "execution_count": null,
      "metadata": {
        "id": "-CvKS24v4L8G"
      },
      "outputs": [],
      "source": [
        "def encode_data(dataset, categorical_features):\n",
        "    encoders = []\n",
        "    for col in categorical_features:\n",
        "        encoder = LabelEncoder()\n",
        "        dataset[col] = encoder.fit_transform(dataset[col])\n",
        "        encoders.append(encoder)\n",
        "\n",
        "    return encoders\n",
        "\n",
        "\n",
        "def split_data(dataset, splits):\n",
        "    # Create a copy of the dataset to avoid modifying the original\n",
        "    df = dataset.copy()\n",
        "\n",
        "    # Sort the dataframe by vehicle and time to maintain order\n",
        "    df = df.sort_values(['vehicle', 't'])\n",
        "\n",
        "    # Create GroupShuffleSplit objects\n",
        "    train_test_splitter = GroupShuffleSplit(n_splits=1, train_size=splits[0]+splits[1], random_state=42)\n",
        "    train_val_splitter = GroupShuffleSplit(n_splits=1, train_size=(splits[0]/(splits[0]+splits[1])), random_state=42)\n",
        "\n",
        "\n",
        "    # Split into train + val and test\n",
        "    train_val_idx, test_idx = next(train_test_splitter.split(df, groups=df['unique_trip_id']))\n",
        "    train_val_df = df.iloc[train_val_idx]\n",
        "    test_df = df.iloc[test_idx]\n",
        "\n",
        "    train_val_df = train_val_df.reset_index(drop=True)\n",
        "\n",
        "    # Split train + val into train and val\n",
        "    train_idx, val_idx = next(train_val_splitter.split(train_val_df, groups=train_val_df['unique_trip_id']))\n",
        "    train_df = train_val_df.iloc[train_idx]\n",
        "    val_df = train_val_df.iloc[val_idx]\n",
        "\n",
        "    # Assert that trips are unique across splits\n",
        "    train_trips = set(train_df['unique_trip_id'])\n",
        "    val_trips = set(val_df['unique_trip_id'])\n",
        "    test_trips = set(test_df['unique_trip_id'])\n",
        "\n",
        "    assert train_trips.isdisjoint(val_trips), \"Train and validation sets have overlapping trips\"\n",
        "    assert train_trips.isdisjoint(test_trips), \"Train and test sets have overlapping trips\"\n",
        "    assert val_trips.isdisjoint(test_trips), \"Validation and test sets have overlapping trips\"\n",
        "\n",
        "    return train_df, val_df, test_df\n",
        "\n",
        "def scale_data(train_df, val_df, test_df, features):\n",
        "    scaler = StandardScaler().fit(train_df[features])\n",
        "    train_df[features] = scaler.transform(train_df[features])\n",
        "    test_df[features] = scaler.transform(test_df[features])\n",
        "    val_df[features] = scaler.transform(val_df[features])\n",
        "\n",
        "    return scaler\n",
        "\n",
        "def load_and_preprocess_data(dataset, target, features, identifiers,\n",
        "                             categorical_features, non_categorical_features,\n",
        "                             batch_size, sequence_length, splits):\n",
        "\n",
        "    # Preprocess the data\n",
        "    encoders = encode_data(dataset, categorical_features)\n",
        "    train_df, val_df, test_df = split_data(dataset, splits)\n",
        "    scaler = scale_data(train_df, val_df, test_df, features)\n",
        "\n",
        "    torch.manual_seed(101)\n",
        "\n",
        "    train_dataset = SegmentDataset(\n",
        "        train_df,\n",
        "        target=target[0],\n",
        "        features=features,\n",
        "        cat_features=categorical_features,\n",
        "        identifiers=identifiers,\n",
        "        sequence_length=sequence_length\n",
        "    )\n",
        "    val_dataset = SegmentDataset(\n",
        "        val_df,\n",
        "        target=target[0],\n",
        "        features=features,\n",
        "        cat_features=categorical_features,\n",
        "        identifiers=identifiers,\n",
        "        sequence_length=sequence_length\n",
        "    )\n",
        "\n",
        "    test_dataset = SegmentDataset(\n",
        "        test_df,\n",
        "        target=target[0],\n",
        "        features=features,\n",
        "        cat_features=categorical_features,\n",
        "        identifiers=identifiers,\n",
        "        sequence_length=sequence_length\n",
        "    )\n",
        "\n",
        "    train_loader = DataLoader(train_dataset, batch_size=batch_size, shuffle=True, pin_memory=True)\n",
        "    val_loader = DataLoader(val_dataset, batch_size=batch_size, shuffle=True, pin_memory=True)\n",
        "    test_loader = DataLoader(test_dataset, batch_size=batch_size, shuffle=False, pin_memory=True)\n",
        "\n",
        "    return train_loader, val_loader, test_loader, test_df, encoders, scaler"
      ]
    },
    {
      "cell_type": "markdown",
      "metadata": {
        "id": "lo5MY25liUdF"
      },
      "source": [
        "### Building the model"
      ]
    },
    {
      "cell_type": "markdown",
      "metadata": {
        "id": "8tmqLLXEyNYU"
      },
      "source": [
        "#### Unused model"
      ]
    },
    {
      "cell_type": "code",
      "execution_count": null,
      "metadata": {
        "colab": {
          "base_uri": "https://localhost:8080/",
          "height": 106
        },
        "id": "Wq37zMV1yLfe",
        "outputId": "ba9fa3d2-ef01-4365-97e4-3bbeb7599a01"
      },
      "outputs": [
        {
          "ename": "SyntaxError",
          "evalue": "invalid syntax (<ipython-input-13-c4628c67c579>, line 2)",
          "output_type": "error",
          "traceback": [
            "\u001b[0;36m  File \u001b[0;32m\"<ipython-input-13-c4628c67c579>\"\u001b[0;36m, line \u001b[0;32m2\u001b[0m\n\u001b[0;31m    def __init__(self, num_embeddings=2, num_lstm_layers=3, num_categories=):\u001b[0m\n\u001b[0m                                                                           ^\u001b[0m\n\u001b[0;31mSyntaxError\u001b[0m\u001b[0;31m:\u001b[0m invalid syntax\n"
          ]
        }
      ],
      "source": [
        "# def split_data(dataset, splits):\n",
        "#     # Split the data based on date instead of randomizing it as it is very important for training\n",
        "#     maximum_dates = dataset['date'].unique().max()\n",
        "#     train_split = math.floor(splits[0] * maximum_dates)\n",
        "#     val_split = train_split + math.floor(splits[1] * maximum_dates)\n",
        "\n",
        "#     # Function to split each group\n",
        "#     def split_group(group):\n",
        "#         train = group[group['date'] < train_split]\n",
        "#         val = group[(group['date'] >= train_split) & (group['date'] < val_split)]\n",
        "#         test = group[group['date'] >= val_split]\n",
        "#         return train, val, test\n",
        "\n",
        "#     # Applying the function to each group and collecting results\n",
        "#     train_frames = []\n",
        "#     val_frames = []\n",
        "#     test_frames = []\n",
        "\n",
        "#     for _, group in dataset.groupby(by=['vehicle']):\n",
        "#         train, val, test = split_group(group)\n",
        "#         train_frames.append(train)\n",
        "#         val_frames.append(val)\n",
        "#         test_frames.append(test)\n",
        "\n",
        "#     # Concatenate all the training and testing groups back into DataFrames\n",
        "#     train_df = pd.concat(train_frames)\n",
        "#     val_df = pd.concat(val_frames)\n",
        "#     test_df = pd.concat(test_frames)\n",
        "\n",
        "#     return train_df, val_df, test_df\n",
        "\n",
        "# class LSTMModel(nn.Module):\n",
        "#     def __init__(self, num_embeddings=2, num_lstm_layers=3, num_categories=):\n",
        "#         super(LSTMModel, self).__init__()\n",
        "#         self.num_embeddings = num_embeddings\n",
        "#         self.lstm_hidden_size = lstm_hidden_size\n",
        "#         self.num_lstm_layers = num_lstm_layers\n",
        "#         self.dense_hidden_size = dense_hidden_size\n",
        "#         self.dropout_prob = dropout_prob\n",
        "\n",
        "#         self.embeddings = nn.nn.ModuleList([\n",
        "#             nn.Embedding(num_categories[i], embedding_dims[i])\n",
        "#             for i in range(num_embeddings)\n",
        "#         ])\n",
        "\n",
        "#         # Embedding layers for categorical features\n",
        "#         self.cat1_embedding = nn.Embedding(num_cat1_categories, cat1_embedding_dim)\n",
        "#         self.cat2_embedding = nn.Embedding(num_cat2_categories, cat2_embedding_dim)\n",
        "\n",
        "#         # LSTM layers\n",
        "#         input_dim = num_numerical_features + cat1_embedding_dim + cat2_embedding_dim\n",
        "#         self.lstm1 = nn.LSTM(input_dim, hidden_dims[0], batch_first=True)\n",
        "#         self.lstm2 = nn.LSTM(hidden_dims[0], hidden_dims[1], batch_first=True)\n",
        "#         self.lstm3 = nn.LSTM(hidden_dims[1], hidden_dims[2], batch_first=True)\n",
        "\n",
        "#         # Dropout layer after the last LSTM layer\n",
        "#         self.dropout1 = nn.Dropout(dropout_prob)\n",
        "\n",
        "#         # Fully connected layer with ReLU activation\n",
        "#         self.fc1 = nn.Linear(hidden_dims[2], 64)\n",
        "#         self.relu = nn.ReLU()\n",
        "\n",
        "#         # Dropout layer before the final dense layer\n",
        "#         self.dropout2 = nn.Dropout(dropout_prob)\n",
        "\n",
        "#         # Final fully connected layer\n",
        "#         self.fc2 = nn.Linear(64, output_dim)\n",
        "\n",
        "    # def forward(self, numerical, cat1, cat2):\n",
        "    #     # Embed categorical features\n",
        "    #     cat1_embedded = self.cat1_embedding(cat1)\n",
        "    #     cat2_embedded = self.cat2_embedding(cat2)\n",
        "\n",
        "    #     # Concatenate numerical and embedded categorical features\n",
        "    #     x = torch.cat((numerical, cat1_embedded, cat2_embedded), dim=-1)\n",
        "\n",
        "    #     # LSTM layers\n",
        "    #     lstm_out1, (hn1, cn1) = self.lstm1(x)\n",
        "    #     lstm_out2, (hn2, cn2) = self.lstm2(lstm_out1)\n",
        "    #     lstm_out3, (hn3, cn3) = self.lstm3(lstm_out2)\n",
        "\n",
        "    #     # Dropout after the last LSTM layer\n",
        "    #     x = self.dropout1(lstm_out3[:, -1, :])\n",
        "\n",
        "    #     # Fully connected layer with ReLU activation\n",
        "    #     x = self.relu(self.fc1(x))\n",
        "\n",
        "    #     # Dropout before the final dense layer\n",
        "    #     x = self.dropout2(x)\n",
        "\n",
        "    #     # Final dense layer\n",
        "    #     output = self.fc2(x)\n",
        "\n",
        "    #     return output"
      ]
    },
    {
      "cell_type": "markdown",
      "metadata": {
        "id": "Yf03NsWhcHXU"
      },
      "source": [
        "#### Defining the model to train"
      ]
    },
    {
      "cell_type": "code",
      "execution_count": null,
      "metadata": {
        "id": "_1sZCTpNO11y"
      },
      "outputs": [],
      "source": [
        "class LSTMModel(nn.Module):\n",
        "    def __init__(self, num_features=3, output_dim=1, num_embeddings=2, num_lstm_layers=3,\n",
        "                 num_categories=[1,2], embedding_dims=[1,2], lstm_hidden_size=3, dense_hidden_size=3,\n",
        "                 activation='relu', dropout_prob=0.2):\n",
        "        super(LSTMModel, self).__init__()\n",
        "        self.num_embeddings = num_embeddings\n",
        "        self.lstm_hidden_size = lstm_hidden_size\n",
        "        self.num_lstm_layers = num_lstm_layers\n",
        "        self.dense_hidden_size = dense_hidden_size\n",
        "        self.dropout_prob = dropout_prob\n",
        "\n",
        "        # Embedding layers\n",
        "        self.embeddings = nn.ModuleList([\n",
        "            nn.Embedding(num_categories[i], embedding_dims[i])\n",
        "            for i in range(num_embeddings)\n",
        "        ])\n",
        "\n",
        "        for embedding in self.embeddings:\n",
        "            nn.init.xavier_uniform_(embedding.weight)\n",
        "\n",
        "        # LSTM layers\n",
        "        input_dim = num_features + sum(embedding_dims)\n",
        "        # Create LSTM layers\n",
        "        self.lstm_layers = nn.ModuleList([\n",
        "            nn.LSTM(input_dim if i == 0 else lstm_hidden_size[i-1], lstm_hidden_size[i], batch_first=True)\n",
        "            for i in range(num_lstm_layers)\n",
        "        ])\n",
        "\n",
        "        # Dropout layers\n",
        "        self.dropout1 = nn.Dropout(dropout_prob)\n",
        "        self.dropout2 = nn.Dropout(dropout_prob)\n",
        "\n",
        "        # Fully connected layers\n",
        "        input_dense_sim = lstm_hidden_size[-1]\n",
        "        self.dense1 = nn.Linear(input_dense_sim, dense_hidden_size[0])\n",
        "        self.dense2 = nn.Linear(dense_hidden_size[0], dense_hidden_size[1])\n",
        "        self.dense3 = nn.Linear(dense_hidden_size[1], output_dim)\n",
        "\n",
        "        self.activations = {\n",
        "            'relu': F.relu,\n",
        "            'leakyrelu': F.leaky_relu,\n",
        "            'prelu': nn.PReLU()\n",
        "        }\n",
        "        self.activation = self.activations[activation]\n",
        "\n",
        "    def forward(self, numerical, *cats):\n",
        "        # Embed categorical features\n",
        "        embedded = [self.embeddings[i](cats[i]) for i in range(self.num_embeddings)]\n",
        "\n",
        "        # Concatenate numerical and embedded categorical features\n",
        "        x = torch.cat((numerical, *embedded), dim=-1)\n",
        "\n",
        "        # LSTM layers\n",
        "        for i in range(self.num_lstm_layers):\n",
        "            x, _ = self.lstm_layers[i](x)\n",
        "\n",
        "        # Flatten the sequence\n",
        "        x = x[:, -1, :]\n",
        "\n",
        "        # Fully connected layer with activation\n",
        "        x = self.activation(self.dense1(x))\n",
        "\n",
        "        # Dropout before the final dense layer\n",
        "        x = self.dropout1(x)\n",
        "\n",
        "        # Final dense layer\n",
        "        x = self.activation(self.dense2(x))\n",
        "        x = self.dropout2(x)\n",
        "\n",
        "        output = self.dense3(x)\n",
        "\n",
        "        return output"
      ]
    },
    {
      "cell_type": "markdown",
      "metadata": {
        "id": "V3F0o1E8ybW3"
      },
      "source": [
        "#### Function for training the model"
      ]
    },
    {
      "cell_type": "code",
      "execution_count": null,
      "metadata": {
        "id": "1815LdDKyZTF"
      },
      "outputs": [],
      "source": [
        "def print_embedding_weights(model):\n",
        "    for i, embedding in enumerate(model.embeddings):\n",
        "        print(f'Embedding Layer {i} Weights:')\n",
        "        print(embedding.weight.data)\n",
        "\n",
        "def train_one_epoch(model, optimizer, loss_fn, train_loader, epoch_index, tb_writer):\n",
        "    model.train()\n",
        "    running_loss = 0.0\n",
        "\n",
        "    for i, (numerical_batch, target_batch, cat_batch, _) in enumerate(train_loader):\n",
        "        numerical_batch, target_batch, cat_batch = numerical_batch.to(device), target_batch.to(device), cat_batch.to(device)\n",
        "        cat1_batch = cat_batch[:, :, 0]\n",
        "        cat2_batch = cat_batch[:, :, 1]\n",
        "\n",
        "        optimizer.zero_grad()\n",
        "\n",
        "        outputs = model(numerical_batch, cat1_batch, cat2_batch)\n",
        "        loss = loss_fn(outputs, target_batch.unsqueeze(1))\n",
        "\n",
        "        loss.backward()\n",
        "        optimizer.step()\n",
        "\n",
        "        running_loss += loss.item()\n",
        "\n",
        "    last_loss = running_loss / len(train_loader)\n",
        "    tb_writer.add_scalar('Loss/train', last_loss, epoch_index * len(train_loader) + i)\n",
        "\n",
        "    wandb.log({\"training loss\": last_loss})\n",
        "\n",
        "    return last_loss\n",
        "\n",
        "\n",
        "def validate_model(model, val_loader, loss_fn, device, epoch_index, tb_writer):\n",
        "    model.eval()\n",
        "    val_loss = 0\n",
        "    with torch.no_grad():\n",
        "        for numerical_batch, target_batch, cat_batch, _ in val_loader:\n",
        "            numerical_batch, target_batch, cat_batch = numerical_batch.to(device), target_batch.to(device), cat_batch.to(device)\n",
        "            cat1_batch = cat_batch[:, :, 0]\n",
        "            cat2_batch = cat_batch[:, :, 1]\n",
        "\n",
        "            outputs = model(numerical_batch, cat1_batch, cat2_batch)\n",
        "            loss = loss_fn(outputs, target_batch.unsqueeze(1))\n",
        "\n",
        "            val_loss += loss.item()\n",
        "\n",
        "    val_loss /= len(val_loader)\n",
        "    tb_writer.add_scalar('Loss/valid', val_loss, epoch_index + 1)\n",
        "    return val_loss\n",
        "\n",
        "def evaluate_model(model, test_loader, loss_fn, device):\n",
        "    model.eval()\n",
        "    test_loss = 0\n",
        "    with torch.no_grad():\n",
        "        for numerical_batch, target_batch, cat_batch, _ in test_loader:\n",
        "            numerical_batch, target_batch, cat_batch = numerical_batch.to(device), target_batch.to(device), cat_batch.to(device)\n",
        "            cat1_batch = cat_batch[:, :, 0]\n",
        "            cat2_batch = cat_batch[:, :, 1]\n",
        "\n",
        "            outputs = model(numerical_batch, cat1_batch, cat2_batch)\n",
        "            loss = loss_fn(outputs, target_batch.unsqueeze(1))\n",
        "\n",
        "            test_loss += loss.item()\n",
        "\n",
        "    test_loss /= len(test_loader)\n",
        "    print(f'Test Loss: {test_loss}')\n",
        "\n",
        "\n",
        "def build_optimizer(network, optimizer, learning_rate):\n",
        "    if optimizer == \"sgd\":\n",
        "        optimizer = optim.SGD(network.parameters(),\n",
        "                              lr=learning_rate, momentum=0.9)\n",
        "    elif optimizer == \"adam\":\n",
        "        optimizer = optim.Adam(network.parameters(),\n",
        "                               lr=learning_rate)\n",
        "    elif optimizer == \"rmsprop\":\n",
        "        optimizer = optim.RMSprop(network.parameters(),\n",
        "                                  lr=learning_rate)\n",
        "    elif optimizer == \"adagrad\":\n",
        "        optimizer = optim.Adagrad(network.parameters(),\n",
        "                                  lr=learning_rate)\n",
        "    return optimizer\n",
        "\n",
        "def prepare_model(num_features, output_dim, num_embeddings,\n",
        "                  num_lstm_layers, num_categories, embedding_dims,\n",
        "                  lstm_hidden_size, dense_hidden_size, activation, dropout_prob,\n",
        "                  optimizer=\"Adam\", learning_rate=0.0001, device=None):\n",
        "\n",
        "  # Initialize model, loss function, and optimizer\n",
        "  model = LSTMModel(\n",
        "      num_features=num_features,\n",
        "      output_dim=output_dim,\n",
        "      num_embeddings=num_embeddings,\n",
        "      num_lstm_layers=num_lstm_layers,\n",
        "      num_categories=num_categories,\n",
        "      embedding_dims=embedding_dims,\n",
        "      lstm_hidden_size=lstm_hidden_size,\n",
        "      dense_hidden_size=dense_hidden_size,\n",
        "      activation=activation,\n",
        "      dropout_prob=dropout_prob\n",
        "  )\n",
        "  model.to(device)\n",
        "\n",
        "  loss_fn = nn.MSELoss()\n",
        "  optimizer = build_optimizer(model, optimizer, learning_rate)\n",
        "\n",
        "  return model, loss_fn, optimizer"
      ]
    },
    {
      "cell_type": "markdown",
      "metadata": {
        "id": "7KYtt9yi1kZe"
      },
      "source": [
        "#### Defining train routines"
      ]
    },
    {
      "cell_type": "code",
      "execution_count": null,
      "metadata": {
        "id": "rdHqvGSI1aoS"
      },
      "outputs": [],
      "source": [
        "class EarlyStopper:\n",
        "    def __init__(self, patience=1, min_delta=0.0):\n",
        "        self.patience = patience  # number of times to allow for no improvement before stopping the execution\n",
        "        self.min_delta = min_delta  # the minimum change to be counted as improvement\n",
        "        self.counter = 0  # count the number of times the validation accuracy not improving\n",
        "        self.min_validation_loss = np.inf\n",
        "\n",
        "    # return True when validation loss is not decreased by the `min_delta` for `patience` times\n",
        "    def early_stop(self, validation_loss):\n",
        "        if ((validation_loss+self.min_delta) < self.min_validation_loss):\n",
        "            self.min_validation_loss = validation_loss\n",
        "            self.counter = 0  # reset the counter if validation loss decreased at least by min_delta\n",
        "        elif ((validation_loss+self.min_delta) > self.min_validation_loss):\n",
        "            self.counter += 1 # increase the counter if validation loss is not decreased by the min_delta\n",
        "            if self.counter >= self.patience:\n",
        "                return True\n",
        "        return False\n",
        "\n",
        "\n",
        "def train(loaders=None, config=None, device=None):\n",
        "    experiment_name = f\"battery-prediction-lstm-test\"\n",
        "    print(config)\n",
        "    # Initialize a new wandb run\n",
        "    with wandb.init(config=config, project=\"battery-consumption\", name=experiment_name):\n",
        "        # If called by wandb.agent, as below,\n",
        "        # this config will be set by Sweep Controller\n",
        "        config = wandb.config\n",
        "\n",
        "        # Load data\n",
        "        train_loader, val_loader, test_loader = loaders\n",
        "\n",
        "        # load model\n",
        "        model, loss_fn, optimizer = prepare_model(config.num_features, config.output_dim, config.num_embeddings,\n",
        "                                                   config.num_lstm_layers, config.num_categories, config.embedding_dims,\n",
        "                                                   config.lstm_hidden_size, config.dense_hidden_size, config.activation, config.dropout_prob,\n",
        "                                                   config.optimizer, config.learning_rate, device)\n",
        "\n",
        "        print(model)\n",
        "        tb_writer = SummaryWriter()\n",
        "        best_vloss = float('inf')\n",
        "\n",
        "        early_stopper = EarlyStopper(patience=10, min_delta=0.0005)\n",
        "        for epoch in tqdm(range(config.epochs)):\n",
        "            train_one_epoch(model, optimizer, loss_fn, train_loader, epoch, tb_writer)\n",
        "            avg_vloss = validate_model(model, val_loader, loss_fn, device, epoch, tb_writer)\n",
        "\n",
        "            print(f'Epoch: {epoch}, avg_vloss: {avg_vloss},  best_vloss: {best_vloss}')\n",
        "            if avg_vloss < best_vloss:\n",
        "                best_vloss = avg_vloss\n",
        "                torch.save(model.state_dict(), f'model_battery_best_1.6_embd.pth')\n",
        "            wandb.log({\"loss\": avg_vloss, \"epoch\": epoch, \"best_loss\": best_vloss})\n",
        "\n",
        "            if early_stopper.early_stop(avg_vloss):\n",
        "              break\n",
        "\n",
        "        tb_writer.close()\n",
        "\n",
        "        return model, loss_fn, test_loader, epoch, encoders, scaler\n",
        "\n",
        "def sweep_train(config=None):\n",
        "    model, test_loader, scaler = train(dataset=dataset, config=config)"
      ]
    },
    {
      "cell_type": "markdown",
      "metadata": {
        "id": "p_seHyO0yeNb"
      },
      "source": [
        "#### Preparing the training"
      ]
    },
    {
      "cell_type": "code",
      "execution_count": null,
      "metadata": {
        "id": "ESM0uWVj-V1D"
      },
      "outputs": [],
      "source": [
        "def get_embedding_size(num_categories):\n",
        "    # return min(600, round(1.6 * math.sqrt(num_categories)))\n",
        "    # return min(500, num_categories // 2)\n",
        "    return round(num_categories ** (1/4))\n",
        "\n",
        "categorical_features = ['day_of_week', 'time_range', 'vehicle', 'road_segment_id', 'date', 'unique_trip_id']\n",
        "non_categorical_features = dataset.columns.difference(categorical_features).tolist()\n",
        "identifiers = ['vehicle', 'road_segment_id', 'date', 'unique_trip_id']\n",
        "time = ['t']\n",
        "target = ['est_battery_consumption(kwh)']\n",
        "features = list(set(dataset.columns) - set(target) - set(identifiers) - set(categorical_features) - set(time))\n",
        "\n",
        "\n",
        "config = {\n",
        "    # Hyperparameters\n",
        "    \"epochs\": 30,\n",
        "    \"batch_size\": 64,\n",
        "    \"sequence_length\": 4,\n",
        "\n",
        "    \"splits\": [0.5, 0.2, 0.3], # train, val, test\n",
        "\n",
        "    \"num_features\": len(features),\n",
        "    \"output_dim\": 1,\n",
        "    \"num_embeddings\": 2,\n",
        "    \"num_lstm_layers\": len([128, 128, 64]),\n",
        "    \"num_categories\": [len(dataset['day_of_week'].unique()), len(dataset['time_range'].unique())],\n",
        "    \"embedding_dims\": [get_embedding_size(len(dataset['day_of_week'].unique())),  get_embedding_size(len(dataset['time_range'].unique()))],\n",
        "    \"lstm_hidden_size\": [128, 128, 64],\n",
        "    \"dense_hidden_size\": [64, 32],\n",
        "    \"activation\": 'leakyrelu',\n",
        "    \"dropout_prob\": 0.2,\n",
        "    \"optimizer\": 'adam',\n",
        "    \"learning_rate\": 0.001,\n",
        "}\n",
        "\n",
        "device = torch.device('cuda' if torch.cuda.is_available() else 'cpu')"
      ]
    },
    {
      "cell_type": "markdown",
      "metadata": {
        "id": "bIZRieXp4leZ"
      },
      "source": [
        "### Load the data"
      ]
    },
    {
      "cell_type": "code",
      "execution_count": null,
      "metadata": {
        "id": "2inLaC3o4iwe"
      },
      "outputs": [],
      "source": [
        "train_loader, val_loader, test_loader, test_df, encoders, scaler = load_and_preprocess_data(dataset, target, features, identifiers,\n",
        "                         categorical_features, non_categorical_features,\n",
        "                         config['batch_size'], config['sequence_length'], config['splits'])"
      ]
    },
    {
      "cell_type": "code",
      "execution_count": null,
      "metadata": {
        "colab": {
          "base_uri": "https://localhost:8080/"
        },
        "id": "P-tK3KQrwL0v",
        "outputId": "71fff042-eee5-41c0-9aaa-ef5381da1949"
      },
      "outputs": [
        {
          "output_type": "stream",
          "name": "stdout",
          "text": [
            "['wind_speed_10m', 'relative_humidity_2m', 'distance_traveled', 'wind_direction_10m', 'current_sunshine_duration', 'temperature_2m', 'avg_angle', 'precipitation', 'avg_grade', 'mean_elevation', 'segment_length', 'duration']\n",
            "['day_of_week', 'time_range', 'vehicle', 'road_segment_id', 'date', 'unique_trip_id']\n",
            "['avg_angle', 'avg_grade', 'current_sunshine_duration', 'distance_traveled', 'duration', 'est_battery_consumption(kwh)', 'mean_elevation', 'precipitation', 'relative_humidity_2m', 'segment_length', 't', 'temperature_2m', 'wind_direction_10m', 'wind_speed_10m']\n",
            "['vehicle', 'road_segment_id', 'date', 'unique_trip_id']\n",
            "['est_battery_consumption(kwh)']\n"
          ]
        }
      ],
      "source": [
        "print(features)\n",
        "print(categorical_features)\n",
        "print(non_categorical_features)\n",
        "print(identifiers)\n",
        "print(target)"
      ]
    },
    {
      "cell_type": "code",
      "execution_count": null,
      "metadata": {
        "colab": {
          "base_uri": "https://localhost:8080/"
        },
        "id": "We0FZIa7JgKk",
        "outputId": "32343f1d-c004-4f91-c099-356633210edf"
      },
      "outputs": [
        {
          "output_type": "execute_result",
          "data": {
            "text/plain": [
              "(122812, 75281, 49216)"
            ]
          },
          "metadata": {},
          "execution_count": 114
        }
      ],
      "source": [
        "len(train_loader.dataset), len(test_loader.dataset), len(val_loader.dataset)"
      ]
    },
    {
      "cell_type": "markdown",
      "metadata": {
        "id": "hmudw865cxu1"
      },
      "source": [
        "### Run the training"
      ]
    },
    {
      "cell_type": "code",
      "execution_count": null,
      "metadata": {
        "colab": {
          "base_uri": "https://localhost:8080/",
          "height": 1000,
          "referenced_widgets": [
            "779e942370a0468c9c5ba846ab4c2e24",
            "648e029c87474522aff2f6ad1f519b6a",
            "100d810bbd5242dc87700a04fd2b4d0f",
            "3d0c46798138400cb15d884e5e031a32",
            "a8e01ecdea094bdcac2e42f23beb3dd8",
            "8199be31aa624bc782ddc2709414a91f",
            "04c747fbc53649878b98dc8a2bbb60a1",
            "c5af6f808bda4b55ab0ca891a42c18e3"
          ]
        },
        "id": "RduPddk3yWbj",
        "outputId": "c1ad53f7-0449-4ed8-d7be-c89a317a3613"
      },
      "outputs": [
        {
          "output_type": "stream",
          "name": "stderr",
          "text": [
            "\u001b[34m\u001b[1mwandb\u001b[0m: Currently logged in as: \u001b[33msatriabw\u001b[0m. Use \u001b[1m`wandb login --relogin`\u001b[0m to force relogin\n"
          ]
        },
        {
          "output_type": "stream",
          "name": "stdout",
          "text": [
            "{'epochs': 30, 'batch_size': 64, 'sequence_length': 4, 'splits': [0.5, 0.2, 0.3], 'num_features': 12, 'output_dim': 1, 'num_embeddings': 2, 'num_lstm_layers': 3, 'num_categories': [7, 19], 'embedding_dims': [2, 2], 'lstm_hidden_size': [128, 128, 64], 'dense_hidden_size': [64, 32], 'activation': 'leakyrelu', 'dropout_prob': 0.2, 'optimizer': 'adam', 'learning_rate': 0.001}\n"
          ]
        },
        {
          "output_type": "display_data",
          "data": {
            "text/plain": [
              "<IPython.core.display.HTML object>"
            ],
            "text/html": [
              "Tracking run with wandb version 0.17.6"
            ]
          },
          "metadata": {}
        },
        {
          "output_type": "display_data",
          "data": {
            "text/plain": [
              "<IPython.core.display.HTML object>"
            ],
            "text/html": [
              "Run data is saved locally in <code>/content/drive/MyDrive/Kuliah/BDMA/Master’s Thesis/GenoaData/processed_data/wandb/run-20240811_175458-ivrdg457</code>"
            ]
          },
          "metadata": {}
        },
        {
          "output_type": "display_data",
          "data": {
            "text/plain": [
              "<IPython.core.display.HTML object>"
            ],
            "text/html": [
              "Syncing run <strong><a href='https://wandb.ai/satriabw/battery-consumption/runs/ivrdg457' target=\"_blank\">battery-prediction-lstm-test</a></strong> to <a href='https://wandb.ai/satriabw/battery-consumption' target=\"_blank\">Weights & Biases</a> (<a href='https://wandb.me/run' target=\"_blank\">docs</a>)<br/>"
            ]
          },
          "metadata": {}
        },
        {
          "output_type": "display_data",
          "data": {
            "text/plain": [
              "<IPython.core.display.HTML object>"
            ],
            "text/html": [
              " View project at <a href='https://wandb.ai/satriabw/battery-consumption' target=\"_blank\">https://wandb.ai/satriabw/battery-consumption</a>"
            ]
          },
          "metadata": {}
        },
        {
          "output_type": "display_data",
          "data": {
            "text/plain": [
              "<IPython.core.display.HTML object>"
            ],
            "text/html": [
              " View run at <a href='https://wandb.ai/satriabw/battery-consumption/runs/ivrdg457' target=\"_blank\">https://wandb.ai/satriabw/battery-consumption/runs/ivrdg457</a>"
            ]
          },
          "metadata": {}
        },
        {
          "output_type": "stream",
          "name": "stdout",
          "text": [
            "LSTMModel(\n",
            "  (embeddings): ModuleList(\n",
            "    (0): Embedding(7, 2)\n",
            "    (1): Embedding(19, 2)\n",
            "  )\n",
            "  (lstm_layers): ModuleList(\n",
            "    (0): LSTM(16, 128, batch_first=True)\n",
            "    (1): LSTM(128, 128, batch_first=True)\n",
            "    (2): LSTM(128, 64, batch_first=True)\n",
            "  )\n",
            "  (dropout1): Dropout(p=0.2, inplace=False)\n",
            "  (dropout2): Dropout(p=0.2, inplace=False)\n",
            "  (dense1): Linear(in_features=64, out_features=64, bias=True)\n",
            "  (dense2): Linear(in_features=64, out_features=32, bias=True)\n",
            "  (dense3): Linear(in_features=32, out_features=1, bias=True)\n",
            ")\n"
          ]
        },
        {
          "output_type": "stream",
          "name": "stderr",
          "text": [
            "\r  0%|          | 0/30 [00:00<?, ?it/s]"
          ]
        },
        {
          "output_type": "stream",
          "name": "stdout",
          "text": [
            "Epoch: 0, avg_vloss: 0.010922270404024749,  best_vloss: inf\n"
          ]
        },
        {
          "output_type": "stream",
          "name": "stderr",
          "text": [
            "  7%|▋         | 2/30 [00:22<05:15, 11.26s/it]"
          ]
        },
        {
          "output_type": "stream",
          "name": "stdout",
          "text": [
            "Epoch: 1, avg_vloss: 0.009808952399373287,  best_vloss: 0.010922270404024749\n"
          ]
        },
        {
          "output_type": "stream",
          "name": "stderr",
          "text": [
            "\r 10%|█         | 3/30 [00:33<04:51, 10.80s/it]"
          ]
        },
        {
          "output_type": "stream",
          "name": "stdout",
          "text": [
            "Epoch: 2, avg_vloss: 0.009949510286547612,  best_vloss: 0.009808952399373287\n"
          ]
        },
        {
          "output_type": "stream",
          "name": "stderr",
          "text": [
            "\r 13%|█▎        | 4/30 [00:43<04:35, 10.59s/it]"
          ]
        },
        {
          "output_type": "stream",
          "name": "stdout",
          "text": [
            "Epoch: 3, avg_vloss: 0.009700793984875335,  best_vloss: 0.009808952399373287\n"
          ]
        },
        {
          "output_type": "stream",
          "name": "stderr",
          "text": [
            "\r 17%|█▋        | 5/30 [00:53<04:21, 10.44s/it]"
          ]
        },
        {
          "output_type": "stream",
          "name": "stdout",
          "text": [
            "Epoch: 4, avg_vloss: 0.00879661481335798,  best_vloss: 0.009700793984875335\n"
          ]
        },
        {
          "output_type": "stream",
          "name": "stderr",
          "text": [
            "\r 20%|██        | 6/30 [01:03<04:08, 10.37s/it]"
          ]
        },
        {
          "output_type": "stream",
          "name": "stdout",
          "text": [
            "Epoch: 5, avg_vloss: 0.00865361093521065,  best_vloss: 0.00879661481335798\n"
          ]
        },
        {
          "output_type": "stream",
          "name": "stderr",
          "text": [
            "\r 23%|██▎       | 7/30 [01:14<03:57, 10.35s/it]"
          ]
        },
        {
          "output_type": "stream",
          "name": "stdout",
          "text": [
            "Epoch: 6, avg_vloss: 0.008518985790528734,  best_vloss: 0.00865361093521065\n"
          ]
        },
        {
          "output_type": "stream",
          "name": "stderr",
          "text": [
            "\r 27%|██▋       | 8/30 [01:24<03:48, 10.37s/it]"
          ]
        },
        {
          "output_type": "stream",
          "name": "stdout",
          "text": [
            "Epoch: 7, avg_vloss: 0.008134531905397443,  best_vloss: 0.008518985790528734\n"
          ]
        },
        {
          "output_type": "stream",
          "name": "stderr",
          "text": [
            "\r 30%|███       | 9/30 [01:34<03:35, 10.28s/it]"
          ]
        },
        {
          "output_type": "stream",
          "name": "stdout",
          "text": [
            "Epoch: 8, avg_vloss: 0.008528379226128858,  best_vloss: 0.008134531905397443\n"
          ]
        },
        {
          "output_type": "stream",
          "name": "stderr",
          "text": [
            "\r 33%|███▎      | 10/30 [01:44<03:25, 10.28s/it]"
          ]
        },
        {
          "output_type": "stream",
          "name": "stdout",
          "text": [
            "Epoch: 9, avg_vloss: 0.008149416418746114,  best_vloss: 0.008134531905397443\n"
          ]
        },
        {
          "output_type": "stream",
          "name": "stderr",
          "text": [
            "\r 37%|███▋      | 11/30 [01:54<03:14, 10.23s/it]"
          ]
        },
        {
          "output_type": "stream",
          "name": "stdout",
          "text": [
            "Epoch: 10, avg_vloss: 0.008406488761525015,  best_vloss: 0.008134531905397443\n"
          ]
        },
        {
          "output_type": "stream",
          "name": "stderr",
          "text": [
            "\r 40%|████      | 12/30 [02:05<03:03, 10.21s/it]"
          ]
        },
        {
          "output_type": "stream",
          "name": "stdout",
          "text": [
            "Epoch: 11, avg_vloss: 0.00792752801648357,  best_vloss: 0.008134531905397443\n"
          ]
        },
        {
          "output_type": "stream",
          "name": "stderr",
          "text": [
            "\r 43%|████▎     | 13/30 [02:15<02:53, 10.22s/it]"
          ]
        },
        {
          "output_type": "stream",
          "name": "stdout",
          "text": [
            "Epoch: 12, avg_vloss: 0.008283328237096805,  best_vloss: 0.00792752801648357\n"
          ]
        },
        {
          "output_type": "stream",
          "name": "stderr",
          "text": [
            "\r 47%|████▋     | 14/30 [02:25<02:44, 10.26s/it]"
          ]
        },
        {
          "output_type": "stream",
          "name": "stdout",
          "text": [
            "Epoch: 13, avg_vloss: 0.00840820055118894,  best_vloss: 0.00792752801648357\n"
          ]
        },
        {
          "output_type": "stream",
          "name": "stderr",
          "text": [
            "\r 50%|█████     | 15/30 [02:36<02:34, 10.30s/it]"
          ]
        },
        {
          "output_type": "stream",
          "name": "stdout",
          "text": [
            "Epoch: 14, avg_vloss: 0.008177312033617885,  best_vloss: 0.00792752801648357\n"
          ]
        },
        {
          "output_type": "stream",
          "name": "stderr",
          "text": [
            "\r 53%|█████▎    | 16/30 [02:46<02:23, 10.28s/it]"
          ]
        },
        {
          "output_type": "stream",
          "name": "stdout",
          "text": [
            "Epoch: 15, avg_vloss: 0.007975455442708718,  best_vloss: 0.00792752801648357\n"
          ]
        },
        {
          "output_type": "stream",
          "name": "stderr",
          "text": [
            "\r 57%|█████▋    | 17/30 [02:56<02:13, 10.29s/it]"
          ]
        },
        {
          "output_type": "stream",
          "name": "stdout",
          "text": [
            "Epoch: 16, avg_vloss: 0.008199394688583057,  best_vloss: 0.00792752801648357\n"
          ]
        },
        {
          "output_type": "stream",
          "name": "stderr",
          "text": [
            "\r 57%|█████▋    | 17/30 [03:06<02:22, 10.99s/it]"
          ]
        },
        {
          "output_type": "stream",
          "name": "stdout",
          "text": [
            "Epoch: 17, avg_vloss: 0.007995681769683259,  best_vloss: 0.00792752801648357\n"
          ]
        },
        {
          "output_type": "stream",
          "name": "stderr",
          "text": [
            "\n"
          ]
        },
        {
          "output_type": "display_data",
          "data": {
            "text/plain": [
              "VBox(children=(Label(value='0.002 MB of 0.002 MB uploaded\\r'), FloatProgress(value=1.0, max=1.0)))"
            ],
            "application/vnd.jupyter.widget-view+json": {
              "version_major": 2,
              "version_minor": 0,
              "model_id": "779e942370a0468c9c5ba846ab4c2e24"
            }
          },
          "metadata": {}
        },
        {
          "output_type": "display_data",
          "data": {
            "text/plain": [
              "<IPython.core.display.HTML object>"
            ],
            "text/html": [
              "<style>\n",
              "    table.wandb td:nth-child(1) { padding: 0 10px; text-align: left ; width: auto;} td:nth-child(2) {text-align: left ; width: 100%}\n",
              "    .wandb-row { display: flex; flex-direction: row; flex-wrap: wrap; justify-content: flex-start; width: 100% }\n",
              "    .wandb-col { display: flex; flex-direction: column; flex-basis: 100%; flex: 1; padding: 10px; }\n",
              "    </style>\n",
              "<div class=\"wandb-row\"><div class=\"wandb-col\"><h3>Run history:</h3><br/><table class=\"wandb\"><tr><td>best_loss</td><td>█▅▅▅▃▃▂▁▁▁▁▁▁▁▁▁▁▁</td></tr><tr><td>epoch</td><td>▁▁▂▂▃▃▃▄▄▅▅▆▆▆▇▇██</td></tr><tr><td>loss</td><td>█▅▆▅▃▃▂▁▂▂▂▁▂▂▂▁▂▁</td></tr><tr><td>training loss</td><td>█▅▄▄▃▃▃▃▂▂▂▂▂▂▂▁▁▁</td></tr></table><br/></div><div class=\"wandb-col\"><h3>Run summary:</h3><br/><table class=\"wandb\"><tr><td>best_loss</td><td>0.00793</td></tr><tr><td>epoch</td><td>17</td></tr><tr><td>loss</td><td>0.008</td></tr><tr><td>training loss</td><td>0.00631</td></tr></table><br/></div></div>"
            ]
          },
          "metadata": {}
        },
        {
          "output_type": "display_data",
          "data": {
            "text/plain": [
              "<IPython.core.display.HTML object>"
            ],
            "text/html": [
              " View run <strong style=\"color:#cdcd00\">battery-prediction-lstm-test</strong> at: <a href='https://wandb.ai/satriabw/battery-consumption/runs/ivrdg457' target=\"_blank\">https://wandb.ai/satriabw/battery-consumption/runs/ivrdg457</a><br/> View project at: <a href='https://wandb.ai/satriabw/battery-consumption' target=\"_blank\">https://wandb.ai/satriabw/battery-consumption</a><br/>Synced 5 W&B file(s), 0 media file(s), 0 artifact file(s) and 0 other file(s)"
            ]
          },
          "metadata": {}
        },
        {
          "output_type": "display_data",
          "data": {
            "text/plain": [
              "<IPython.core.display.HTML object>"
            ],
            "text/html": [
              "Find logs at: <code>./wandb/run-20240811_175458-ivrdg457/logs</code>"
            ]
          },
          "metadata": {}
        },
        {
          "output_type": "display_data",
          "data": {
            "text/plain": [
              "<IPython.core.display.HTML object>"
            ],
            "text/html": [
              "The new W&B backend becomes opt-out in version 0.18.0; try it out with `wandb.require(\"core\")`! See https://wandb.me/wandb-core for more information."
            ]
          },
          "metadata": {}
        },
        {
          "output_type": "stream",
          "name": "stdout",
          "text": [
            "Test Loss: 0.00809438745443236\n"
          ]
        }
      ],
      "source": [
        "model, loss_fn, test_loader, epoch, encoders, scaler = train((train_loader, val_loader, test_loader), config, device)\n",
        "\n",
        "# Evaluate the model\n",
        "evaluate_model(model, test_loader, loss_fn, device)"
      ]
    },
    {
      "cell_type": "markdown",
      "metadata": {
        "id": "GUvfe-CHcS2U"
      },
      "source": [
        "### Run sweep config"
      ]
    },
    {
      "cell_type": "code",
      "execution_count": null,
      "metadata": {
        "colab": {
          "base_uri": "https://localhost:8080/"
        },
        "id": "7WSjFR-NcWdo",
        "outputId": "94daa58b-cfce-4b65-b0a1-119352d2e4de"
      },
      "outputs": [
        {
          "output_type": "stream",
          "name": "stdout",
          "text": [
            "Create sweep with ID: sw9l2g1f\n",
            "Sweep URL: https://wandb.ai/satriabw/battery-sweeps-v2/sweeps/sw9l2g1f\n",
            "{'method': 'grid',\n",
            " 'metric': {'goal': 'minimize', 'name': 'loss'},\n",
            " 'parameters': {'activation': {'values': ['leakyrelu']},\n",
            "                'batch_size': {'values': [64]},\n",
            "                'dense_hidden_size': {'values': [[64, 32]]},\n",
            "                'dropout_prob': {'values': [0.2]},\n",
            "                'embedding_dims': {'value': [2, 2]},\n",
            "                'epochs': {'value': 10},\n",
            "                'learning_rate': {'values': [0.005, 0.001, 0.0005]},\n",
            "                'lstm_hidden_size': {'values': [[128, 128, 64]]},\n",
            "                'num_categories': {'value': [7, 19]},\n",
            "                'num_embeddings': {'value': 2},\n",
            "                'num_features': {'value': 12},\n",
            "                'num_lstm_layers': {'values': [3]},\n",
            "                'optimizer': {'values': ['adam']},\n",
            "                'output_dim': {'value': 1}}}\n"
          ]
        }
      ],
      "source": [
        "import pprint\n",
        "\n",
        "# Define the initial sweep configuration\n",
        "sweep_config = {\n",
        "    'method': 'grid'\n",
        "}\n",
        "\n",
        "# Define the metric to optimize\n",
        "metric = {\n",
        "    'name': 'loss',\n",
        "    'goal': 'minimize'\n",
        "}\n",
        "\n",
        "sweep_config['metric'] = metric\n",
        "\n",
        "# Define the hyperparameters to sweep\n",
        "parameters_dict = {\n",
        "    'optimizer': {\n",
        "        'values': ['adam']\n",
        "    },\n",
        "    'lstm_hidden_size': {\n",
        "        'values': [[128, 128, 64]]\n",
        "    },\n",
        "    'num_lstm_layers': {\n",
        "        'values': [3]\n",
        "    },\n",
        "    'dense_hidden_size': {\n",
        "        'values': [[64, 32]]\n",
        "    },\n",
        "    'dropout_prob': {\n",
        "        'values': [0.2]\n",
        "    },\n",
        "    'batch_size': {\n",
        "        'values': [64]\n",
        "    },\n",
        "    'activation': {\n",
        "        'values': ['leakyrelu']\n",
        "    },\n",
        "    'learning_rate': {\n",
        "        'values': [0.005, 0.001, 0.0005]\n",
        "    },\n",
        "    'num_features': {\n",
        "        'value': len(list(set(dataset.columns) - set(['est_battery_consumption(kwh)']) - set(['vehicle', 'road_segment_id', 'date']) - set(['day_of_week', 'time_range']) - set(['t'])))\n",
        "    },\n",
        "    'output_dim': {\n",
        "        'value': 1\n",
        "    },\n",
        "    'num_embeddings': {\n",
        "        'value': 2\n",
        "    },\n",
        "    'num_categories': {\n",
        "        'value': [len(dataset['day_of_week'].unique()), len(dataset['time_range'].unique())]\n",
        "    },\n",
        "    'embedding_dims': {\n",
        "        'value': [get_embedding_size(len(dataset['day_of_week'].unique())),  get_embedding_size(len(dataset['time_range'].unique()))]\n",
        "    }\n",
        "}\n",
        "\n",
        "\n",
        "parameters_dict.update({\n",
        "    'epochs': {\n",
        "        'value': 10\n",
        "        }\n",
        "    })\n",
        "\n",
        "sweep_config['parameters'] = parameters_dict\n",
        "\n",
        "# Initialize sweep\n",
        "sweep_id = wandb.sweep(sweep_config, project=\"battery-sweeps-v2\")\n",
        "\n",
        "# Print the sweep configuration\n",
        "pprint.pprint(sweep_config)"
      ]
    },
    {
      "cell_type": "code",
      "execution_count": null,
      "metadata": {
        "id": "j2VemAcBdrZ0"
      },
      "outputs": [],
      "source": [
        "def sweep_train(config=None):\n",
        "    device = torch.device('cuda' if torch.cuda.is_available() else 'cpu')\n",
        "    train((train_loader, val_loader, test_loader), config, device)"
      ]
    },
    {
      "cell_type": "code",
      "execution_count": null,
      "metadata": {
        "colab": {
          "base_uri": "https://localhost:8080/",
          "height": 1000,
          "referenced_widgets": [
            "a8503ee988604106b6adba2ad24f8b84",
            "edcf560782e1402ea84e228ab541f6b5",
            "6cd07f35829b4c2c80ddf5c8db554c64",
            "d73ad1a38ff1422c8d77a8aecda1d05e",
            "010ad869f6454046ac881f58899072e2",
            "37d63e0d3a714f17b7cc575c9ec121ac",
            "649fb525e2024d31ad4ec6334cdceb3e",
            "8e13083025be42e5be8c93de0465a3ae",
            "8d9a814cfe3845fcb03518442281dd8c",
            "68f507aa23ec43efaf80639b7488c40e",
            "4f5d6e0a95034e97bb721b5f0a3d05e4",
            "6af62fc53ec84d71ac815496509cd111",
            "016e8f99fa2942648121306932c5a048",
            "404778f8be8e4f17bfb190c03ea8482e",
            "bec7379cb46f41269b708169b870be6c",
            "a9722a339bc747fc9f6631f037494668",
            "1a8f670c31f7405ba6009f88835a8a75",
            "9ac2c302026d4a508f060412607ea0ac",
            "48e238a4461740ef81924f37d50e6491",
            "683ce16ab3e64d788f58ebf3c04b9179",
            "6633b84034724b2bada9ed643b3e9900",
            "38014c16114a4329853c1533d35a119b",
            "62331af299284968b0457af39b2ba197",
            "7eaf5f52b4ab45659f84a4b8ed20907f"
          ]
        },
        "id": "qENdTW0zePkC",
        "outputId": "e1e76469-2f63-4b7c-9818-1400712224fe"
      },
      "outputs": [
        {
          "output_type": "stream",
          "name": "stderr",
          "text": [
            "\u001b[34m\u001b[1mwandb\u001b[0m: Agent Starting Run: 5oh4am00 with config:\n",
            "\u001b[34m\u001b[1mwandb\u001b[0m: \tactivation: leakyrelu\n",
            "\u001b[34m\u001b[1mwandb\u001b[0m: \tbatch_size: 64\n",
            "\u001b[34m\u001b[1mwandb\u001b[0m: \tdense_hidden_size: [64, 32]\n",
            "\u001b[34m\u001b[1mwandb\u001b[0m: \tdropout_prob: 0.2\n",
            "\u001b[34m\u001b[1mwandb\u001b[0m: \tembedding_dims: [2, 2]\n",
            "\u001b[34m\u001b[1mwandb\u001b[0m: \tepochs: 10\n",
            "\u001b[34m\u001b[1mwandb\u001b[0m: \tlearning_rate: 0.005\n",
            "\u001b[34m\u001b[1mwandb\u001b[0m: \tlstm_hidden_size: [128, 128, 64]\n",
            "\u001b[34m\u001b[1mwandb\u001b[0m: \tnum_categories: [7, 19]\n",
            "\u001b[34m\u001b[1mwandb\u001b[0m: \tnum_embeddings: 2\n",
            "\u001b[34m\u001b[1mwandb\u001b[0m: \tnum_features: 12\n",
            "\u001b[34m\u001b[1mwandb\u001b[0m: \tnum_lstm_layers: 3\n",
            "\u001b[34m\u001b[1mwandb\u001b[0m: \toptimizer: adam\n",
            "\u001b[34m\u001b[1mwandb\u001b[0m: \toutput_dim: 1\n"
          ]
        },
        {
          "output_type": "stream",
          "name": "stdout",
          "text": [
            "None\n"
          ]
        },
        {
          "output_type": "stream",
          "name": "stderr",
          "text": [
            "\u001b[34m\u001b[1mwandb\u001b[0m: \u001b[33mWARNING\u001b[0m Ignored wandb.init() arg project when running a sweep.\n"
          ]
        },
        {
          "output_type": "display_data",
          "data": {
            "text/plain": [
              "<IPython.core.display.HTML object>"
            ],
            "text/html": [
              "Tracking run with wandb version 0.17.5"
            ]
          },
          "metadata": {}
        },
        {
          "output_type": "display_data",
          "data": {
            "text/plain": [
              "<IPython.core.display.HTML object>"
            ],
            "text/html": [
              "Run data is saved locally in <code>/content/drive/MyDrive/Kuliah/BDMA/Master’s Thesis/GenoaData/processed_data/wandb/run-20240727_185115-5oh4am00</code>"
            ]
          },
          "metadata": {}
        },
        {
          "output_type": "display_data",
          "data": {
            "text/plain": [
              "<IPython.core.display.HTML object>"
            ],
            "text/html": [
              "Syncing run <strong><a href='https://wandb.ai/satriabw/battery-sweeps-v2/runs/5oh4am00' target=\"_blank\">battery-prediction-lstm-test</a></strong> to <a href='https://wandb.ai/satriabw/battery-sweeps-v2' target=\"_blank\">Weights & Biases</a> (<a href='https://wandb.me/run' target=\"_blank\">docs</a>)<br/>Sweep page: <a href='https://wandb.ai/satriabw/battery-sweeps-v2/sweeps/sw9l2g1f' target=\"_blank\">https://wandb.ai/satriabw/battery-sweeps-v2/sweeps/sw9l2g1f</a>"
            ]
          },
          "metadata": {}
        },
        {
          "output_type": "display_data",
          "data": {
            "text/plain": [
              "<IPython.core.display.HTML object>"
            ],
            "text/html": [
              " View project at <a href='https://wandb.ai/satriabw/battery-sweeps-v2' target=\"_blank\">https://wandb.ai/satriabw/battery-sweeps-v2</a>"
            ]
          },
          "metadata": {}
        },
        {
          "output_type": "display_data",
          "data": {
            "text/plain": [
              "<IPython.core.display.HTML object>"
            ],
            "text/html": [
              " View sweep at <a href='https://wandb.ai/satriabw/battery-sweeps-v2/sweeps/sw9l2g1f' target=\"_blank\">https://wandb.ai/satriabw/battery-sweeps-v2/sweeps/sw9l2g1f</a>"
            ]
          },
          "metadata": {}
        },
        {
          "output_type": "display_data",
          "data": {
            "text/plain": [
              "<IPython.core.display.HTML object>"
            ],
            "text/html": [
              " View run at <a href='https://wandb.ai/satriabw/battery-sweeps-v2/runs/5oh4am00' target=\"_blank\">https://wandb.ai/satriabw/battery-sweeps-v2/runs/5oh4am00</a>"
            ]
          },
          "metadata": {}
        },
        {
          "output_type": "stream",
          "name": "stdout",
          "text": [
            "LSTMModel(\n",
            "  (embeddings): ModuleList(\n",
            "    (0): Embedding(7, 2)\n",
            "    (1): Embedding(19, 2)\n",
            "  )\n",
            "  (lstm_layers): ModuleList(\n",
            "    (0): LSTM(16, 128, batch_first=True)\n",
            "    (1): LSTM(128, 128, batch_first=True)\n",
            "    (2): LSTM(128, 64, batch_first=True)\n",
            "  )\n",
            "  (dropout1): Dropout(p=0.2, inplace=False)\n",
            "  (dropout2): Dropout(p=0.2, inplace=False)\n",
            "  (dense1): Linear(in_features=64, out_features=64, bias=True)\n",
            "  (dense2): Linear(in_features=64, out_features=32, bias=True)\n",
            "  (dense3): Linear(in_features=32, out_features=1, bias=True)\n",
            ")\n"
          ]
        },
        {
          "output_type": "stream",
          "name": "stderr",
          "text": [
            " 10%|█         | 1/10 [00:20<03:02, 20.24s/it]"
          ]
        },
        {
          "output_type": "stream",
          "name": "stdout",
          "text": [
            "Epoch: 0, avg_vloss: 0.011629288345816531,  best_vloss: inf\n"
          ]
        },
        {
          "output_type": "stream",
          "name": "stderr",
          "text": [
            "\r 20%|██        | 2/10 [00:40<02:40, 20.08s/it]"
          ]
        },
        {
          "output_type": "stream",
          "name": "stdout",
          "text": [
            "Epoch: 1, avg_vloss: 0.009960436930040185,  best_vloss: 0.011629288345816531\n"
          ]
        },
        {
          "output_type": "stream",
          "name": "stderr",
          "text": [
            "\r 30%|███       | 3/10 [01:00<02:20, 20.09s/it]"
          ]
        },
        {
          "output_type": "stream",
          "name": "stdout",
          "text": [
            "Epoch: 2, avg_vloss: 0.009654466491527304,  best_vloss: 0.009960436930040185\n"
          ]
        },
        {
          "output_type": "stream",
          "name": "stderr",
          "text": [
            "\r 40%|████      | 4/10 [01:20<02:00, 20.09s/it]"
          ]
        },
        {
          "output_type": "stream",
          "name": "stdout",
          "text": [
            "Epoch: 3, avg_vloss: 0.008984821127067038,  best_vloss: 0.009654466491527304\n"
          ]
        },
        {
          "output_type": "stream",
          "name": "stderr",
          "text": [
            "\r 50%|█████     | 5/10 [01:40<01:40, 20.08s/it]"
          ]
        },
        {
          "output_type": "stream",
          "name": "stdout",
          "text": [
            "Epoch: 4, avg_vloss: 0.00837535418983033,  best_vloss: 0.008984821127067038\n"
          ]
        },
        {
          "output_type": "stream",
          "name": "stderr",
          "text": [
            "\r 60%|██████    | 6/10 [02:00<01:20, 20.07s/it]"
          ]
        },
        {
          "output_type": "stream",
          "name": "stdout",
          "text": [
            "Epoch: 5, avg_vloss: 0.00861619246035005,  best_vloss: 0.00837535418983033\n"
          ]
        },
        {
          "output_type": "stream",
          "name": "stderr",
          "text": [
            "\r 70%|███████   | 7/10 [02:20<01:00, 20.03s/it]"
          ]
        },
        {
          "output_type": "stream",
          "name": "stdout",
          "text": [
            "Epoch: 6, avg_vloss: 0.008290463427279094,  best_vloss: 0.00837535418983033\n"
          ]
        },
        {
          "output_type": "stream",
          "name": "stderr",
          "text": [
            "\r 80%|████████  | 8/10 [02:40<00:39, 19.97s/it]"
          ]
        },
        {
          "output_type": "stream",
          "name": "stdout",
          "text": [
            "Epoch: 7, avg_vloss: 0.008417421531761124,  best_vloss: 0.008290463427279094\n"
          ]
        },
        {
          "output_type": "stream",
          "name": "stderr",
          "text": [
            "\r 90%|█████████ | 9/10 [03:00<00:19, 19.93s/it]"
          ]
        },
        {
          "output_type": "stream",
          "name": "stdout",
          "text": [
            "Epoch: 8, avg_vloss: 0.007971320492961202,  best_vloss: 0.008290463427279094\n"
          ]
        },
        {
          "output_type": "stream",
          "name": "stderr",
          "text": [
            "100%|██████████| 10/10 [03:20<00:00, 20.02s/it]"
          ]
        },
        {
          "output_type": "stream",
          "name": "stdout",
          "text": [
            "Epoch: 9, avg_vloss: 0.008040569332304232,  best_vloss: 0.007971320492961202\n"
          ]
        },
        {
          "output_type": "stream",
          "name": "stderr",
          "text": [
            "\n"
          ]
        },
        {
          "output_type": "display_data",
          "data": {
            "text/plain": [
              "VBox(children=(Label(value='0.002 MB of 0.002 MB uploaded\\r'), FloatProgress(value=1.0, max=1.0)))"
            ],
            "application/vnd.jupyter.widget-view+json": {
              "version_major": 2,
              "version_minor": 0,
              "model_id": "a8503ee988604106b6adba2ad24f8b84"
            }
          },
          "metadata": {}
        },
        {
          "output_type": "display_data",
          "data": {
            "text/plain": [
              "<IPython.core.display.HTML object>"
            ],
            "text/html": [
              "<style>\n",
              "    table.wandb td:nth-child(1) { padding: 0 10px; text-align: left ; width: auto;} td:nth-child(2) {text-align: left ; width: 100%}\n",
              "    .wandb-row { display: flex; flex-direction: row; flex-wrap: wrap; justify-content: flex-start; width: 100% }\n",
              "    .wandb-col { display: flex; flex-direction: column; flex-basis: 100%; flex: 1; padding: 10px; }\n",
              "    </style>\n",
              "<div class=\"wandb-row\"><div class=\"wandb-col\"><h3>Run history:</h3><br/><table class=\"wandb\"><tr><td>best_loss</td><td>█▅▄▃▂▂▂▂▁▁</td></tr><tr><td>epoch</td><td>▁▂▃▃▄▅▆▆▇█</td></tr><tr><td>loss</td><td>█▅▄▃▂▂▂▂▁▁</td></tr><tr><td>training loss</td><td>█▄▃▃▂▂▁▁▁▁</td></tr></table><br/></div><div class=\"wandb-col\"><h3>Run summary:</h3><br/><table class=\"wandb\"><tr><td>best_loss</td><td>0.00797</td></tr><tr><td>epoch</td><td>9</td></tr><tr><td>loss</td><td>0.00804</td></tr><tr><td>training loss</td><td>0.00981</td></tr></table><br/></div></div>"
            ]
          },
          "metadata": {}
        },
        {
          "output_type": "display_data",
          "data": {
            "text/plain": [
              "<IPython.core.display.HTML object>"
            ],
            "text/html": [
              " View run <strong style=\"color:#cdcd00\">battery-prediction-lstm-test</strong> at: <a href='https://wandb.ai/satriabw/battery-sweeps-v2/runs/5oh4am00' target=\"_blank\">https://wandb.ai/satriabw/battery-sweeps-v2/runs/5oh4am00</a><br/> View project at: <a href='https://wandb.ai/satriabw/battery-sweeps-v2' target=\"_blank\">https://wandb.ai/satriabw/battery-sweeps-v2</a><br/>Synced 5 W&B file(s), 0 media file(s), 0 artifact file(s) and 0 other file(s)"
            ]
          },
          "metadata": {}
        },
        {
          "output_type": "display_data",
          "data": {
            "text/plain": [
              "<IPython.core.display.HTML object>"
            ],
            "text/html": [
              "Find logs at: <code>./wandb/run-20240727_185115-5oh4am00/logs</code>"
            ]
          },
          "metadata": {}
        },
        {
          "output_type": "display_data",
          "data": {
            "text/plain": [
              "<IPython.core.display.HTML object>"
            ],
            "text/html": [
              "The new W&B backend becomes opt-out in version 0.18.0; try it out with `wandb.require(\"core\")`! See https://wandb.me/wandb-core for more information."
            ]
          },
          "metadata": {}
        },
        {
          "output_type": "stream",
          "name": "stderr",
          "text": [
            "\u001b[34m\u001b[1mwandb\u001b[0m: Agent Starting Run: 07vl2oz4 with config:\n",
            "\u001b[34m\u001b[1mwandb\u001b[0m: \tactivation: leakyrelu\n",
            "\u001b[34m\u001b[1mwandb\u001b[0m: \tbatch_size: 64\n",
            "\u001b[34m\u001b[1mwandb\u001b[0m: \tdense_hidden_size: [64, 32]\n",
            "\u001b[34m\u001b[1mwandb\u001b[0m: \tdropout_prob: 0.2\n",
            "\u001b[34m\u001b[1mwandb\u001b[0m: \tembedding_dims: [2, 2]\n",
            "\u001b[34m\u001b[1mwandb\u001b[0m: \tepochs: 10\n",
            "\u001b[34m\u001b[1mwandb\u001b[0m: \tlearning_rate: 0.001\n",
            "\u001b[34m\u001b[1mwandb\u001b[0m: \tlstm_hidden_size: [128, 128, 64]\n",
            "\u001b[34m\u001b[1mwandb\u001b[0m: \tnum_categories: [7, 19]\n",
            "\u001b[34m\u001b[1mwandb\u001b[0m: \tnum_embeddings: 2\n",
            "\u001b[34m\u001b[1mwandb\u001b[0m: \tnum_features: 12\n",
            "\u001b[34m\u001b[1mwandb\u001b[0m: \tnum_lstm_layers: 3\n",
            "\u001b[34m\u001b[1mwandb\u001b[0m: \toptimizer: adam\n",
            "\u001b[34m\u001b[1mwandb\u001b[0m: \toutput_dim: 1\n"
          ]
        },
        {
          "output_type": "stream",
          "name": "stdout",
          "text": [
            "None\n"
          ]
        },
        {
          "output_type": "stream",
          "name": "stderr",
          "text": [
            "\u001b[34m\u001b[1mwandb\u001b[0m: \u001b[33mWARNING\u001b[0m Ignored wandb.init() arg project when running a sweep.\n"
          ]
        },
        {
          "output_type": "display_data",
          "data": {
            "text/plain": [
              "<IPython.core.display.HTML object>"
            ],
            "text/html": [
              "Tracking run with wandb version 0.17.5"
            ]
          },
          "metadata": {}
        },
        {
          "output_type": "display_data",
          "data": {
            "text/plain": [
              "<IPython.core.display.HTML object>"
            ],
            "text/html": [
              "Run data is saved locally in <code>/content/drive/MyDrive/Kuliah/BDMA/Master’s Thesis/GenoaData/processed_data/wandb/run-20240727_185455-07vl2oz4</code>"
            ]
          },
          "metadata": {}
        },
        {
          "output_type": "display_data",
          "data": {
            "text/plain": [
              "<IPython.core.display.HTML object>"
            ],
            "text/html": [
              "Syncing run <strong><a href='https://wandb.ai/satriabw/battery-sweeps-v2/runs/07vl2oz4' target=\"_blank\">battery-prediction-lstm-test</a></strong> to <a href='https://wandb.ai/satriabw/battery-sweeps-v2' target=\"_blank\">Weights & Biases</a> (<a href='https://wandb.me/run' target=\"_blank\">docs</a>)<br/>Sweep page: <a href='https://wandb.ai/satriabw/battery-sweeps-v2/sweeps/sw9l2g1f' target=\"_blank\">https://wandb.ai/satriabw/battery-sweeps-v2/sweeps/sw9l2g1f</a>"
            ]
          },
          "metadata": {}
        },
        {
          "output_type": "display_data",
          "data": {
            "text/plain": [
              "<IPython.core.display.HTML object>"
            ],
            "text/html": [
              " View project at <a href='https://wandb.ai/satriabw/battery-sweeps-v2' target=\"_blank\">https://wandb.ai/satriabw/battery-sweeps-v2</a>"
            ]
          },
          "metadata": {}
        },
        {
          "output_type": "display_data",
          "data": {
            "text/plain": [
              "<IPython.core.display.HTML object>"
            ],
            "text/html": [
              " View sweep at <a href='https://wandb.ai/satriabw/battery-sweeps-v2/sweeps/sw9l2g1f' target=\"_blank\">https://wandb.ai/satriabw/battery-sweeps-v2/sweeps/sw9l2g1f</a>"
            ]
          },
          "metadata": {}
        },
        {
          "output_type": "display_data",
          "data": {
            "text/plain": [
              "<IPython.core.display.HTML object>"
            ],
            "text/html": [
              " View run at <a href='https://wandb.ai/satriabw/battery-sweeps-v2/runs/07vl2oz4' target=\"_blank\">https://wandb.ai/satriabw/battery-sweeps-v2/runs/07vl2oz4</a>"
            ]
          },
          "metadata": {}
        },
        {
          "output_type": "stream",
          "name": "stdout",
          "text": [
            "LSTMModel(\n",
            "  (embeddings): ModuleList(\n",
            "    (0): Embedding(7, 2)\n",
            "    (1): Embedding(19, 2)\n",
            "  )\n",
            "  (lstm_layers): ModuleList(\n",
            "    (0): LSTM(16, 128, batch_first=True)\n",
            "    (1): LSTM(128, 128, batch_first=True)\n",
            "    (2): LSTM(128, 64, batch_first=True)\n",
            "  )\n",
            "  (dropout1): Dropout(p=0.2, inplace=False)\n",
            "  (dropout2): Dropout(p=0.2, inplace=False)\n",
            "  (dense1): Linear(in_features=64, out_features=64, bias=True)\n",
            "  (dense2): Linear(in_features=64, out_features=32, bias=True)\n",
            "  (dense3): Linear(in_features=32, out_features=1, bias=True)\n",
            ")\n"
          ]
        },
        {
          "output_type": "stream",
          "name": "stderr",
          "text": [
            " 10%|█         | 1/10 [00:20<03:00, 20.01s/it]"
          ]
        },
        {
          "output_type": "stream",
          "name": "stdout",
          "text": [
            "Epoch: 0, avg_vloss: 0.010314659393578571,  best_vloss: inf\n"
          ]
        },
        {
          "output_type": "stream",
          "name": "stderr",
          "text": [
            "\r 20%|██        | 2/10 [00:40<02:40, 20.02s/it]"
          ]
        },
        {
          "output_type": "stream",
          "name": "stdout",
          "text": [
            "Epoch: 1, avg_vloss: 0.00950981193208815,  best_vloss: 0.010314659393578571\n"
          ]
        },
        {
          "output_type": "stream",
          "name": "stderr",
          "text": [
            "\r 30%|███       | 3/10 [00:59<02:19, 19.93s/it]"
          ]
        },
        {
          "output_type": "stream",
          "name": "stdout",
          "text": [
            "Epoch: 2, avg_vloss: 0.009038012663673326,  best_vloss: 0.00950981193208815\n"
          ]
        },
        {
          "output_type": "stream",
          "name": "stderr",
          "text": [
            "\r 40%|████      | 4/10 [01:19<01:59, 19.88s/it]"
          ]
        },
        {
          "output_type": "stream",
          "name": "stdout",
          "text": [
            "Epoch: 3, avg_vloss: 0.008463051427061222,  best_vloss: 0.009038012663673326\n"
          ]
        },
        {
          "output_type": "stream",
          "name": "stderr",
          "text": [
            "\r 50%|█████     | 5/10 [01:39<01:39, 19.81s/it]"
          ]
        },
        {
          "output_type": "stream",
          "name": "stdout",
          "text": [
            "Epoch: 4, avg_vloss: 0.008588059801887917,  best_vloss: 0.008463051427061222\n"
          ]
        },
        {
          "output_type": "stream",
          "name": "stderr",
          "text": [
            "\r 60%|██████    | 6/10 [01:59<01:19, 19.78s/it]"
          ]
        },
        {
          "output_type": "stream",
          "name": "stdout",
          "text": [
            "Epoch: 5, avg_vloss: 0.008011181548695094,  best_vloss: 0.008463051427061222\n"
          ]
        },
        {
          "output_type": "stream",
          "name": "stderr",
          "text": [
            "\r 70%|███████   | 7/10 [02:18<00:59, 19.75s/it]"
          ]
        },
        {
          "output_type": "stream",
          "name": "stdout",
          "text": [
            "Epoch: 6, avg_vloss: 0.007843138626432065,  best_vloss: 0.008011181548695094\n"
          ]
        },
        {
          "output_type": "stream",
          "name": "stderr",
          "text": [
            "\r 80%|████████  | 8/10 [02:38<00:39, 19.80s/it]"
          ]
        },
        {
          "output_type": "stream",
          "name": "stdout",
          "text": [
            "Epoch: 7, avg_vloss: 0.0076007639049566166,  best_vloss: 0.007843138626432065\n"
          ]
        },
        {
          "output_type": "stream",
          "name": "stderr",
          "text": [
            "\r 90%|█████████ | 9/10 [02:58<00:19, 19.88s/it]"
          ]
        },
        {
          "output_type": "stream",
          "name": "stdout",
          "text": [
            "Epoch: 8, avg_vloss: 0.00767553244209425,  best_vloss: 0.0076007639049566166\n"
          ]
        },
        {
          "output_type": "stream",
          "name": "stderr",
          "text": [
            "100%|██████████| 10/10 [03:18<00:00, 19.86s/it]"
          ]
        },
        {
          "output_type": "stream",
          "name": "stdout",
          "text": [
            "Epoch: 9, avg_vloss: 0.007696353205803085,  best_vloss: 0.0076007639049566166\n"
          ]
        },
        {
          "output_type": "stream",
          "name": "stderr",
          "text": [
            "\n"
          ]
        },
        {
          "output_type": "display_data",
          "data": {
            "text/plain": [
              "VBox(children=(Label(value='0.002 MB of 0.002 MB uploaded\\r'), FloatProgress(value=1.0, max=1.0)))"
            ],
            "application/vnd.jupyter.widget-view+json": {
              "version_major": 2,
              "version_minor": 0,
              "model_id": "8d9a814cfe3845fcb03518442281dd8c"
            }
          },
          "metadata": {}
        },
        {
          "output_type": "display_data",
          "data": {
            "text/plain": [
              "<IPython.core.display.HTML object>"
            ],
            "text/html": [
              "<style>\n",
              "    table.wandb td:nth-child(1) { padding: 0 10px; text-align: left ; width: auto;} td:nth-child(2) {text-align: left ; width: 100%}\n",
              "    .wandb-row { display: flex; flex-direction: row; flex-wrap: wrap; justify-content: flex-start; width: 100% }\n",
              "    .wandb-col { display: flex; flex-direction: column; flex-basis: 100%; flex: 1; padding: 10px; }\n",
              "    </style>\n",
              "<div class=\"wandb-row\"><div class=\"wandb-col\"><h3>Run history:</h3><br/><table class=\"wandb\"><tr><td>best_loss</td><td>█▆▅▃▃▂▂▁▁▁</td></tr><tr><td>epoch</td><td>▁▂▃▃▄▅▆▆▇█</td></tr><tr><td>loss</td><td>█▆▅▃▄▂▂▁▁▁</td></tr><tr><td>training loss</td><td>█▅▄▃▃▂▂▂▁▁</td></tr></table><br/></div><div class=\"wandb-col\"><h3>Run summary:</h3><br/><table class=\"wandb\"><tr><td>best_loss</td><td>0.0076</td></tr><tr><td>epoch</td><td>9</td></tr><tr><td>loss</td><td>0.0077</td></tr><tr><td>training loss</td><td>0.00817</td></tr></table><br/></div></div>"
            ]
          },
          "metadata": {}
        },
        {
          "output_type": "display_data",
          "data": {
            "text/plain": [
              "<IPython.core.display.HTML object>"
            ],
            "text/html": [
              " View run <strong style=\"color:#cdcd00\">battery-prediction-lstm-test</strong> at: <a href='https://wandb.ai/satriabw/battery-sweeps-v2/runs/07vl2oz4' target=\"_blank\">https://wandb.ai/satriabw/battery-sweeps-v2/runs/07vl2oz4</a><br/> View project at: <a href='https://wandb.ai/satriabw/battery-sweeps-v2' target=\"_blank\">https://wandb.ai/satriabw/battery-sweeps-v2</a><br/>Synced 5 W&B file(s), 0 media file(s), 0 artifact file(s) and 0 other file(s)"
            ]
          },
          "metadata": {}
        },
        {
          "output_type": "display_data",
          "data": {
            "text/plain": [
              "<IPython.core.display.HTML object>"
            ],
            "text/html": [
              "Find logs at: <code>./wandb/run-20240727_185455-07vl2oz4/logs</code>"
            ]
          },
          "metadata": {}
        },
        {
          "output_type": "display_data",
          "data": {
            "text/plain": [
              "<IPython.core.display.HTML object>"
            ],
            "text/html": [
              "The new W&B backend becomes opt-out in version 0.18.0; try it out with `wandb.require(\"core\")`! See https://wandb.me/wandb-core for more information."
            ]
          },
          "metadata": {}
        },
        {
          "output_type": "stream",
          "name": "stderr",
          "text": [
            "\u001b[34m\u001b[1mwandb\u001b[0m: Agent Starting Run: nx0zjoi0 with config:\n",
            "\u001b[34m\u001b[1mwandb\u001b[0m: \tactivation: leakyrelu\n",
            "\u001b[34m\u001b[1mwandb\u001b[0m: \tbatch_size: 64\n",
            "\u001b[34m\u001b[1mwandb\u001b[0m: \tdense_hidden_size: [64, 32]\n",
            "\u001b[34m\u001b[1mwandb\u001b[0m: \tdropout_prob: 0.2\n",
            "\u001b[34m\u001b[1mwandb\u001b[0m: \tembedding_dims: [2, 2]\n",
            "\u001b[34m\u001b[1mwandb\u001b[0m: \tepochs: 10\n",
            "\u001b[34m\u001b[1mwandb\u001b[0m: \tlearning_rate: 0.0005\n",
            "\u001b[34m\u001b[1mwandb\u001b[0m: \tlstm_hidden_size: [128, 128, 64]\n",
            "\u001b[34m\u001b[1mwandb\u001b[0m: \tnum_categories: [7, 19]\n",
            "\u001b[34m\u001b[1mwandb\u001b[0m: \tnum_embeddings: 2\n",
            "\u001b[34m\u001b[1mwandb\u001b[0m: \tnum_features: 12\n",
            "\u001b[34m\u001b[1mwandb\u001b[0m: \tnum_lstm_layers: 3\n",
            "\u001b[34m\u001b[1mwandb\u001b[0m: \toptimizer: adam\n",
            "\u001b[34m\u001b[1mwandb\u001b[0m: \toutput_dim: 1\n"
          ]
        },
        {
          "output_type": "stream",
          "name": "stdout",
          "text": [
            "None\n"
          ]
        },
        {
          "output_type": "stream",
          "name": "stderr",
          "text": [
            "\u001b[34m\u001b[1mwandb\u001b[0m: \u001b[33mWARNING\u001b[0m Ignored wandb.init() arg project when running a sweep.\n"
          ]
        },
        {
          "output_type": "display_data",
          "data": {
            "text/plain": [
              "<IPython.core.display.HTML object>"
            ],
            "text/html": [
              "Tracking run with wandb version 0.17.5"
            ]
          },
          "metadata": {}
        },
        {
          "output_type": "display_data",
          "data": {
            "text/plain": [
              "<IPython.core.display.HTML object>"
            ],
            "text/html": [
              "Run data is saved locally in <code>/content/drive/MyDrive/Kuliah/BDMA/Master’s Thesis/GenoaData/processed_data/wandb/run-20240727_185830-nx0zjoi0</code>"
            ]
          },
          "metadata": {}
        },
        {
          "output_type": "display_data",
          "data": {
            "text/plain": [
              "<IPython.core.display.HTML object>"
            ],
            "text/html": [
              "Syncing run <strong><a href='https://wandb.ai/satriabw/battery-sweeps-v2/runs/nx0zjoi0' target=\"_blank\">battery-prediction-lstm-test</a></strong> to <a href='https://wandb.ai/satriabw/battery-sweeps-v2' target=\"_blank\">Weights & Biases</a> (<a href='https://wandb.me/run' target=\"_blank\">docs</a>)<br/>Sweep page: <a href='https://wandb.ai/satriabw/battery-sweeps-v2/sweeps/sw9l2g1f' target=\"_blank\">https://wandb.ai/satriabw/battery-sweeps-v2/sweeps/sw9l2g1f</a>"
            ]
          },
          "metadata": {}
        },
        {
          "output_type": "display_data",
          "data": {
            "text/plain": [
              "<IPython.core.display.HTML object>"
            ],
            "text/html": [
              " View project at <a href='https://wandb.ai/satriabw/battery-sweeps-v2' target=\"_blank\">https://wandb.ai/satriabw/battery-sweeps-v2</a>"
            ]
          },
          "metadata": {}
        },
        {
          "output_type": "display_data",
          "data": {
            "text/plain": [
              "<IPython.core.display.HTML object>"
            ],
            "text/html": [
              " View sweep at <a href='https://wandb.ai/satriabw/battery-sweeps-v2/sweeps/sw9l2g1f' target=\"_blank\">https://wandb.ai/satriabw/battery-sweeps-v2/sweeps/sw9l2g1f</a>"
            ]
          },
          "metadata": {}
        },
        {
          "output_type": "display_data",
          "data": {
            "text/plain": [
              "<IPython.core.display.HTML object>"
            ],
            "text/html": [
              " View run at <a href='https://wandb.ai/satriabw/battery-sweeps-v2/runs/nx0zjoi0' target=\"_blank\">https://wandb.ai/satriabw/battery-sweeps-v2/runs/nx0zjoi0</a>"
            ]
          },
          "metadata": {}
        },
        {
          "output_type": "stream",
          "name": "stdout",
          "text": [
            "LSTMModel(\n",
            "  (embeddings): ModuleList(\n",
            "    (0): Embedding(7, 2)\n",
            "    (1): Embedding(19, 2)\n",
            "  )\n",
            "  (lstm_layers): ModuleList(\n",
            "    (0): LSTM(16, 128, batch_first=True)\n",
            "    (1): LSTM(128, 128, batch_first=True)\n",
            "    (2): LSTM(128, 64, batch_first=True)\n",
            "  )\n",
            "  (dropout1): Dropout(p=0.2, inplace=False)\n",
            "  (dropout2): Dropout(p=0.2, inplace=False)\n",
            "  (dense1): Linear(in_features=64, out_features=64, bias=True)\n",
            "  (dense2): Linear(in_features=64, out_features=32, bias=True)\n",
            "  (dense3): Linear(in_features=32, out_features=1, bias=True)\n",
            ")\n"
          ]
        },
        {
          "output_type": "stream",
          "name": "stderr",
          "text": [
            " 10%|█         | 1/10 [00:19<02:59, 19.91s/it]"
          ]
        },
        {
          "output_type": "stream",
          "name": "stdout",
          "text": [
            "Epoch: 0, avg_vloss: 0.01137790287009009,  best_vloss: inf\n"
          ]
        },
        {
          "output_type": "stream",
          "name": "stderr",
          "text": [
            "\r 20%|██        | 2/10 [00:39<02:38, 19.85s/it]"
          ]
        },
        {
          "output_type": "stream",
          "name": "stdout",
          "text": [
            "Epoch: 1, avg_vloss: 0.010501276465966198,  best_vloss: 0.01137790287009009\n"
          ]
        },
        {
          "output_type": "stream",
          "name": "stderr",
          "text": [
            "\r 30%|███       | 3/10 [00:59<02:19, 19.89s/it]"
          ]
        },
        {
          "output_type": "stream",
          "name": "stdout",
          "text": [
            "Epoch: 2, avg_vloss: 0.009460076285589163,  best_vloss: 0.010501276465966198\n"
          ]
        },
        {
          "output_type": "stream",
          "name": "stderr",
          "text": [
            "\r 40%|████      | 4/10 [01:19<01:58, 19.81s/it]"
          ]
        },
        {
          "output_type": "stream",
          "name": "stdout",
          "text": [
            "Epoch: 3, avg_vloss: 0.010037745274657513,  best_vloss: 0.009460076285589163\n"
          ]
        },
        {
          "output_type": "stream",
          "name": "stderr",
          "text": [
            "\r 50%|█████     | 5/10 [01:39<01:39, 19.88s/it]"
          ]
        },
        {
          "output_type": "stream",
          "name": "stdout",
          "text": [
            "Epoch: 4, avg_vloss: 0.009287769618630213,  best_vloss: 0.009460076285589163\n"
          ]
        },
        {
          "output_type": "stream",
          "name": "stderr",
          "text": [
            "\r 60%|██████    | 6/10 [01:59<01:19, 19.91s/it]"
          ]
        },
        {
          "output_type": "stream",
          "name": "stdout",
          "text": [
            "Epoch: 5, avg_vloss: 0.008425617751940577,  best_vloss: 0.009287769618630213\n"
          ]
        },
        {
          "output_type": "stream",
          "name": "stderr",
          "text": [
            "\r 70%|███████   | 7/10 [02:19<00:59, 19.90s/it]"
          ]
        },
        {
          "output_type": "stream",
          "name": "stdout",
          "text": [
            "Epoch: 6, avg_vloss: 0.008107148861043927,  best_vloss: 0.008425617751940577\n"
          ]
        },
        {
          "output_type": "stream",
          "name": "stderr",
          "text": [
            "\r 80%|████████  | 8/10 [02:39<00:39, 19.93s/it]"
          ]
        },
        {
          "output_type": "stream",
          "name": "stdout",
          "text": [
            "Epoch: 7, avg_vloss: 0.008539308427799056,  best_vloss: 0.008107148861043927\n"
          ]
        },
        {
          "output_type": "stream",
          "name": "stderr",
          "text": [
            "\r 90%|█████████ | 9/10 [02:59<00:19, 19.94s/it]"
          ]
        },
        {
          "output_type": "stream",
          "name": "stdout",
          "text": [
            "Epoch: 8, avg_vloss: 0.008068957718248709,  best_vloss: 0.008107148861043927\n"
          ]
        },
        {
          "output_type": "stream",
          "name": "stderr",
          "text": [
            "100%|██████████| 10/10 [03:19<00:00, 19.90s/it]"
          ]
        },
        {
          "output_type": "stream",
          "name": "stdout",
          "text": [
            "Epoch: 9, avg_vloss: 0.007876123870532452,  best_vloss: 0.008068957718248709\n"
          ]
        },
        {
          "output_type": "stream",
          "name": "stderr",
          "text": [
            "\n"
          ]
        },
        {
          "output_type": "display_data",
          "data": {
            "text/plain": [
              "VBox(children=(Label(value='0.002 MB of 0.002 MB uploaded\\r'), FloatProgress(value=1.0, max=1.0)))"
            ],
            "application/vnd.jupyter.widget-view+json": {
              "version_major": 2,
              "version_minor": 0,
              "model_id": "1a8f670c31f7405ba6009f88835a8a75"
            }
          },
          "metadata": {}
        },
        {
          "output_type": "display_data",
          "data": {
            "text/plain": [
              "<IPython.core.display.HTML object>"
            ],
            "text/html": [
              "<style>\n",
              "    table.wandb td:nth-child(1) { padding: 0 10px; text-align: left ; width: auto;} td:nth-child(2) {text-align: left ; width: 100%}\n",
              "    .wandb-row { display: flex; flex-direction: row; flex-wrap: wrap; justify-content: flex-start; width: 100% }\n",
              "    .wandb-col { display: flex; flex-direction: column; flex-basis: 100%; flex: 1; padding: 10px; }\n",
              "    </style>\n",
              "<div class=\"wandb-row\"><div class=\"wandb-col\"><h3>Run history:</h3><br/><table class=\"wandb\"><tr><td>best_loss</td><td>█▆▄▄▄▂▁▁▁▁</td></tr><tr><td>epoch</td><td>▁▂▃▃▄▅▆▆▇█</td></tr><tr><td>loss</td><td>█▆▄▅▄▂▁▂▁▁</td></tr><tr><td>training loss</td><td>█▅▄▃▃▂▂▂▁▁</td></tr></table><br/></div><div class=\"wandb-col\"><h3>Run summary:</h3><br/><table class=\"wandb\"><tr><td>best_loss</td><td>0.00788</td></tr><tr><td>epoch</td><td>9</td></tr><tr><td>loss</td><td>0.00788</td></tr><tr><td>training loss</td><td>0.00892</td></tr></table><br/></div></div>"
            ]
          },
          "metadata": {}
        },
        {
          "output_type": "display_data",
          "data": {
            "text/plain": [
              "<IPython.core.display.HTML object>"
            ],
            "text/html": [
              " View run <strong style=\"color:#cdcd00\">battery-prediction-lstm-test</strong> at: <a href='https://wandb.ai/satriabw/battery-sweeps-v2/runs/nx0zjoi0' target=\"_blank\">https://wandb.ai/satriabw/battery-sweeps-v2/runs/nx0zjoi0</a><br/> View project at: <a href='https://wandb.ai/satriabw/battery-sweeps-v2' target=\"_blank\">https://wandb.ai/satriabw/battery-sweeps-v2</a><br/>Synced 5 W&B file(s), 0 media file(s), 0 artifact file(s) and 0 other file(s)"
            ]
          },
          "metadata": {}
        },
        {
          "output_type": "display_data",
          "data": {
            "text/plain": [
              "<IPython.core.display.HTML object>"
            ],
            "text/html": [
              "Find logs at: <code>./wandb/run-20240727_185830-nx0zjoi0/logs</code>"
            ]
          },
          "metadata": {}
        },
        {
          "output_type": "display_data",
          "data": {
            "text/plain": [
              "<IPython.core.display.HTML object>"
            ],
            "text/html": [
              "The new W&B backend becomes opt-out in version 0.18.0; try it out with `wandb.require(\"core\")`! See https://wandb.me/wandb-core for more information."
            ]
          },
          "metadata": {}
        },
        {
          "output_type": "stream",
          "name": "stderr",
          "text": [
            "\u001b[34m\u001b[1mwandb\u001b[0m: Sweep Agent: Waiting for job.\n",
            "\u001b[34m\u001b[1mwandb\u001b[0m: Sweep Agent: Exiting.\n"
          ]
        }
      ],
      "source": [
        "wandb.agent(sweep_id, sweep_train)"
      ]
    },
    {
      "cell_type": "markdown",
      "metadata": {
        "id": "vFvdQ6n5c3Mp"
      },
      "source": [
        "### Evaluation of the model"
      ]
    },
    {
      "cell_type": "code",
      "execution_count": null,
      "metadata": {
        "id": "Zabq5m5LTyi9"
      },
      "outputs": [],
      "source": [
        "def predict(model, test_loader, device):\n",
        "    model.load_state_dict(torch.load(f'model_battery_best_1.6_embd.pth'))\n",
        "    model.eval()\n",
        "    predictions = []\n",
        "    identifiers = []\n",
        "    with torch.no_grad():\n",
        "        for numerical_batch, _, cat_batch, ids in test_loader:\n",
        "            numerical_batch, cat_batch = numerical_batch.to(device), cat_batch.to(device)\n",
        "            cat1_batch = cat_batch[:, :, 0]\n",
        "            cat2_batch = cat_batch[:, :, 1]\n",
        "\n",
        "            outputs = model(numerical_batch, cat1_batch, cat2_batch)\n",
        "            predictions.extend(outputs.cpu().numpy())\n",
        "            identifiers.extend(ids.cpu().numpy())\n",
        "\n",
        "    return predictions, identifiers\n",
        "\n",
        "# Make predictions on the test dataset\n",
        "predictions, ids = predict(model, test_loader, device)\n",
        "result = {'vehicle': [], 'date': [], 'road_segment_id': [], 'unique_trip_id': [], 'value': []}\n",
        "test = []\n",
        "\n",
        "\n",
        "for identifier, prediction in zip(ids, predictions):\n",
        "    result['vehicle'].append(identifier[0])\n",
        "    result['road_segment_id'].append(identifier[1])\n",
        "    result['date'].append(identifier[2])\n",
        "    result['unique_trip_id'].append(identifier[3])\n",
        "    result['value'].append(prediction[0])"
      ]
    },
    {
      "cell_type": "code",
      "execution_count": null,
      "metadata": {
        "id": "pvI3x2JsTfvp"
      },
      "outputs": [],
      "source": [
        "result_df = pd.DataFrame(result)\n",
        "\n",
        "mapping = {'vehicle': 2,  'road_segment_id': 3, 'date': 4, 'unique_trip_id': 5}\n",
        "for column in identifiers:\n",
        "  encoder = encoders[mapping[column]]\n",
        "  result_df[column] = result_df[column].astype(int)\n",
        "\n",
        "  result_df[column] = encoder.inverse_transform(result_df[column])\n",
        "  test_df[column] = encoder.inverse_transform(test_df[column])"
      ]
    },
    {
      "cell_type": "code",
      "execution_count": null,
      "metadata": {
        "id": "2roFZ3Vuv-Pe"
      },
      "outputs": [],
      "source": [
        "gt_df = pd.DataFrame()\n",
        "for _, group in test_df.groupby(by=['vehicle', 'date']):\n",
        "    group = group.sort_values('t')\n",
        "    gt_df = pd.concat([gt_df, group])"
      ]
    },
    {
      "cell_type": "markdown",
      "source": [
        "### Read Ground Truth"
      ],
      "metadata": {
        "id": "6ihOMOZUnW37"
      }
    },
    {
      "cell_type": "code",
      "source": [
        "dt = dataset.groupby(['vehicle', 'date'])['est_battery_consumption(kwh)'].sum().reset_index()\n",
        "battery_df = pd.concat(map(pd.read_csv, glob.glob(os.path.join('../data', \"*.csv\"))))\n",
        "battery_df = battery_df.rename(columns={'Segnale': 'signal', 'Valore': 'value', 'DataOra': 't', 'Latitudine': 'latitude', 'Veicolo': 'vehicle', 'Longitudine': 'longitude'})\n",
        "battery_df = battery_df[(battery_df[\"longitude\"] >= 5.93) & (battery_df[\"longitude\"] <= 18.99)]\n",
        "battery_df = battery_df[(battery_df[\"latitude\"] >= 34.76) & (battery_df[\"latitude\"] <= 47.1)]\n",
        "\n",
        "consumption_df = battery_df[battery_df['signal'] == 'lastDayTotalConsumedEnergy']\n",
        "consumption_df['t'] = pd.to_datetime(consumption_df['t'])\n",
        "consumption_df['date'] = consumption_df['t'].dt.date\n",
        "consumption_df = consumption_df.sort_values(by=['vehicle', 't'])\n",
        "\n",
        "dataset = pd.read_csv('./dataset_cleaned_v5.csv')\n",
        "dataset['t'] = pd.to_datetime(dataset['t'])\n",
        "dataset['unique_trip_id'] = dataset['vehicle'].astype(str) + '_' + dataset['date'].astype(str) + '_' + dataset['trip_id'].astype(str)"
      ],
      "metadata": {
        "colab": {
          "base_uri": "https://localhost:8080/"
        },
        "id": "UKexNNGKnWAR",
        "outputId": "924145af-9133-4589-d2fd-8a4d5bb500cf"
      },
      "execution_count": null,
      "outputs": [
        {
          "output_type": "stream",
          "name": "stderr",
          "text": [
            "<ipython-input-126-15d874729500>:8: SettingWithCopyWarning: \n",
            "A value is trying to be set on a copy of a slice from a DataFrame.\n",
            "Try using .loc[row_indexer,col_indexer] = value instead\n",
            "\n",
            "See the caveats in the documentation: https://pandas.pydata.org/pandas-docs/stable/user_guide/indexing.html#returning-a-view-versus-a-copy\n",
            "  consumption_df['t'] = pd.to_datetime(consumption_df['t'])\n",
            "<ipython-input-126-15d874729500>:9: SettingWithCopyWarning: \n",
            "A value is trying to be set on a copy of a slice from a DataFrame.\n",
            "Try using .loc[row_indexer,col_indexer] = value instead\n",
            "\n",
            "See the caveats in the documentation: https://pandas.pydata.org/pandas-docs/stable/user_guide/indexing.html#returning-a-view-versus-a-copy\n",
            "  consumption_df['date'] = consumption_df['t'].dt.date\n"
          ]
        }
      ]
    },
    {
      "cell_type": "markdown",
      "metadata": {
        "id": "gwH8JfpDe1gG"
      },
      "source": [
        "### Evaluate against daily total consumption"
      ]
    },
    {
      "cell_type": "code",
      "execution_count": null,
      "metadata": {
        "colab": {
          "base_uri": "https://localhost:8080/"
        },
        "id": "JLKDBFEkXf3i",
        "outputId": "609bfb89-881a-4441-9135-3bfdc17ae40f"
      },
      "outputs": [
        {
          "output_type": "stream",
          "name": "stdout",
          "text": [
            "Model , Overall RMSE: 1.3159582320452725, MAPE: 32645291076127.816, std: 1.3154711406428887\n"
          ]
        }
      ],
      "source": [
        "res = {'vehicle': [], 'date': [], 'mse': [], 'rmse': [], 'mape': [], 'y_pred':[], 'y': [], 'times': [], 'weathers': [], 'trip_id': []}\n",
        "\n",
        "\n",
        "for name, group in result_df.groupby('unique_trip_id'):\n",
        "    vehicle, date, _ , _ = name.split(\"_\")\n",
        "    date = pd.to_datetime(date).date()\n",
        "\n",
        "    test_data = dataset[dataset['unique_trip_id'] == name]\n",
        "    start, end = test_data['t'].min(), test_data['t'].max()\n",
        "\n",
        "\n",
        "    mask_id = (consumption_df['vehicle'] == vehicle) & (consumption_df['date'] == date)\n",
        "    mask_trip = (consumption_df['t'] >= start) & (consumption_df['t'] <= end)\n",
        "\n",
        "    consumption = consumption_df[(mask_id) & (mask_trip)].sort_values('t')\n",
        "\n",
        "\n",
        "    y = [consumption['value'].iloc[-1] - consumption['value'].iloc[0]]\n",
        "    y_pred = [group['value'].sum()]\n",
        "\n",
        "    res['vehicle'].append(vehicle)\n",
        "    res['date'].append(date)\n",
        "    res['trip_id'].append(name)\n",
        "\n",
        "    res['times'].append(consumption['t'].values)\n",
        "    res['weathers'].append(test_data['precipitation'].values)\n",
        "\n",
        "    res['y_pred'].append(y_pred[0])\n",
        "    res['y'].append(y[0])\n",
        "\n",
        "    res['mse'].append(metrics.mean_squared_error(y, y_pred))\n",
        "    res['rmse'].append(math.sqrt(metrics.mean_squared_error(y, y_pred)))\n",
        "    res['mape'].append(metrics.mean_absolute_percentage_error(y, y_pred))\n",
        "\n",
        "\n",
        "res_df = pd.DataFrame(res)\n",
        "res_df.to_csv('./lstm_prediction_trips.csv', index=False)\n",
        "res_df\n",
        "\n",
        "mse = metrics.mean_squared_error(res_df['y'], res_df['y_pred'])\n",
        "mape = metrics.mean_absolute_percentage_error(res_df['y'], res_df['y_pred'])\n",
        "std = np.std(res_df['y'] - res_df['y_pred'])\n",
        "\n",
        "print(f\"Model , Overall RMSE: {math.sqrt(mse)}, MAPE: {mape}, std: {std}\")"
      ]
    },
    {
      "cell_type": "code",
      "execution_count": null,
      "metadata": {
        "colab": {
          "base_uri": "https://localhost:8080/",
          "height": 238
        },
        "id": "r7QqIClF96ka",
        "outputId": "ce2630f2-2bb3-47be-d9ab-d29e1e99fdc2"
      },
      "outputs": [
        {
          "data": {
            "application/vnd.google.colaboratory.intrinsic+json": {
              "summary": "{\n  \"name\": \"metrics_date_df\",\n  \"rows\": 6,\n  \"fields\": [\n    {\n      \"column\": \"date\",\n      \"properties\": {\n        \"dtype\": \"date\",\n        \"min\": \"2024-02-03\",\n        \"max\": \"2024-02-09\",\n        \"num_unique_values\": 6,\n        \"samples\": [\n          \"2024-02-03\",\n          \"2024-02-04\",\n          \"2024-02-09\"\n        ],\n        \"semantic_type\": \"\",\n        \"description\": \"\"\n      }\n    },\n    {\n      \"column\": \"mse\",\n      \"properties\": {\n        \"dtype\": \"number\",\n        \"std\": 66.77907499632951,\n        \"min\": 57.92929076580039,\n        \"max\": 231.74198533010528,\n        \"num_unique_values\": 6,\n        \"samples\": [\n          231.74198533010528,\n          57.92929076580039,\n          137.4490621687307\n        ],\n        \"semantic_type\": \"\",\n        \"description\": \"\"\n      }\n    },\n    {\n      \"column\": \"rmse\",\n      \"properties\": {\n        \"dtype\": \"number\",\n        \"std\": 2.9568629056603286,\n        \"min\": 7.611129401462072,\n        \"max\": 15.223074109065662,\n        \"num_unique_values\": 6,\n        \"samples\": [\n          15.223074109065662,\n          7.611129401462072,\n          11.723867201940267\n        ],\n        \"semantic_type\": \"\",\n        \"description\": \"\"\n      }\n    },\n    {\n      \"column\": \"mae\",\n      \"properties\": {\n        \"dtype\": \"number\",\n        \"std\": 2.0795685047797132,\n        \"min\": 5.6427058958334255,\n        \"max\": 10.64740668587327,\n        \"num_unique_values\": 6,\n        \"samples\": [\n          10.64740668587327,\n          5.909007510579944,\n          9.518006950957561\n        ],\n        \"semantic_type\": \"\",\n        \"description\": \"\"\n      }\n    },\n    {\n      \"column\": \"mape\",\n      \"properties\": {\n        \"dtype\": \"number\",\n        \"std\": 0.03129460918409476,\n        \"min\": 0.05516291684745093,\n        \"max\": 0.13476273776222672,\n        \"num_unique_values\": 6,\n        \"samples\": [\n          0.13197281287918125,\n          0.13476273776222672,\n          0.08998991315731573\n        ],\n        \"semantic_type\": \"\",\n        \"description\": \"\"\n      }\n    },\n    {\n      \"column\": \"variance\",\n      \"properties\": {\n        \"dtype\": \"float32\",\n        \"num_unique_values\": 6,\n        \"samples\": [\n          1356.7132568359375,\n          779.1266479492188,\n          938.8050537109375\n        ],\n        \"semantic_type\": \"\",\n        \"description\": \"\"\n      }\n    },\n    {\n      \"column\": \"r2\",\n      \"properties\": {\n        \"dtype\": \"number\",\n        \"std\": 0.05901013113406583,\n        \"min\": 0.8073373413455832,\n        \"max\": 0.9410414291201912,\n        \"num_unique_values\": 6,\n        \"samples\": [\n          0.8073373413455832,\n          0.9226761662597036,\n          0.8406566711815007\n        ],\n        \"semantic_type\": \"\",\n        \"description\": \"\"\n      }\n    },\n    {\n      \"column\": \"std\",\n      \"properties\": {\n        \"dtype\": \"float32\",\n        \"num_unique_values\": 6,\n        \"samples\": [\n          36.833587646484375,\n          27.912839889526367,\n          30.639925003051758\n        ],\n        \"semantic_type\": \"\",\n        \"description\": \"\"\n      }\n    }\n  ]\n}",
              "type": "dataframe",
              "variable_name": "metrics_date_df"
            },
            "text/html": [
              "\n",
              "  <div id=\"df-0cd4adf9-b18b-4657-9072-fc07b3888754\" class=\"colab-df-container\">\n",
              "    <div>\n",
              "<style scoped>\n",
              "    .dataframe tbody tr th:only-of-type {\n",
              "        vertical-align: middle;\n",
              "    }\n",
              "\n",
              "    .dataframe tbody tr th {\n",
              "        vertical-align: top;\n",
              "    }\n",
              "\n",
              "    .dataframe thead th {\n",
              "        text-align: right;\n",
              "    }\n",
              "</style>\n",
              "<table border=\"1\" class=\"dataframe\">\n",
              "  <thead>\n",
              "    <tr style=\"text-align: right;\">\n",
              "      <th></th>\n",
              "      <th>date</th>\n",
              "      <th>mse</th>\n",
              "      <th>rmse</th>\n",
              "      <th>mae</th>\n",
              "      <th>mape</th>\n",
              "      <th>variance</th>\n",
              "      <th>r2</th>\n",
              "      <th>std</th>\n",
              "    </tr>\n",
              "  </thead>\n",
              "  <tbody>\n",
              "    <tr>\n",
              "      <th>0</th>\n",
              "      <td>2024-02-03</td>\n",
              "      <td>231.741985</td>\n",
              "      <td>15.223074</td>\n",
              "      <td>10.647407</td>\n",
              "      <td>0.131973</td>\n",
              "      <td>1356.713257</td>\n",
              "      <td>0.807337</td>\n",
              "      <td>36.833588</td>\n",
              "    </tr>\n",
              "    <tr>\n",
              "      <th>1</th>\n",
              "      <td>2024-02-04</td>\n",
              "      <td>57.929291</td>\n",
              "      <td>7.611129</td>\n",
              "      <td>5.909008</td>\n",
              "      <td>0.134763</td>\n",
              "      <td>779.126648</td>\n",
              "      <td>0.922676</td>\n",
              "      <td>27.912840</td>\n",
              "    </tr>\n",
              "    <tr>\n",
              "      <th>2</th>\n",
              "      <td>2024-02-06</td>\n",
              "      <td>117.313487</td>\n",
              "      <td>10.831135</td>\n",
              "      <td>9.072352</td>\n",
              "      <td>0.094665</td>\n",
              "      <td>605.941650</td>\n",
              "      <td>0.840464</td>\n",
              "      <td>24.615883</td>\n",
              "    </tr>\n",
              "    <tr>\n",
              "      <th>3</th>\n",
              "      <td>2024-02-07</td>\n",
              "      <td>60.514849</td>\n",
              "      <td>7.779129</td>\n",
              "      <td>6.882490</td>\n",
              "      <td>0.075958</td>\n",
              "      <td>961.554016</td>\n",
              "      <td>0.941041</td>\n",
              "      <td>31.008934</td>\n",
              "    </tr>\n",
              "    <tr>\n",
              "      <th>4</th>\n",
              "      <td>2024-02-08</td>\n",
              "      <td>70.636094</td>\n",
              "      <td>8.404528</td>\n",
              "      <td>5.642706</td>\n",
              "      <td>0.055163</td>\n",
              "      <td>1076.687988</td>\n",
              "      <td>0.939110</td>\n",
              "      <td>32.812923</td>\n",
              "    </tr>\n",
              "    <tr>\n",
              "      <th>5</th>\n",
              "      <td>2024-02-09</td>\n",
              "      <td>137.449062</td>\n",
              "      <td>11.723867</td>\n",
              "      <td>9.518007</td>\n",
              "      <td>0.089990</td>\n",
              "      <td>938.805054</td>\n",
              "      <td>0.840657</td>\n",
              "      <td>30.639925</td>\n",
              "    </tr>\n",
              "  </tbody>\n",
              "</table>\n",
              "</div>\n",
              "    <div class=\"colab-df-buttons\">\n",
              "\n",
              "  <div class=\"colab-df-container\">\n",
              "    <button class=\"colab-df-convert\" onclick=\"convertToInteractive('df-0cd4adf9-b18b-4657-9072-fc07b3888754')\"\n",
              "            title=\"Convert this dataframe to an interactive table.\"\n",
              "            style=\"display:none;\">\n",
              "\n",
              "  <svg xmlns=\"http://www.w3.org/2000/svg\" height=\"24px\" viewBox=\"0 -960 960 960\">\n",
              "    <path d=\"M120-120v-720h720v720H120Zm60-500h600v-160H180v160Zm220 220h160v-160H400v160Zm0 220h160v-160H400v160ZM180-400h160v-160H180v160Zm440 0h160v-160H620v160ZM180-180h160v-160H180v160Zm440 0h160v-160H620v160Z\"/>\n",
              "  </svg>\n",
              "    </button>\n",
              "\n",
              "  <style>\n",
              "    .colab-df-container {\n",
              "      display:flex;\n",
              "      gap: 12px;\n",
              "    }\n",
              "\n",
              "    .colab-df-convert {\n",
              "      background-color: #E8F0FE;\n",
              "      border: none;\n",
              "      border-radius: 50%;\n",
              "      cursor: pointer;\n",
              "      display: none;\n",
              "      fill: #1967D2;\n",
              "      height: 32px;\n",
              "      padding: 0 0 0 0;\n",
              "      width: 32px;\n",
              "    }\n",
              "\n",
              "    .colab-df-convert:hover {\n",
              "      background-color: #E2EBFA;\n",
              "      box-shadow: 0px 1px 2px rgba(60, 64, 67, 0.3), 0px 1px 3px 1px rgba(60, 64, 67, 0.15);\n",
              "      fill: #174EA6;\n",
              "    }\n",
              "\n",
              "    .colab-df-buttons div {\n",
              "      margin-bottom: 4px;\n",
              "    }\n",
              "\n",
              "    [theme=dark] .colab-df-convert {\n",
              "      background-color: #3B4455;\n",
              "      fill: #D2E3FC;\n",
              "    }\n",
              "\n",
              "    [theme=dark] .colab-df-convert:hover {\n",
              "      background-color: #434B5C;\n",
              "      box-shadow: 0px 1px 3px 1px rgba(0, 0, 0, 0.15);\n",
              "      filter: drop-shadow(0px 1px 2px rgba(0, 0, 0, 0.3));\n",
              "      fill: #FFFFFF;\n",
              "    }\n",
              "  </style>\n",
              "\n",
              "    <script>\n",
              "      const buttonEl =\n",
              "        document.querySelector('#df-0cd4adf9-b18b-4657-9072-fc07b3888754 button.colab-df-convert');\n",
              "      buttonEl.style.display =\n",
              "        google.colab.kernel.accessAllowed ? 'block' : 'none';\n",
              "\n",
              "      async function convertToInteractive(key) {\n",
              "        const element = document.querySelector('#df-0cd4adf9-b18b-4657-9072-fc07b3888754');\n",
              "        const dataTable =\n",
              "          await google.colab.kernel.invokeFunction('convertToInteractive',\n",
              "                                                    [key], {});\n",
              "        if (!dataTable) return;\n",
              "\n",
              "        const docLinkHtml = 'Like what you see? Visit the ' +\n",
              "          '<a target=\"_blank\" href=https://colab.research.google.com/notebooks/data_table.ipynb>data table notebook</a>'\n",
              "          + ' to learn more about interactive tables.';\n",
              "        element.innerHTML = '';\n",
              "        dataTable['output_type'] = 'display_data';\n",
              "        await google.colab.output.renderOutput(dataTable, element);\n",
              "        const docLink = document.createElement('div');\n",
              "        docLink.innerHTML = docLinkHtml;\n",
              "        element.appendChild(docLink);\n",
              "      }\n",
              "    </script>\n",
              "  </div>\n",
              "\n",
              "\n",
              "<div id=\"df-13a53e11-b5c8-480a-aae2-a879856c5c53\">\n",
              "  <button class=\"colab-df-quickchart\" onclick=\"quickchart('df-13a53e11-b5c8-480a-aae2-a879856c5c53')\"\n",
              "            title=\"Suggest charts\"\n",
              "            style=\"display:none;\">\n",
              "\n",
              "<svg xmlns=\"http://www.w3.org/2000/svg\" height=\"24px\"viewBox=\"0 0 24 24\"\n",
              "     width=\"24px\">\n",
              "    <g>\n",
              "        <path d=\"M19 3H5c-1.1 0-2 .9-2 2v14c0 1.1.9 2 2 2h14c1.1 0 2-.9 2-2V5c0-1.1-.9-2-2-2zM9 17H7v-7h2v7zm4 0h-2V7h2v10zm4 0h-2v-4h2v4z\"/>\n",
              "    </g>\n",
              "</svg>\n",
              "  </button>\n",
              "\n",
              "<style>\n",
              "  .colab-df-quickchart {\n",
              "      --bg-color: #E8F0FE;\n",
              "      --fill-color: #1967D2;\n",
              "      --hover-bg-color: #E2EBFA;\n",
              "      --hover-fill-color: #174EA6;\n",
              "      --disabled-fill-color: #AAA;\n",
              "      --disabled-bg-color: #DDD;\n",
              "  }\n",
              "\n",
              "  [theme=dark] .colab-df-quickchart {\n",
              "      --bg-color: #3B4455;\n",
              "      --fill-color: #D2E3FC;\n",
              "      --hover-bg-color: #434B5C;\n",
              "      --hover-fill-color: #FFFFFF;\n",
              "      --disabled-bg-color: #3B4455;\n",
              "      --disabled-fill-color: #666;\n",
              "  }\n",
              "\n",
              "  .colab-df-quickchart {\n",
              "    background-color: var(--bg-color);\n",
              "    border: none;\n",
              "    border-radius: 50%;\n",
              "    cursor: pointer;\n",
              "    display: none;\n",
              "    fill: var(--fill-color);\n",
              "    height: 32px;\n",
              "    padding: 0;\n",
              "    width: 32px;\n",
              "  }\n",
              "\n",
              "  .colab-df-quickchart:hover {\n",
              "    background-color: var(--hover-bg-color);\n",
              "    box-shadow: 0 1px 2px rgba(60, 64, 67, 0.3), 0 1px 3px 1px rgba(60, 64, 67, 0.15);\n",
              "    fill: var(--button-hover-fill-color);\n",
              "  }\n",
              "\n",
              "  .colab-df-quickchart-complete:disabled,\n",
              "  .colab-df-quickchart-complete:disabled:hover {\n",
              "    background-color: var(--disabled-bg-color);\n",
              "    fill: var(--disabled-fill-color);\n",
              "    box-shadow: none;\n",
              "  }\n",
              "\n",
              "  .colab-df-spinner {\n",
              "    border: 2px solid var(--fill-color);\n",
              "    border-color: transparent;\n",
              "    border-bottom-color: var(--fill-color);\n",
              "    animation:\n",
              "      spin 1s steps(1) infinite;\n",
              "  }\n",
              "\n",
              "  @keyframes spin {\n",
              "    0% {\n",
              "      border-color: transparent;\n",
              "      border-bottom-color: var(--fill-color);\n",
              "      border-left-color: var(--fill-color);\n",
              "    }\n",
              "    20% {\n",
              "      border-color: transparent;\n",
              "      border-left-color: var(--fill-color);\n",
              "      border-top-color: var(--fill-color);\n",
              "    }\n",
              "    30% {\n",
              "      border-color: transparent;\n",
              "      border-left-color: var(--fill-color);\n",
              "      border-top-color: var(--fill-color);\n",
              "      border-right-color: var(--fill-color);\n",
              "    }\n",
              "    40% {\n",
              "      border-color: transparent;\n",
              "      border-right-color: var(--fill-color);\n",
              "      border-top-color: var(--fill-color);\n",
              "    }\n",
              "    60% {\n",
              "      border-color: transparent;\n",
              "      border-right-color: var(--fill-color);\n",
              "    }\n",
              "    80% {\n",
              "      border-color: transparent;\n",
              "      border-right-color: var(--fill-color);\n",
              "      border-bottom-color: var(--fill-color);\n",
              "    }\n",
              "    90% {\n",
              "      border-color: transparent;\n",
              "      border-bottom-color: var(--fill-color);\n",
              "    }\n",
              "  }\n",
              "</style>\n",
              "\n",
              "  <script>\n",
              "    async function quickchart(key) {\n",
              "      const quickchartButtonEl =\n",
              "        document.querySelector('#' + key + ' button');\n",
              "      quickchartButtonEl.disabled = true;  // To prevent multiple clicks.\n",
              "      quickchartButtonEl.classList.add('colab-df-spinner');\n",
              "      try {\n",
              "        const charts = await google.colab.kernel.invokeFunction(\n",
              "            'suggestCharts', [key], {});\n",
              "      } catch (error) {\n",
              "        console.error('Error during call to suggestCharts:', error);\n",
              "      }\n",
              "      quickchartButtonEl.classList.remove('colab-df-spinner');\n",
              "      quickchartButtonEl.classList.add('colab-df-quickchart-complete');\n",
              "    }\n",
              "    (() => {\n",
              "      let quickchartButtonEl =\n",
              "        document.querySelector('#df-13a53e11-b5c8-480a-aae2-a879856c5c53 button');\n",
              "      quickchartButtonEl.style.display =\n",
              "        google.colab.kernel.accessAllowed ? 'block' : 'none';\n",
              "    })();\n",
              "  </script>\n",
              "</div>\n",
              "\n",
              "  <div id=\"id_cc187e88-9770-4a43-84ca-884701e8d195\">\n",
              "    <style>\n",
              "      .colab-df-generate {\n",
              "        background-color: #E8F0FE;\n",
              "        border: none;\n",
              "        border-radius: 50%;\n",
              "        cursor: pointer;\n",
              "        display: none;\n",
              "        fill: #1967D2;\n",
              "        height: 32px;\n",
              "        padding: 0 0 0 0;\n",
              "        width: 32px;\n",
              "      }\n",
              "\n",
              "      .colab-df-generate:hover {\n",
              "        background-color: #E2EBFA;\n",
              "        box-shadow: 0px 1px 2px rgba(60, 64, 67, 0.3), 0px 1px 3px 1px rgba(60, 64, 67, 0.15);\n",
              "        fill: #174EA6;\n",
              "      }\n",
              "\n",
              "      [theme=dark] .colab-df-generate {\n",
              "        background-color: #3B4455;\n",
              "        fill: #D2E3FC;\n",
              "      }\n",
              "\n",
              "      [theme=dark] .colab-df-generate:hover {\n",
              "        background-color: #434B5C;\n",
              "        box-shadow: 0px 1px 3px 1px rgba(0, 0, 0, 0.15);\n",
              "        filter: drop-shadow(0px 1px 2px rgba(0, 0, 0, 0.3));\n",
              "        fill: #FFFFFF;\n",
              "      }\n",
              "    </style>\n",
              "    <button class=\"colab-df-generate\" onclick=\"generateWithVariable('metrics_date_df')\"\n",
              "            title=\"Generate code using this dataframe.\"\n",
              "            style=\"display:none;\">\n",
              "\n",
              "  <svg xmlns=\"http://www.w3.org/2000/svg\" height=\"24px\"viewBox=\"0 0 24 24\"\n",
              "       width=\"24px\">\n",
              "    <path d=\"M7,19H8.4L18.45,9,17,7.55,7,17.6ZM5,21V16.75L18.45,3.32a2,2,0,0,1,2.83,0l1.4,1.43a1.91,1.91,0,0,1,.58,1.4,1.91,1.91,0,0,1-.58,1.4L9.25,21ZM18.45,9,17,7.55Zm-12,3A5.31,5.31,0,0,0,4.9,8.1,5.31,5.31,0,0,0,1,6.5,5.31,5.31,0,0,0,4.9,4.9,5.31,5.31,0,0,0,6.5,1,5.31,5.31,0,0,0,8.1,4.9,5.31,5.31,0,0,0,12,6.5,5.46,5.46,0,0,0,6.5,12Z\"/>\n",
              "  </svg>\n",
              "    </button>\n",
              "    <script>\n",
              "      (() => {\n",
              "      const buttonEl =\n",
              "        document.querySelector('#id_cc187e88-9770-4a43-84ca-884701e8d195 button.colab-df-generate');\n",
              "      buttonEl.style.display =\n",
              "        google.colab.kernel.accessAllowed ? 'block' : 'none';\n",
              "\n",
              "      buttonEl.onclick = () => {\n",
              "        google.colab.notebook.generateWithVariable('metrics_date_df');\n",
              "      }\n",
              "      })();\n",
              "    </script>\n",
              "  </div>\n",
              "\n",
              "    </div>\n",
              "  </div>\n"
            ],
            "text/plain": [
              "         date         mse       rmse        mae      mape     variance  \\\n",
              "0  2024-02-03  231.741985  15.223074  10.647407  0.131973  1356.713257   \n",
              "1  2024-02-04   57.929291   7.611129   5.909008  0.134763   779.126648   \n",
              "2  2024-02-06  117.313487  10.831135   9.072352  0.094665   605.941650   \n",
              "3  2024-02-07   60.514849   7.779129   6.882490  0.075958   961.554016   \n",
              "4  2024-02-08   70.636094   8.404528   5.642706  0.055163  1076.687988   \n",
              "5  2024-02-09  137.449062  11.723867   9.518007  0.089990   938.805054   \n",
              "\n",
              "         r2        std  \n",
              "0  0.807337  36.833588  \n",
              "1  0.922676  27.912840  \n",
              "2  0.840464  24.615883  \n",
              "3  0.941041  31.008934  \n",
              "4  0.939110  32.812923  \n",
              "5  0.840657  30.639925  "
            ]
          },
          "execution_count": 42,
          "metadata": {},
          "output_type": "execute_result"
        }
      ],
      "source": [
        "metrics_date = {'date': [], 'mse': [], 'rmse': [], 'mae': [], 'mape': [], 'variance': [], 'r2': [], 'std': []}\n",
        "for name, group in res_df.groupby('date'):\n",
        "    y_pred = group['y_pred'].values\n",
        "    y = group['y'].values\n",
        "\n",
        "    mse = metrics.mean_squared_error(y, y_pred)\n",
        "    rmse = np.sqrt(mse)\n",
        "    mae = metrics.mean_absolute_error(y, y_pred)\n",
        "    mape = metrics.mean_absolute_percentage_error(y, y_pred)\n",
        "    variance = np.var(y_pred)\n",
        "    r2 = metrics.r2_score(y, y_pred)\n",
        "    std = np.std(y_pred)\n",
        "\n",
        "    metrics_date['date'].append(name)\n",
        "    metrics_date['mse'].append(mse)\n",
        "    metrics_date['rmse'].append(rmse)\n",
        "    metrics_date['mae'].append(mae)\n",
        "    metrics_date['mape'].append(mape)\n",
        "    metrics_date['variance'].append(variance)\n",
        "    metrics_date['r2'].append(r2)\n",
        "    metrics_date['std'].append(std)\n",
        "\n",
        "# Converting the dictionary to a DataFrame\n",
        "metrics_date_df = pd.DataFrame(metrics_date)\n",
        "metrics_date_df.to_csv('./lstm_prediction_by_date_with_trip.csv')\n",
        "metrics_date_df"
      ]
    },
    {
      "cell_type": "code",
      "execution_count": null,
      "metadata": {
        "colab": {
          "base_uri": "https://localhost:8080/",
          "height": 489
        },
        "id": "Aaz7DUsr-GyT",
        "outputId": "05336cbe-07e8-4b4e-ea83-0ff3a4871341"
      },
      "outputs": [
        {
          "data": {
            "application/vnd.google.colaboratory.intrinsic+json": {
              "summary": "{\n  \"name\": \"metrics_df\",\n  \"rows\": 14,\n  \"fields\": [\n    {\n      \"column\": \"vehicle\",\n      \"properties\": {\n        \"dtype\": \"string\",\n        \"num_unique_values\": 14,\n        \"samples\": [\n          \"E312\",\n          \"E314\",\n          \"E302\"\n        ],\n        \"semantic_type\": \"\",\n        \"description\": \"\"\n      }\n    },\n    {\n      \"column\": \"mse\",\n      \"properties\": {\n        \"dtype\": \"number\",\n        \"std\": 254.12014844193786,\n        \"min\": 30.93465946619889,\n        \"max\": 1028.078070156968,\n        \"num_unique_values\": 14,\n        \"samples\": [\n          36.1448724479331,\n          69.10342547823463,\n          87.6076809309383\n        ],\n        \"semantic_type\": \"\",\n        \"description\": \"\"\n      }\n    },\n    {\n      \"column\": \"rmse\",\n      \"properties\": {\n        \"dtype\": \"number\",\n        \"std\": 6.521205983266265,\n        \"min\": 5.561893514460601,\n        \"max\": 32.063656531296736,\n        \"num_unique_values\": 14,\n        \"samples\": [\n          6.0120605825235245,\n          8.312847014003964,\n          9.359897485065652\n        ],\n        \"semantic_type\": \"\",\n        \"description\": \"\"\n      }\n    },\n    {\n      \"column\": \"mae\",\n      \"properties\": {\n        \"dtype\": \"number\",\n        \"std\": 4.682806440083678,\n        \"min\": 4.690858035200109,\n        \"max\": 23.142877775323484,\n        \"num_unique_values\": 14,\n        \"samples\": [\n          4.690858035200109,\n          7.4460149808338825,\n          7.323351291482078\n        ],\n        \"semantic_type\": \"\",\n        \"description\": \"\"\n      }\n    },\n    {\n      \"column\": \"mape\",\n      \"properties\": {\n        \"dtype\": \"number\",\n        \"std\": 0.09903243220894903,\n        \"min\": 0.04228379218119794,\n        \"max\": 0.44333084175404835,\n        \"num_unique_values\": 14,\n        \"samples\": [\n          0.07164640479841966,\n          0.10270488907442642,\n          0.11752964198434199\n        ],\n        \"semantic_type\": \"\",\n        \"description\": \"\"\n      }\n    },\n    {\n      \"column\": \"variance\",\n      \"properties\": {\n        \"dtype\": \"float32\",\n        \"num_unique_values\": 14,\n        \"samples\": [\n          1089.851318359375,\n          923.4248046875,\n          1888.808837890625\n        ],\n        \"semantic_type\": \"\",\n        \"description\": \"\"\n      }\n    },\n    {\n      \"column\": \"r2\",\n      \"properties\": {\n        \"dtype\": \"number\",\n        \"std\": 0.39384073857878943,\n        \"min\": -0.5197459784074943,\n        \"max\": 0.9793261951837561,\n        \"num_unique_values\": 14,\n        \"samples\": [\n          0.961500563883719,\n          0.9323849869270701,\n          0.9521817842096766\n        ],\n        \"semantic_type\": \"\",\n        \"description\": \"\"\n      }\n    },\n    {\n      \"column\": \"std\",\n      \"properties\": {\n        \"dtype\": \"float32\",\n        \"num_unique_values\": 14,\n        \"samples\": [\n          33.01289749145508,\n          30.38790512084961,\n          43.46043014526367\n        ],\n        \"semantic_type\": \"\",\n        \"description\": \"\"\n      }\n    }\n  ]\n}",
              "type": "dataframe",
              "variable_name": "metrics_df"
            },
            "text/html": [
              "\n",
              "  <div id=\"df-0533ff33-21a0-4d80-905e-1ab017c96d97\" class=\"colab-df-container\">\n",
              "    <div>\n",
              "<style scoped>\n",
              "    .dataframe tbody tr th:only-of-type {\n",
              "        vertical-align: middle;\n",
              "    }\n",
              "\n",
              "    .dataframe tbody tr th {\n",
              "        vertical-align: top;\n",
              "    }\n",
              "\n",
              "    .dataframe thead th {\n",
              "        text-align: right;\n",
              "    }\n",
              "</style>\n",
              "<table border=\"1\" class=\"dataframe\">\n",
              "  <thead>\n",
              "    <tr style=\"text-align: right;\">\n",
              "      <th></th>\n",
              "      <th>vehicle</th>\n",
              "      <th>mse</th>\n",
              "      <th>rmse</th>\n",
              "      <th>mae</th>\n",
              "      <th>mape</th>\n",
              "      <th>variance</th>\n",
              "      <th>r2</th>\n",
              "      <th>std</th>\n",
              "    </tr>\n",
              "  </thead>\n",
              "  <tbody>\n",
              "    <tr>\n",
              "      <th>0</th>\n",
              "      <td>E302</td>\n",
              "      <td>87.607681</td>\n",
              "      <td>9.359897</td>\n",
              "      <td>7.323351</td>\n",
              "      <td>0.117530</td>\n",
              "      <td>1888.808838</td>\n",
              "      <td>0.952182</td>\n",
              "      <td>43.460430</td>\n",
              "    </tr>\n",
              "    <tr>\n",
              "      <th>1</th>\n",
              "      <td>E304</td>\n",
              "      <td>44.770366</td>\n",
              "      <td>6.691066</td>\n",
              "      <td>5.044176</td>\n",
              "      <td>0.042284</td>\n",
              "      <td>360.792145</td>\n",
              "      <td>0.886239</td>\n",
              "      <td>18.994530</td>\n",
              "    </tr>\n",
              "    <tr>\n",
              "      <th>2</th>\n",
              "      <td>E305</td>\n",
              "      <td>1028.078070</td>\n",
              "      <td>32.063657</td>\n",
              "      <td>23.142878</td>\n",
              "      <td>0.443331</td>\n",
              "      <td>3973.840576</td>\n",
              "      <td>0.354082</td>\n",
              "      <td>63.038406</td>\n",
              "    </tr>\n",
              "    <tr>\n",
              "      <th>3</th>\n",
              "      <td>E306</td>\n",
              "      <td>118.244224</td>\n",
              "      <td>10.874016</td>\n",
              "      <td>6.408887</td>\n",
              "      <td>0.053874</td>\n",
              "      <td>255.420074</td>\n",
              "      <td>-0.519746</td>\n",
              "      <td>15.981867</td>\n",
              "    </tr>\n",
              "    <tr>\n",
              "      <th>4</th>\n",
              "      <td>E307</td>\n",
              "      <td>146.953860</td>\n",
              "      <td>12.122453</td>\n",
              "      <td>9.967712</td>\n",
              "      <td>0.079857</td>\n",
              "      <td>664.041931</td>\n",
              "      <td>0.861001</td>\n",
              "      <td>25.769011</td>\n",
              "    </tr>\n",
              "    <tr>\n",
              "      <th>5</th>\n",
              "      <td>E308</td>\n",
              "      <td>180.189883</td>\n",
              "      <td>13.423483</td>\n",
              "      <td>12.806290</td>\n",
              "      <td>0.112108</td>\n",
              "      <td>743.028259</td>\n",
              "      <td>0.763783</td>\n",
              "      <td>27.258545</td>\n",
              "    </tr>\n",
              "    <tr>\n",
              "      <th>6</th>\n",
              "      <td>E309</td>\n",
              "      <td>68.143693</td>\n",
              "      <td>8.254919</td>\n",
              "      <td>7.762956</td>\n",
              "      <td>0.071305</td>\n",
              "      <td>424.898346</td>\n",
              "      <td>0.806517</td>\n",
              "      <td>20.613062</td>\n",
              "    </tr>\n",
              "    <tr>\n",
              "      <th>7</th>\n",
              "      <td>E310</td>\n",
              "      <td>30.934659</td>\n",
              "      <td>5.561894</td>\n",
              "      <td>4.736547</td>\n",
              "      <td>0.098644</td>\n",
              "      <td>1514.777954</td>\n",
              "      <td>0.979326</td>\n",
              "      <td>38.920147</td>\n",
              "    </tr>\n",
              "    <tr>\n",
              "      <th>8</th>\n",
              "      <td>E311</td>\n",
              "      <td>99.182225</td>\n",
              "      <td>9.959027</td>\n",
              "      <td>8.132845</td>\n",
              "      <td>0.084212</td>\n",
              "      <td>549.639404</td>\n",
              "      <td>0.683362</td>\n",
              "      <td>23.444389</td>\n",
              "    </tr>\n",
              "    <tr>\n",
              "      <th>9</th>\n",
              "      <td>E312</td>\n",
              "      <td>36.144872</td>\n",
              "      <td>6.012061</td>\n",
              "      <td>4.690858</td>\n",
              "      <td>0.071646</td>\n",
              "      <td>1089.851318</td>\n",
              "      <td>0.961501</td>\n",
              "      <td>33.012897</td>\n",
              "    </tr>\n",
              "    <tr>\n",
              "      <th>10</th>\n",
              "      <td>E313</td>\n",
              "      <td>84.839110</td>\n",
              "      <td>9.210815</td>\n",
              "      <td>8.177090</td>\n",
              "      <td>0.073436</td>\n",
              "      <td>553.904175</td>\n",
              "      <td>0.865810</td>\n",
              "      <td>23.535170</td>\n",
              "    </tr>\n",
              "    <tr>\n",
              "      <th>11</th>\n",
              "      <td>E314</td>\n",
              "      <td>69.103425</td>\n",
              "      <td>8.312847</td>\n",
              "      <td>7.446015</td>\n",
              "      <td>0.102705</td>\n",
              "      <td>923.424805</td>\n",
              "      <td>0.932385</td>\n",
              "      <td>30.387905</td>\n",
              "    </tr>\n",
              "    <tr>\n",
              "      <th>12</th>\n",
              "      <td>E315</td>\n",
              "      <td>155.259485</td>\n",
              "      <td>12.460316</td>\n",
              "      <td>9.775980</td>\n",
              "      <td>0.137771</td>\n",
              "      <td>672.695984</td>\n",
              "      <td>0.687273</td>\n",
              "      <td>25.936384</td>\n",
              "    </tr>\n",
              "    <tr>\n",
              "      <th>13</th>\n",
              "      <td>E316</td>\n",
              "      <td>76.041117</td>\n",
              "      <td>8.720156</td>\n",
              "      <td>7.438353</td>\n",
              "      <td>0.067838</td>\n",
              "      <td>620.505066</td>\n",
              "      <td>0.921512</td>\n",
              "      <td>24.909939</td>\n",
              "    </tr>\n",
              "  </tbody>\n",
              "</table>\n",
              "</div>\n",
              "    <div class=\"colab-df-buttons\">\n",
              "\n",
              "  <div class=\"colab-df-container\">\n",
              "    <button class=\"colab-df-convert\" onclick=\"convertToInteractive('df-0533ff33-21a0-4d80-905e-1ab017c96d97')\"\n",
              "            title=\"Convert this dataframe to an interactive table.\"\n",
              "            style=\"display:none;\">\n",
              "\n",
              "  <svg xmlns=\"http://www.w3.org/2000/svg\" height=\"24px\" viewBox=\"0 -960 960 960\">\n",
              "    <path d=\"M120-120v-720h720v720H120Zm60-500h600v-160H180v160Zm220 220h160v-160H400v160Zm0 220h160v-160H400v160ZM180-400h160v-160H180v160Zm440 0h160v-160H620v160ZM180-180h160v-160H180v160Zm440 0h160v-160H620v160Z\"/>\n",
              "  </svg>\n",
              "    </button>\n",
              "\n",
              "  <style>\n",
              "    .colab-df-container {\n",
              "      display:flex;\n",
              "      gap: 12px;\n",
              "    }\n",
              "\n",
              "    .colab-df-convert {\n",
              "      background-color: #E8F0FE;\n",
              "      border: none;\n",
              "      border-radius: 50%;\n",
              "      cursor: pointer;\n",
              "      display: none;\n",
              "      fill: #1967D2;\n",
              "      height: 32px;\n",
              "      padding: 0 0 0 0;\n",
              "      width: 32px;\n",
              "    }\n",
              "\n",
              "    .colab-df-convert:hover {\n",
              "      background-color: #E2EBFA;\n",
              "      box-shadow: 0px 1px 2px rgba(60, 64, 67, 0.3), 0px 1px 3px 1px rgba(60, 64, 67, 0.15);\n",
              "      fill: #174EA6;\n",
              "    }\n",
              "\n",
              "    .colab-df-buttons div {\n",
              "      margin-bottom: 4px;\n",
              "    }\n",
              "\n",
              "    [theme=dark] .colab-df-convert {\n",
              "      background-color: #3B4455;\n",
              "      fill: #D2E3FC;\n",
              "    }\n",
              "\n",
              "    [theme=dark] .colab-df-convert:hover {\n",
              "      background-color: #434B5C;\n",
              "      box-shadow: 0px 1px 3px 1px rgba(0, 0, 0, 0.15);\n",
              "      filter: drop-shadow(0px 1px 2px rgba(0, 0, 0, 0.3));\n",
              "      fill: #FFFFFF;\n",
              "    }\n",
              "  </style>\n",
              "\n",
              "    <script>\n",
              "      const buttonEl =\n",
              "        document.querySelector('#df-0533ff33-21a0-4d80-905e-1ab017c96d97 button.colab-df-convert');\n",
              "      buttonEl.style.display =\n",
              "        google.colab.kernel.accessAllowed ? 'block' : 'none';\n",
              "\n",
              "      async function convertToInteractive(key) {\n",
              "        const element = document.querySelector('#df-0533ff33-21a0-4d80-905e-1ab017c96d97');\n",
              "        const dataTable =\n",
              "          await google.colab.kernel.invokeFunction('convertToInteractive',\n",
              "                                                    [key], {});\n",
              "        if (!dataTable) return;\n",
              "\n",
              "        const docLinkHtml = 'Like what you see? Visit the ' +\n",
              "          '<a target=\"_blank\" href=https://colab.research.google.com/notebooks/data_table.ipynb>data table notebook</a>'\n",
              "          + ' to learn more about interactive tables.';\n",
              "        element.innerHTML = '';\n",
              "        dataTable['output_type'] = 'display_data';\n",
              "        await google.colab.output.renderOutput(dataTable, element);\n",
              "        const docLink = document.createElement('div');\n",
              "        docLink.innerHTML = docLinkHtml;\n",
              "        element.appendChild(docLink);\n",
              "      }\n",
              "    </script>\n",
              "  </div>\n",
              "\n",
              "\n",
              "<div id=\"df-a2fd9427-ec61-4db0-8ed3-ee02b8772b76\">\n",
              "  <button class=\"colab-df-quickchart\" onclick=\"quickchart('df-a2fd9427-ec61-4db0-8ed3-ee02b8772b76')\"\n",
              "            title=\"Suggest charts\"\n",
              "            style=\"display:none;\">\n",
              "\n",
              "<svg xmlns=\"http://www.w3.org/2000/svg\" height=\"24px\"viewBox=\"0 0 24 24\"\n",
              "     width=\"24px\">\n",
              "    <g>\n",
              "        <path d=\"M19 3H5c-1.1 0-2 .9-2 2v14c0 1.1.9 2 2 2h14c1.1 0 2-.9 2-2V5c0-1.1-.9-2-2-2zM9 17H7v-7h2v7zm4 0h-2V7h2v10zm4 0h-2v-4h2v4z\"/>\n",
              "    </g>\n",
              "</svg>\n",
              "  </button>\n",
              "\n",
              "<style>\n",
              "  .colab-df-quickchart {\n",
              "      --bg-color: #E8F0FE;\n",
              "      --fill-color: #1967D2;\n",
              "      --hover-bg-color: #E2EBFA;\n",
              "      --hover-fill-color: #174EA6;\n",
              "      --disabled-fill-color: #AAA;\n",
              "      --disabled-bg-color: #DDD;\n",
              "  }\n",
              "\n",
              "  [theme=dark] .colab-df-quickchart {\n",
              "      --bg-color: #3B4455;\n",
              "      --fill-color: #D2E3FC;\n",
              "      --hover-bg-color: #434B5C;\n",
              "      --hover-fill-color: #FFFFFF;\n",
              "      --disabled-bg-color: #3B4455;\n",
              "      --disabled-fill-color: #666;\n",
              "  }\n",
              "\n",
              "  .colab-df-quickchart {\n",
              "    background-color: var(--bg-color);\n",
              "    border: none;\n",
              "    border-radius: 50%;\n",
              "    cursor: pointer;\n",
              "    display: none;\n",
              "    fill: var(--fill-color);\n",
              "    height: 32px;\n",
              "    padding: 0;\n",
              "    width: 32px;\n",
              "  }\n",
              "\n",
              "  .colab-df-quickchart:hover {\n",
              "    background-color: var(--hover-bg-color);\n",
              "    box-shadow: 0 1px 2px rgba(60, 64, 67, 0.3), 0 1px 3px 1px rgba(60, 64, 67, 0.15);\n",
              "    fill: var(--button-hover-fill-color);\n",
              "  }\n",
              "\n",
              "  .colab-df-quickchart-complete:disabled,\n",
              "  .colab-df-quickchart-complete:disabled:hover {\n",
              "    background-color: var(--disabled-bg-color);\n",
              "    fill: var(--disabled-fill-color);\n",
              "    box-shadow: none;\n",
              "  }\n",
              "\n",
              "  .colab-df-spinner {\n",
              "    border: 2px solid var(--fill-color);\n",
              "    border-color: transparent;\n",
              "    border-bottom-color: var(--fill-color);\n",
              "    animation:\n",
              "      spin 1s steps(1) infinite;\n",
              "  }\n",
              "\n",
              "  @keyframes spin {\n",
              "    0% {\n",
              "      border-color: transparent;\n",
              "      border-bottom-color: var(--fill-color);\n",
              "      border-left-color: var(--fill-color);\n",
              "    }\n",
              "    20% {\n",
              "      border-color: transparent;\n",
              "      border-left-color: var(--fill-color);\n",
              "      border-top-color: var(--fill-color);\n",
              "    }\n",
              "    30% {\n",
              "      border-color: transparent;\n",
              "      border-left-color: var(--fill-color);\n",
              "      border-top-color: var(--fill-color);\n",
              "      border-right-color: var(--fill-color);\n",
              "    }\n",
              "    40% {\n",
              "      border-color: transparent;\n",
              "      border-right-color: var(--fill-color);\n",
              "      border-top-color: var(--fill-color);\n",
              "    }\n",
              "    60% {\n",
              "      border-color: transparent;\n",
              "      border-right-color: var(--fill-color);\n",
              "    }\n",
              "    80% {\n",
              "      border-color: transparent;\n",
              "      border-right-color: var(--fill-color);\n",
              "      border-bottom-color: var(--fill-color);\n",
              "    }\n",
              "    90% {\n",
              "      border-color: transparent;\n",
              "      border-bottom-color: var(--fill-color);\n",
              "    }\n",
              "  }\n",
              "</style>\n",
              "\n",
              "  <script>\n",
              "    async function quickchart(key) {\n",
              "      const quickchartButtonEl =\n",
              "        document.querySelector('#' + key + ' button');\n",
              "      quickchartButtonEl.disabled = true;  // To prevent multiple clicks.\n",
              "      quickchartButtonEl.classList.add('colab-df-spinner');\n",
              "      try {\n",
              "        const charts = await google.colab.kernel.invokeFunction(\n",
              "            'suggestCharts', [key], {});\n",
              "      } catch (error) {\n",
              "        console.error('Error during call to suggestCharts:', error);\n",
              "      }\n",
              "      quickchartButtonEl.classList.remove('colab-df-spinner');\n",
              "      quickchartButtonEl.classList.add('colab-df-quickchart-complete');\n",
              "    }\n",
              "    (() => {\n",
              "      let quickchartButtonEl =\n",
              "        document.querySelector('#df-a2fd9427-ec61-4db0-8ed3-ee02b8772b76 button');\n",
              "      quickchartButtonEl.style.display =\n",
              "        google.colab.kernel.accessAllowed ? 'block' : 'none';\n",
              "    })();\n",
              "  </script>\n",
              "</div>\n",
              "\n",
              "  <div id=\"id_93cc3219-a81c-4434-aa0e-8107738dee53\">\n",
              "    <style>\n",
              "      .colab-df-generate {\n",
              "        background-color: #E8F0FE;\n",
              "        border: none;\n",
              "        border-radius: 50%;\n",
              "        cursor: pointer;\n",
              "        display: none;\n",
              "        fill: #1967D2;\n",
              "        height: 32px;\n",
              "        padding: 0 0 0 0;\n",
              "        width: 32px;\n",
              "      }\n",
              "\n",
              "      .colab-df-generate:hover {\n",
              "        background-color: #E2EBFA;\n",
              "        box-shadow: 0px 1px 2px rgba(60, 64, 67, 0.3), 0px 1px 3px 1px rgba(60, 64, 67, 0.15);\n",
              "        fill: #174EA6;\n",
              "      }\n",
              "\n",
              "      [theme=dark] .colab-df-generate {\n",
              "        background-color: #3B4455;\n",
              "        fill: #D2E3FC;\n",
              "      }\n",
              "\n",
              "      [theme=dark] .colab-df-generate:hover {\n",
              "        background-color: #434B5C;\n",
              "        box-shadow: 0px 1px 3px 1px rgba(0, 0, 0, 0.15);\n",
              "        filter: drop-shadow(0px 1px 2px rgba(0, 0, 0, 0.3));\n",
              "        fill: #FFFFFF;\n",
              "      }\n",
              "    </style>\n",
              "    <button class=\"colab-df-generate\" onclick=\"generateWithVariable('metrics_df')\"\n",
              "            title=\"Generate code using this dataframe.\"\n",
              "            style=\"display:none;\">\n",
              "\n",
              "  <svg xmlns=\"http://www.w3.org/2000/svg\" height=\"24px\"viewBox=\"0 0 24 24\"\n",
              "       width=\"24px\">\n",
              "    <path d=\"M7,19H8.4L18.45,9,17,7.55,7,17.6ZM5,21V16.75L18.45,3.32a2,2,0,0,1,2.83,0l1.4,1.43a1.91,1.91,0,0,1,.58,1.4,1.91,1.91,0,0,1-.58,1.4L9.25,21ZM18.45,9,17,7.55Zm-12,3A5.31,5.31,0,0,0,4.9,8.1,5.31,5.31,0,0,0,1,6.5,5.31,5.31,0,0,0,4.9,4.9,5.31,5.31,0,0,0,6.5,1,5.31,5.31,0,0,0,8.1,4.9,5.31,5.31,0,0,0,12,6.5,5.46,5.46,0,0,0,6.5,12Z\"/>\n",
              "  </svg>\n",
              "    </button>\n",
              "    <script>\n",
              "      (() => {\n",
              "      const buttonEl =\n",
              "        document.querySelector('#id_93cc3219-a81c-4434-aa0e-8107738dee53 button.colab-df-generate');\n",
              "      buttonEl.style.display =\n",
              "        google.colab.kernel.accessAllowed ? 'block' : 'none';\n",
              "\n",
              "      buttonEl.onclick = () => {\n",
              "        google.colab.notebook.generateWithVariable('metrics_df');\n",
              "      }\n",
              "      })();\n",
              "    </script>\n",
              "  </div>\n",
              "\n",
              "    </div>\n",
              "  </div>\n"
            ],
            "text/plain": [
              "   vehicle          mse       rmse        mae      mape     variance  \\\n",
              "0     E302    87.607681   9.359897   7.323351  0.117530  1888.808838   \n",
              "1     E304    44.770366   6.691066   5.044176  0.042284   360.792145   \n",
              "2     E305  1028.078070  32.063657  23.142878  0.443331  3973.840576   \n",
              "3     E306   118.244224  10.874016   6.408887  0.053874   255.420074   \n",
              "4     E307   146.953860  12.122453   9.967712  0.079857   664.041931   \n",
              "5     E308   180.189883  13.423483  12.806290  0.112108   743.028259   \n",
              "6     E309    68.143693   8.254919   7.762956  0.071305   424.898346   \n",
              "7     E310    30.934659   5.561894   4.736547  0.098644  1514.777954   \n",
              "8     E311    99.182225   9.959027   8.132845  0.084212   549.639404   \n",
              "9     E312    36.144872   6.012061   4.690858  0.071646  1089.851318   \n",
              "10    E313    84.839110   9.210815   8.177090  0.073436   553.904175   \n",
              "11    E314    69.103425   8.312847   7.446015  0.102705   923.424805   \n",
              "12    E315   155.259485  12.460316   9.775980  0.137771   672.695984   \n",
              "13    E316    76.041117   8.720156   7.438353  0.067838   620.505066   \n",
              "\n",
              "          r2        std  \n",
              "0   0.952182  43.460430  \n",
              "1   0.886239  18.994530  \n",
              "2   0.354082  63.038406  \n",
              "3  -0.519746  15.981867  \n",
              "4   0.861001  25.769011  \n",
              "5   0.763783  27.258545  \n",
              "6   0.806517  20.613062  \n",
              "7   0.979326  38.920147  \n",
              "8   0.683362  23.444389  \n",
              "9   0.961501  33.012897  \n",
              "10  0.865810  23.535170  \n",
              "11  0.932385  30.387905  \n",
              "12  0.687273  25.936384  \n",
              "13  0.921512  24.909939  "
            ]
          },
          "execution_count": 43,
          "metadata": {},
          "output_type": "execute_result"
        }
      ],
      "source": [
        "metrics_date = {'vehicle': [], 'mse': [], 'rmse': [], 'mae': [], 'mape': [], 'variance': [], 'r2': [], 'std': []}\n",
        "for name, group in res_df.groupby('vehicle'):\n",
        "    y_pred = group['y_pred'].values\n",
        "    y = group['y'].values\n",
        "\n",
        "    mse = metrics.mean_squared_error(y, y_pred)\n",
        "    rmse = np.sqrt(mse)\n",
        "    mae = metrics.mean_absolute_error(y, y_pred)\n",
        "    mape = metrics.mean_absolute_percentage_error(y, y_pred)\n",
        "    variance = np.var(y_pred)\n",
        "    r2 = metrics.r2_score(y, y_pred)\n",
        "    std = np.std(y_pred)\n",
        "\n",
        "    metrics_date['vehicle'].append(name)\n",
        "    metrics_date['mse'].append(mse)\n",
        "    metrics_date['rmse'].append(rmse)\n",
        "    metrics_date['mae'].append(mae)\n",
        "    metrics_date['mape'].append(mape)\n",
        "    metrics_date['variance'].append(variance)\n",
        "    metrics_date['r2'].append(r2)\n",
        "    metrics_date['std'].append(std)\n",
        "\n",
        "# Converting the dictionary to a DataFrame\n",
        "metrics_df = pd.DataFrame(metrics_date)\n",
        "metrics_df.to_csv('./lstm_metrics_split_vehicle_with_trip.csv')\n",
        "metrics_df"
      ]
    },
    {
      "cell_type": "code",
      "execution_count": null,
      "metadata": {
        "id": "wxpJJvSHh_kK"
      },
      "outputs": [],
      "source": []
    }
  ],
  "metadata": {
    "accelerator": "GPU",
    "colab": {
      "collapsed_sections": [
        "jLy-LVM70sgU",
        "5fgPAkPL0_-I",
        "rV9MbbR1CUjY",
        "8tmqLLXEyNYU",
        "GUvfe-CHcS2U"
      ],
      "gpuType": "T4",
      "machine_shape": "hm",
      "provenance": []
    },
    "kernelspec": {
      "display_name": "Python 3",
      "name": "python3"
    },
    "language_info": {
      "name": "python"
    },
    "widgets": {
      "application/vnd.jupyter.widget-state+json": {
        "a8503ee988604106b6adba2ad24f8b84": {
          "model_module": "@jupyter-widgets/controls",
          "model_name": "VBoxModel",
          "model_module_version": "1.5.0",
          "state": {
            "_dom_classes": [],
            "_model_module": "@jupyter-widgets/controls",
            "_model_module_version": "1.5.0",
            "_model_name": "VBoxModel",
            "_view_count": null,
            "_view_module": "@jupyter-widgets/controls",
            "_view_module_version": "1.5.0",
            "_view_name": "VBoxView",
            "box_style": "",
            "children": [
              "IPY_MODEL_edcf560782e1402ea84e228ab541f6b5",
              "IPY_MODEL_6cd07f35829b4c2c80ddf5c8db554c64"
            ],
            "layout": "IPY_MODEL_d73ad1a38ff1422c8d77a8aecda1d05e"
          }
        },
        "edcf560782e1402ea84e228ab541f6b5": {
          "model_module": "@jupyter-widgets/controls",
          "model_name": "LabelModel",
          "model_module_version": "1.5.0",
          "state": {
            "_dom_classes": [],
            "_model_module": "@jupyter-widgets/controls",
            "_model_module_version": "1.5.0",
            "_model_name": "LabelModel",
            "_view_count": null,
            "_view_module": "@jupyter-widgets/controls",
            "_view_module_version": "1.5.0",
            "_view_name": "LabelView",
            "description": "",
            "description_tooltip": null,
            "layout": "IPY_MODEL_010ad869f6454046ac881f58899072e2",
            "placeholder": "​",
            "style": "IPY_MODEL_37d63e0d3a714f17b7cc575c9ec121ac",
            "value": "0.014 MB of 0.014 MB uploaded\r"
          }
        },
        "6cd07f35829b4c2c80ddf5c8db554c64": {
          "model_module": "@jupyter-widgets/controls",
          "model_name": "FloatProgressModel",
          "model_module_version": "1.5.0",
          "state": {
            "_dom_classes": [],
            "_model_module": "@jupyter-widgets/controls",
            "_model_module_version": "1.5.0",
            "_model_name": "FloatProgressModel",
            "_view_count": null,
            "_view_module": "@jupyter-widgets/controls",
            "_view_module_version": "1.5.0",
            "_view_name": "ProgressView",
            "bar_style": "",
            "description": "",
            "description_tooltip": null,
            "layout": "IPY_MODEL_649fb525e2024d31ad4ec6334cdceb3e",
            "max": 1,
            "min": 0,
            "orientation": "horizontal",
            "style": "IPY_MODEL_8e13083025be42e5be8c93de0465a3ae",
            "value": 1
          }
        },
        "d73ad1a38ff1422c8d77a8aecda1d05e": {
          "model_module": "@jupyter-widgets/base",
          "model_name": "LayoutModel",
          "model_module_version": "1.2.0",
          "state": {
            "_model_module": "@jupyter-widgets/base",
            "_model_module_version": "1.2.0",
            "_model_name": "LayoutModel",
            "_view_count": null,
            "_view_module": "@jupyter-widgets/base",
            "_view_module_version": "1.2.0",
            "_view_name": "LayoutView",
            "align_content": null,
            "align_items": null,
            "align_self": null,
            "border": null,
            "bottom": null,
            "display": null,
            "flex": null,
            "flex_flow": null,
            "grid_area": null,
            "grid_auto_columns": null,
            "grid_auto_flow": null,
            "grid_auto_rows": null,
            "grid_column": null,
            "grid_gap": null,
            "grid_row": null,
            "grid_template_areas": null,
            "grid_template_columns": null,
            "grid_template_rows": null,
            "height": null,
            "justify_content": null,
            "justify_items": null,
            "left": null,
            "margin": null,
            "max_height": null,
            "max_width": null,
            "min_height": null,
            "min_width": null,
            "object_fit": null,
            "object_position": null,
            "order": null,
            "overflow": null,
            "overflow_x": null,
            "overflow_y": null,
            "padding": null,
            "right": null,
            "top": null,
            "visibility": null,
            "width": null
          }
        },
        "010ad869f6454046ac881f58899072e2": {
          "model_module": "@jupyter-widgets/base",
          "model_name": "LayoutModel",
          "model_module_version": "1.2.0",
          "state": {
            "_model_module": "@jupyter-widgets/base",
            "_model_module_version": "1.2.0",
            "_model_name": "LayoutModel",
            "_view_count": null,
            "_view_module": "@jupyter-widgets/base",
            "_view_module_version": "1.2.0",
            "_view_name": "LayoutView",
            "align_content": null,
            "align_items": null,
            "align_self": null,
            "border": null,
            "bottom": null,
            "display": null,
            "flex": null,
            "flex_flow": null,
            "grid_area": null,
            "grid_auto_columns": null,
            "grid_auto_flow": null,
            "grid_auto_rows": null,
            "grid_column": null,
            "grid_gap": null,
            "grid_row": null,
            "grid_template_areas": null,
            "grid_template_columns": null,
            "grid_template_rows": null,
            "height": null,
            "justify_content": null,
            "justify_items": null,
            "left": null,
            "margin": null,
            "max_height": null,
            "max_width": null,
            "min_height": null,
            "min_width": null,
            "object_fit": null,
            "object_position": null,
            "order": null,
            "overflow": null,
            "overflow_x": null,
            "overflow_y": null,
            "padding": null,
            "right": null,
            "top": null,
            "visibility": null,
            "width": null
          }
        },
        "37d63e0d3a714f17b7cc575c9ec121ac": {
          "model_module": "@jupyter-widgets/controls",
          "model_name": "DescriptionStyleModel",
          "model_module_version": "1.5.0",
          "state": {
            "_model_module": "@jupyter-widgets/controls",
            "_model_module_version": "1.5.0",
            "_model_name": "DescriptionStyleModel",
            "_view_count": null,
            "_view_module": "@jupyter-widgets/base",
            "_view_module_version": "1.2.0",
            "_view_name": "StyleView",
            "description_width": ""
          }
        },
        "649fb525e2024d31ad4ec6334cdceb3e": {
          "model_module": "@jupyter-widgets/base",
          "model_name": "LayoutModel",
          "model_module_version": "1.2.0",
          "state": {
            "_model_module": "@jupyter-widgets/base",
            "_model_module_version": "1.2.0",
            "_model_name": "LayoutModel",
            "_view_count": null,
            "_view_module": "@jupyter-widgets/base",
            "_view_module_version": "1.2.0",
            "_view_name": "LayoutView",
            "align_content": null,
            "align_items": null,
            "align_self": null,
            "border": null,
            "bottom": null,
            "display": null,
            "flex": null,
            "flex_flow": null,
            "grid_area": null,
            "grid_auto_columns": null,
            "grid_auto_flow": null,
            "grid_auto_rows": null,
            "grid_column": null,
            "grid_gap": null,
            "grid_row": null,
            "grid_template_areas": null,
            "grid_template_columns": null,
            "grid_template_rows": null,
            "height": null,
            "justify_content": null,
            "justify_items": null,
            "left": null,
            "margin": null,
            "max_height": null,
            "max_width": null,
            "min_height": null,
            "min_width": null,
            "object_fit": null,
            "object_position": null,
            "order": null,
            "overflow": null,
            "overflow_x": null,
            "overflow_y": null,
            "padding": null,
            "right": null,
            "top": null,
            "visibility": null,
            "width": null
          }
        },
        "8e13083025be42e5be8c93de0465a3ae": {
          "model_module": "@jupyter-widgets/controls",
          "model_name": "ProgressStyleModel",
          "model_module_version": "1.5.0",
          "state": {
            "_model_module": "@jupyter-widgets/controls",
            "_model_module_version": "1.5.0",
            "_model_name": "ProgressStyleModel",
            "_view_count": null,
            "_view_module": "@jupyter-widgets/base",
            "_view_module_version": "1.2.0",
            "_view_name": "StyleView",
            "bar_color": null,
            "description_width": ""
          }
        },
        "8d9a814cfe3845fcb03518442281dd8c": {
          "model_module": "@jupyter-widgets/controls",
          "model_name": "VBoxModel",
          "model_module_version": "1.5.0",
          "state": {
            "_dom_classes": [],
            "_model_module": "@jupyter-widgets/controls",
            "_model_module_version": "1.5.0",
            "_model_name": "VBoxModel",
            "_view_count": null,
            "_view_module": "@jupyter-widgets/controls",
            "_view_module_version": "1.5.0",
            "_view_name": "VBoxView",
            "box_style": "",
            "children": [
              "IPY_MODEL_68f507aa23ec43efaf80639b7488c40e",
              "IPY_MODEL_4f5d6e0a95034e97bb721b5f0a3d05e4"
            ],
            "layout": "IPY_MODEL_6af62fc53ec84d71ac815496509cd111"
          }
        },
        "68f507aa23ec43efaf80639b7488c40e": {
          "model_module": "@jupyter-widgets/controls",
          "model_name": "LabelModel",
          "model_module_version": "1.5.0",
          "state": {
            "_dom_classes": [],
            "_model_module": "@jupyter-widgets/controls",
            "_model_module_version": "1.5.0",
            "_model_name": "LabelModel",
            "_view_count": null,
            "_view_module": "@jupyter-widgets/controls",
            "_view_module_version": "1.5.0",
            "_view_name": "LabelView",
            "description": "",
            "description_tooltip": null,
            "layout": "IPY_MODEL_016e8f99fa2942648121306932c5a048",
            "placeholder": "​",
            "style": "IPY_MODEL_404778f8be8e4f17bfb190c03ea8482e",
            "value": "0.014 MB of 0.014 MB uploaded\r"
          }
        },
        "4f5d6e0a95034e97bb721b5f0a3d05e4": {
          "model_module": "@jupyter-widgets/controls",
          "model_name": "FloatProgressModel",
          "model_module_version": "1.5.0",
          "state": {
            "_dom_classes": [],
            "_model_module": "@jupyter-widgets/controls",
            "_model_module_version": "1.5.0",
            "_model_name": "FloatProgressModel",
            "_view_count": null,
            "_view_module": "@jupyter-widgets/controls",
            "_view_module_version": "1.5.0",
            "_view_name": "ProgressView",
            "bar_style": "",
            "description": "",
            "description_tooltip": null,
            "layout": "IPY_MODEL_bec7379cb46f41269b708169b870be6c",
            "max": 1,
            "min": 0,
            "orientation": "horizontal",
            "style": "IPY_MODEL_a9722a339bc747fc9f6631f037494668",
            "value": 1
          }
        },
        "6af62fc53ec84d71ac815496509cd111": {
          "model_module": "@jupyter-widgets/base",
          "model_name": "LayoutModel",
          "model_module_version": "1.2.0",
          "state": {
            "_model_module": "@jupyter-widgets/base",
            "_model_module_version": "1.2.0",
            "_model_name": "LayoutModel",
            "_view_count": null,
            "_view_module": "@jupyter-widgets/base",
            "_view_module_version": "1.2.0",
            "_view_name": "LayoutView",
            "align_content": null,
            "align_items": null,
            "align_self": null,
            "border": null,
            "bottom": null,
            "display": null,
            "flex": null,
            "flex_flow": null,
            "grid_area": null,
            "grid_auto_columns": null,
            "grid_auto_flow": null,
            "grid_auto_rows": null,
            "grid_column": null,
            "grid_gap": null,
            "grid_row": null,
            "grid_template_areas": null,
            "grid_template_columns": null,
            "grid_template_rows": null,
            "height": null,
            "justify_content": null,
            "justify_items": null,
            "left": null,
            "margin": null,
            "max_height": null,
            "max_width": null,
            "min_height": null,
            "min_width": null,
            "object_fit": null,
            "object_position": null,
            "order": null,
            "overflow": null,
            "overflow_x": null,
            "overflow_y": null,
            "padding": null,
            "right": null,
            "top": null,
            "visibility": null,
            "width": null
          }
        },
        "016e8f99fa2942648121306932c5a048": {
          "model_module": "@jupyter-widgets/base",
          "model_name": "LayoutModel",
          "model_module_version": "1.2.0",
          "state": {
            "_model_module": "@jupyter-widgets/base",
            "_model_module_version": "1.2.0",
            "_model_name": "LayoutModel",
            "_view_count": null,
            "_view_module": "@jupyter-widgets/base",
            "_view_module_version": "1.2.0",
            "_view_name": "LayoutView",
            "align_content": null,
            "align_items": null,
            "align_self": null,
            "border": null,
            "bottom": null,
            "display": null,
            "flex": null,
            "flex_flow": null,
            "grid_area": null,
            "grid_auto_columns": null,
            "grid_auto_flow": null,
            "grid_auto_rows": null,
            "grid_column": null,
            "grid_gap": null,
            "grid_row": null,
            "grid_template_areas": null,
            "grid_template_columns": null,
            "grid_template_rows": null,
            "height": null,
            "justify_content": null,
            "justify_items": null,
            "left": null,
            "margin": null,
            "max_height": null,
            "max_width": null,
            "min_height": null,
            "min_width": null,
            "object_fit": null,
            "object_position": null,
            "order": null,
            "overflow": null,
            "overflow_x": null,
            "overflow_y": null,
            "padding": null,
            "right": null,
            "top": null,
            "visibility": null,
            "width": null
          }
        },
        "404778f8be8e4f17bfb190c03ea8482e": {
          "model_module": "@jupyter-widgets/controls",
          "model_name": "DescriptionStyleModel",
          "model_module_version": "1.5.0",
          "state": {
            "_model_module": "@jupyter-widgets/controls",
            "_model_module_version": "1.5.0",
            "_model_name": "DescriptionStyleModel",
            "_view_count": null,
            "_view_module": "@jupyter-widgets/base",
            "_view_module_version": "1.2.0",
            "_view_name": "StyleView",
            "description_width": ""
          }
        },
        "bec7379cb46f41269b708169b870be6c": {
          "model_module": "@jupyter-widgets/base",
          "model_name": "LayoutModel",
          "model_module_version": "1.2.0",
          "state": {
            "_model_module": "@jupyter-widgets/base",
            "_model_module_version": "1.2.0",
            "_model_name": "LayoutModel",
            "_view_count": null,
            "_view_module": "@jupyter-widgets/base",
            "_view_module_version": "1.2.0",
            "_view_name": "LayoutView",
            "align_content": null,
            "align_items": null,
            "align_self": null,
            "border": null,
            "bottom": null,
            "display": null,
            "flex": null,
            "flex_flow": null,
            "grid_area": null,
            "grid_auto_columns": null,
            "grid_auto_flow": null,
            "grid_auto_rows": null,
            "grid_column": null,
            "grid_gap": null,
            "grid_row": null,
            "grid_template_areas": null,
            "grid_template_columns": null,
            "grid_template_rows": null,
            "height": null,
            "justify_content": null,
            "justify_items": null,
            "left": null,
            "margin": null,
            "max_height": null,
            "max_width": null,
            "min_height": null,
            "min_width": null,
            "object_fit": null,
            "object_position": null,
            "order": null,
            "overflow": null,
            "overflow_x": null,
            "overflow_y": null,
            "padding": null,
            "right": null,
            "top": null,
            "visibility": null,
            "width": null
          }
        },
        "a9722a339bc747fc9f6631f037494668": {
          "model_module": "@jupyter-widgets/controls",
          "model_name": "ProgressStyleModel",
          "model_module_version": "1.5.0",
          "state": {
            "_model_module": "@jupyter-widgets/controls",
            "_model_module_version": "1.5.0",
            "_model_name": "ProgressStyleModel",
            "_view_count": null,
            "_view_module": "@jupyter-widgets/base",
            "_view_module_version": "1.2.0",
            "_view_name": "StyleView",
            "bar_color": null,
            "description_width": ""
          }
        },
        "1a8f670c31f7405ba6009f88835a8a75": {
          "model_module": "@jupyter-widgets/controls",
          "model_name": "VBoxModel",
          "model_module_version": "1.5.0",
          "state": {
            "_dom_classes": [],
            "_model_module": "@jupyter-widgets/controls",
            "_model_module_version": "1.5.0",
            "_model_name": "VBoxModel",
            "_view_count": null,
            "_view_module": "@jupyter-widgets/controls",
            "_view_module_version": "1.5.0",
            "_view_name": "VBoxView",
            "box_style": "",
            "children": [
              "IPY_MODEL_9ac2c302026d4a508f060412607ea0ac",
              "IPY_MODEL_48e238a4461740ef81924f37d50e6491"
            ],
            "layout": "IPY_MODEL_683ce16ab3e64d788f58ebf3c04b9179"
          }
        },
        "9ac2c302026d4a508f060412607ea0ac": {
          "model_module": "@jupyter-widgets/controls",
          "model_name": "LabelModel",
          "model_module_version": "1.5.0",
          "state": {
            "_dom_classes": [],
            "_model_module": "@jupyter-widgets/controls",
            "_model_module_version": "1.5.0",
            "_model_name": "LabelModel",
            "_view_count": null,
            "_view_module": "@jupyter-widgets/controls",
            "_view_module_version": "1.5.0",
            "_view_name": "LabelView",
            "description": "",
            "description_tooltip": null,
            "layout": "IPY_MODEL_6633b84034724b2bada9ed643b3e9900",
            "placeholder": "​",
            "style": "IPY_MODEL_38014c16114a4329853c1533d35a119b",
            "value": "0.014 MB of 0.014 MB uploaded\r"
          }
        },
        "48e238a4461740ef81924f37d50e6491": {
          "model_module": "@jupyter-widgets/controls",
          "model_name": "FloatProgressModel",
          "model_module_version": "1.5.0",
          "state": {
            "_dom_classes": [],
            "_model_module": "@jupyter-widgets/controls",
            "_model_module_version": "1.5.0",
            "_model_name": "FloatProgressModel",
            "_view_count": null,
            "_view_module": "@jupyter-widgets/controls",
            "_view_module_version": "1.5.0",
            "_view_name": "ProgressView",
            "bar_style": "",
            "description": "",
            "description_tooltip": null,
            "layout": "IPY_MODEL_62331af299284968b0457af39b2ba197",
            "max": 1,
            "min": 0,
            "orientation": "horizontal",
            "style": "IPY_MODEL_7eaf5f52b4ab45659f84a4b8ed20907f",
            "value": 1
          }
        },
        "683ce16ab3e64d788f58ebf3c04b9179": {
          "model_module": "@jupyter-widgets/base",
          "model_name": "LayoutModel",
          "model_module_version": "1.2.0",
          "state": {
            "_model_module": "@jupyter-widgets/base",
            "_model_module_version": "1.2.0",
            "_model_name": "LayoutModel",
            "_view_count": null,
            "_view_module": "@jupyter-widgets/base",
            "_view_module_version": "1.2.0",
            "_view_name": "LayoutView",
            "align_content": null,
            "align_items": null,
            "align_self": null,
            "border": null,
            "bottom": null,
            "display": null,
            "flex": null,
            "flex_flow": null,
            "grid_area": null,
            "grid_auto_columns": null,
            "grid_auto_flow": null,
            "grid_auto_rows": null,
            "grid_column": null,
            "grid_gap": null,
            "grid_row": null,
            "grid_template_areas": null,
            "grid_template_columns": null,
            "grid_template_rows": null,
            "height": null,
            "justify_content": null,
            "justify_items": null,
            "left": null,
            "margin": null,
            "max_height": null,
            "max_width": null,
            "min_height": null,
            "min_width": null,
            "object_fit": null,
            "object_position": null,
            "order": null,
            "overflow": null,
            "overflow_x": null,
            "overflow_y": null,
            "padding": null,
            "right": null,
            "top": null,
            "visibility": null,
            "width": null
          }
        },
        "6633b84034724b2bada9ed643b3e9900": {
          "model_module": "@jupyter-widgets/base",
          "model_name": "LayoutModel",
          "model_module_version": "1.2.0",
          "state": {
            "_model_module": "@jupyter-widgets/base",
            "_model_module_version": "1.2.0",
            "_model_name": "LayoutModel",
            "_view_count": null,
            "_view_module": "@jupyter-widgets/base",
            "_view_module_version": "1.2.0",
            "_view_name": "LayoutView",
            "align_content": null,
            "align_items": null,
            "align_self": null,
            "border": null,
            "bottom": null,
            "display": null,
            "flex": null,
            "flex_flow": null,
            "grid_area": null,
            "grid_auto_columns": null,
            "grid_auto_flow": null,
            "grid_auto_rows": null,
            "grid_column": null,
            "grid_gap": null,
            "grid_row": null,
            "grid_template_areas": null,
            "grid_template_columns": null,
            "grid_template_rows": null,
            "height": null,
            "justify_content": null,
            "justify_items": null,
            "left": null,
            "margin": null,
            "max_height": null,
            "max_width": null,
            "min_height": null,
            "min_width": null,
            "object_fit": null,
            "object_position": null,
            "order": null,
            "overflow": null,
            "overflow_x": null,
            "overflow_y": null,
            "padding": null,
            "right": null,
            "top": null,
            "visibility": null,
            "width": null
          }
        },
        "38014c16114a4329853c1533d35a119b": {
          "model_module": "@jupyter-widgets/controls",
          "model_name": "DescriptionStyleModel",
          "model_module_version": "1.5.0",
          "state": {
            "_model_module": "@jupyter-widgets/controls",
            "_model_module_version": "1.5.0",
            "_model_name": "DescriptionStyleModel",
            "_view_count": null,
            "_view_module": "@jupyter-widgets/base",
            "_view_module_version": "1.2.0",
            "_view_name": "StyleView",
            "description_width": ""
          }
        },
        "62331af299284968b0457af39b2ba197": {
          "model_module": "@jupyter-widgets/base",
          "model_name": "LayoutModel",
          "model_module_version": "1.2.0",
          "state": {
            "_model_module": "@jupyter-widgets/base",
            "_model_module_version": "1.2.0",
            "_model_name": "LayoutModel",
            "_view_count": null,
            "_view_module": "@jupyter-widgets/base",
            "_view_module_version": "1.2.0",
            "_view_name": "LayoutView",
            "align_content": null,
            "align_items": null,
            "align_self": null,
            "border": null,
            "bottom": null,
            "display": null,
            "flex": null,
            "flex_flow": null,
            "grid_area": null,
            "grid_auto_columns": null,
            "grid_auto_flow": null,
            "grid_auto_rows": null,
            "grid_column": null,
            "grid_gap": null,
            "grid_row": null,
            "grid_template_areas": null,
            "grid_template_columns": null,
            "grid_template_rows": null,
            "height": null,
            "justify_content": null,
            "justify_items": null,
            "left": null,
            "margin": null,
            "max_height": null,
            "max_width": null,
            "min_height": null,
            "min_width": null,
            "object_fit": null,
            "object_position": null,
            "order": null,
            "overflow": null,
            "overflow_x": null,
            "overflow_y": null,
            "padding": null,
            "right": null,
            "top": null,
            "visibility": null,
            "width": null
          }
        },
        "7eaf5f52b4ab45659f84a4b8ed20907f": {
          "model_module": "@jupyter-widgets/controls",
          "model_name": "ProgressStyleModel",
          "model_module_version": "1.5.0",
          "state": {
            "_model_module": "@jupyter-widgets/controls",
            "_model_module_version": "1.5.0",
            "_model_name": "ProgressStyleModel",
            "_view_count": null,
            "_view_module": "@jupyter-widgets/base",
            "_view_module_version": "1.2.0",
            "_view_name": "StyleView",
            "bar_color": null,
            "description_width": ""
          }
        },
        "779e942370a0468c9c5ba846ab4c2e24": {
          "model_module": "@jupyter-widgets/controls",
          "model_name": "VBoxModel",
          "model_module_version": "1.5.0",
          "state": {
            "_dom_classes": [],
            "_model_module": "@jupyter-widgets/controls",
            "_model_module_version": "1.5.0",
            "_model_name": "VBoxModel",
            "_view_count": null,
            "_view_module": "@jupyter-widgets/controls",
            "_view_module_version": "1.5.0",
            "_view_name": "VBoxView",
            "box_style": "",
            "children": [
              "IPY_MODEL_648e029c87474522aff2f6ad1f519b6a",
              "IPY_MODEL_100d810bbd5242dc87700a04fd2b4d0f"
            ],
            "layout": "IPY_MODEL_3d0c46798138400cb15d884e5e031a32"
          }
        },
        "648e029c87474522aff2f6ad1f519b6a": {
          "model_module": "@jupyter-widgets/controls",
          "model_name": "LabelModel",
          "model_module_version": "1.5.0",
          "state": {
            "_dom_classes": [],
            "_model_module": "@jupyter-widgets/controls",
            "_model_module_version": "1.5.0",
            "_model_name": "LabelModel",
            "_view_count": null,
            "_view_module": "@jupyter-widgets/controls",
            "_view_module_version": "1.5.0",
            "_view_name": "LabelView",
            "description": "",
            "description_tooltip": null,
            "layout": "IPY_MODEL_a8e01ecdea094bdcac2e42f23beb3dd8",
            "placeholder": "​",
            "style": "IPY_MODEL_8199be31aa624bc782ddc2709414a91f",
            "value": "0.014 MB of 0.014 MB uploaded\r"
          }
        },
        "100d810bbd5242dc87700a04fd2b4d0f": {
          "model_module": "@jupyter-widgets/controls",
          "model_name": "FloatProgressModel",
          "model_module_version": "1.5.0",
          "state": {
            "_dom_classes": [],
            "_model_module": "@jupyter-widgets/controls",
            "_model_module_version": "1.5.0",
            "_model_name": "FloatProgressModel",
            "_view_count": null,
            "_view_module": "@jupyter-widgets/controls",
            "_view_module_version": "1.5.0",
            "_view_name": "ProgressView",
            "bar_style": "",
            "description": "",
            "description_tooltip": null,
            "layout": "IPY_MODEL_04c747fbc53649878b98dc8a2bbb60a1",
            "max": 1,
            "min": 0,
            "orientation": "horizontal",
            "style": "IPY_MODEL_c5af6f808bda4b55ab0ca891a42c18e3",
            "value": 1
          }
        },
        "3d0c46798138400cb15d884e5e031a32": {
          "model_module": "@jupyter-widgets/base",
          "model_name": "LayoutModel",
          "model_module_version": "1.2.0",
          "state": {
            "_model_module": "@jupyter-widgets/base",
            "_model_module_version": "1.2.0",
            "_model_name": "LayoutModel",
            "_view_count": null,
            "_view_module": "@jupyter-widgets/base",
            "_view_module_version": "1.2.0",
            "_view_name": "LayoutView",
            "align_content": null,
            "align_items": null,
            "align_self": null,
            "border": null,
            "bottom": null,
            "display": null,
            "flex": null,
            "flex_flow": null,
            "grid_area": null,
            "grid_auto_columns": null,
            "grid_auto_flow": null,
            "grid_auto_rows": null,
            "grid_column": null,
            "grid_gap": null,
            "grid_row": null,
            "grid_template_areas": null,
            "grid_template_columns": null,
            "grid_template_rows": null,
            "height": null,
            "justify_content": null,
            "justify_items": null,
            "left": null,
            "margin": null,
            "max_height": null,
            "max_width": null,
            "min_height": null,
            "min_width": null,
            "object_fit": null,
            "object_position": null,
            "order": null,
            "overflow": null,
            "overflow_x": null,
            "overflow_y": null,
            "padding": null,
            "right": null,
            "top": null,
            "visibility": null,
            "width": null
          }
        },
        "a8e01ecdea094bdcac2e42f23beb3dd8": {
          "model_module": "@jupyter-widgets/base",
          "model_name": "LayoutModel",
          "model_module_version": "1.2.0",
          "state": {
            "_model_module": "@jupyter-widgets/base",
            "_model_module_version": "1.2.0",
            "_model_name": "LayoutModel",
            "_view_count": null,
            "_view_module": "@jupyter-widgets/base",
            "_view_module_version": "1.2.0",
            "_view_name": "LayoutView",
            "align_content": null,
            "align_items": null,
            "align_self": null,
            "border": null,
            "bottom": null,
            "display": null,
            "flex": null,
            "flex_flow": null,
            "grid_area": null,
            "grid_auto_columns": null,
            "grid_auto_flow": null,
            "grid_auto_rows": null,
            "grid_column": null,
            "grid_gap": null,
            "grid_row": null,
            "grid_template_areas": null,
            "grid_template_columns": null,
            "grid_template_rows": null,
            "height": null,
            "justify_content": null,
            "justify_items": null,
            "left": null,
            "margin": null,
            "max_height": null,
            "max_width": null,
            "min_height": null,
            "min_width": null,
            "object_fit": null,
            "object_position": null,
            "order": null,
            "overflow": null,
            "overflow_x": null,
            "overflow_y": null,
            "padding": null,
            "right": null,
            "top": null,
            "visibility": null,
            "width": null
          }
        },
        "8199be31aa624bc782ddc2709414a91f": {
          "model_module": "@jupyter-widgets/controls",
          "model_name": "DescriptionStyleModel",
          "model_module_version": "1.5.0",
          "state": {
            "_model_module": "@jupyter-widgets/controls",
            "_model_module_version": "1.5.0",
            "_model_name": "DescriptionStyleModel",
            "_view_count": null,
            "_view_module": "@jupyter-widgets/base",
            "_view_module_version": "1.2.0",
            "_view_name": "StyleView",
            "description_width": ""
          }
        },
        "04c747fbc53649878b98dc8a2bbb60a1": {
          "model_module": "@jupyter-widgets/base",
          "model_name": "LayoutModel",
          "model_module_version": "1.2.0",
          "state": {
            "_model_module": "@jupyter-widgets/base",
            "_model_module_version": "1.2.0",
            "_model_name": "LayoutModel",
            "_view_count": null,
            "_view_module": "@jupyter-widgets/base",
            "_view_module_version": "1.2.0",
            "_view_name": "LayoutView",
            "align_content": null,
            "align_items": null,
            "align_self": null,
            "border": null,
            "bottom": null,
            "display": null,
            "flex": null,
            "flex_flow": null,
            "grid_area": null,
            "grid_auto_columns": null,
            "grid_auto_flow": null,
            "grid_auto_rows": null,
            "grid_column": null,
            "grid_gap": null,
            "grid_row": null,
            "grid_template_areas": null,
            "grid_template_columns": null,
            "grid_template_rows": null,
            "height": null,
            "justify_content": null,
            "justify_items": null,
            "left": null,
            "margin": null,
            "max_height": null,
            "max_width": null,
            "min_height": null,
            "min_width": null,
            "object_fit": null,
            "object_position": null,
            "order": null,
            "overflow": null,
            "overflow_x": null,
            "overflow_y": null,
            "padding": null,
            "right": null,
            "top": null,
            "visibility": null,
            "width": null
          }
        },
        "c5af6f808bda4b55ab0ca891a42c18e3": {
          "model_module": "@jupyter-widgets/controls",
          "model_name": "ProgressStyleModel",
          "model_module_version": "1.5.0",
          "state": {
            "_model_module": "@jupyter-widgets/controls",
            "_model_module_version": "1.5.0",
            "_model_name": "ProgressStyleModel",
            "_view_count": null,
            "_view_module": "@jupyter-widgets/base",
            "_view_module_version": "1.2.0",
            "_view_name": "StyleView",
            "bar_color": null,
            "description_width": ""
          }
        }
      }
    }
  },
  "nbformat": 4,
  "nbformat_minor": 0
}